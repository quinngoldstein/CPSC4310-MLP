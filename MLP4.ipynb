{
 "cells": [
  {
   "cell_type": "markdown",
   "metadata": {},
   "source": [
    "## MLP4\n",
    "\n",
    "### Neural Network Model"
   ]
  },
  {
   "cell_type": "markdown",
   "metadata": {},
   "source": [
    "## Setup"
   ]
  },
  {
   "cell_type": "code",
   "execution_count": 1,
   "metadata": {},
   "outputs": [],
   "source": [
    "# Python ≥3.5 is required\n",
    "import sys\n",
    "assert sys.version_info >= (3, 5)\n",
    "\n",
    "# Scikit-Learn ≥0.20 is required\n",
    "import sklearn\n",
    "assert sklearn.__version__ >= \"0.20\"\n",
    "\n",
    "try:\n",
    "    # %tensorflow_version only exists in Colab.\n",
    "    %tensorflow_version 2.x\n",
    "except Exception:\n",
    "    pass\n",
    "\n",
    "# TensorFlow ≥2.0 is required\n",
    "import tensorflow as tf\n",
    "assert tf.__version__ >= \"2.0\"\n",
    "\n",
    "# Common imports\n",
    "import numpy as np\n",
    "import pandas as pd\n",
    "import os\n",
    "from sklearn.metrics import confusion_matrix\n",
    "from sklearn.metrics import classification_report\n",
    "from sklearn.model_selection import train_test_split\n",
    "\n",
    "# to make this notebook's output stable across runs\n",
    "np.random.seed(42)\n",
    "\n",
    "# To plot pretty figures\n",
    "%matplotlib inline\n",
    "import matplotlib as mpl\n",
    "import matplotlib.pyplot as plt\n",
    "mpl.rc('axes', labelsize=14)\n",
    "mpl.rc('xtick', labelsize=12)\n",
    "mpl.rc('ytick', labelsize=12)\n",
    "\n",
    "# Where to save the figures\n",
    "PROJECT_ROOT_DIR = \".\"\n",
    "CHAPTER_ID = \"NN_deep\"\n",
    "IMAGES_PATH = os.path.join(PROJECT_ROOT_DIR, \"images\", CHAPTER_ID)\n",
    "os.makedirs(IMAGES_PATH, exist_ok=True)\n",
    "\n",
    "def save_fig(fig_id, tight_layout=True, fig_extension=\"png\", resolution=300):\n",
    "    path = os.path.join(IMAGES_PATH, fig_id + \".\" + fig_extension)\n",
    "    print(\"Saving figure\", fig_id)\n",
    "    if tight_layout:\n",
    "        plt.tight_layout()\n",
    "    plt.savefig(path, format=fig_extension, dpi=resolution)\n",
    "\n",
    "# Ignore useless warnings (see SciPy issue #5998)\n",
    "import warnings\n",
    "warnings.filterwarnings(action=\"ignore\", message=\"^internal gelsd\")"
   ]
  },
  {
   "cell_type": "code",
   "execution_count": 2,
   "metadata": {},
   "outputs": [
    {
     "data": {
      "text/plain": [
       "(-5.0, 5.0, -1.2, 1.2)"
      ]
     },
     "execution_count": 2,
     "metadata": {},
     "output_type": "execute_result"
    },
    {
     "data": {
      "image/png": "[encoded data removed]",
      "text/plain": [
       "<Figure size 792x288 with 1 Axes>"
      ]
     },
     "metadata": {
      "needs_background": "light"
     },
     "output_type": "display_data"
    }
   ],
   "source": [
    "def sigmoid(z):\n",
    "    return 1 / (1 + np.exp(-z))\n",
    "\n",
    "def relu(z):\n",
    "    return np.maximum(0, z)\n",
    "\n",
    "def derivative(f, z, eps=0.000001):\n",
    "    return (f(z + eps) - f(z - eps))/(2 * eps)\n",
    "\n",
    "\n",
    "z = np.linspace(-5, 5, 200)\n",
    "\n",
    "plt.figure(figsize=(11,4))\n",
    "\n",
    "plt.subplot(121)\n",
    "plt.plot(z, np.sign(z), \"r-\", linewidth=1, label=\"Step\")\n",
    "plt.plot(z, sigmoid(z), \"g--\", linewidth=2, label=\"Sigmoid\")\n",
    "plt.plot(z, np.tanh(z), \"b-\", linewidth=2, label=\"Tanh\")\n",
    "plt.plot(z, relu(z), \"m-.\", linewidth=2, label=\"ReLU\")\n",
    "plt.grid(True)\n",
    "plt.legend(loc=\"center right\", fontsize=14)\n",
    "plt.title(\"Activation functions\", fontsize=14)\n",
    "plt.axis([-5, 5, -1.2, 1.2])"
   ]
  },
  {
   "cell_type": "markdown",
   "metadata": {},
   "source": [
    "### import tensorflow and keras"
   ]
  },
  {
   "cell_type": "code",
   "execution_count": 3,
   "metadata": {},
   "outputs": [],
   "source": [
    "import tensorflow as tf\n",
    "from tensorflow import keras"
   ]
  },
  {
   "cell_type": "markdown",
   "metadata": {},
   "source": [
    "### Data Loading"
   ]
  },
  {
   "cell_type": "code",
   "execution_count": 4,
   "metadata": {},
   "outputs": [],
   "source": [
    "# read data from CSV file to dataframe\n",
    "df = pd.read_csv(r\"./input/kc_sales_cleaned.csv\")"
   ]
  },
  {
   "cell_type": "markdown",
   "metadata": {},
   "source": [
    "### Quick view of the data"
   ]
  },
  {
   "cell_type": "code",
   "execution_count": 5,
   "metadata": {},
   "outputs": [
    {
     "name": "stdout",
     "output_type": "stream",
     "text": [
      "<class 'pandas.core.frame.DataFrame'>\n",
      "RangeIndex: 21613 entries, 0 to 21612\n",
      "Data columns (total 25 columns):\n",
      " #   Column         Non-Null Count  Dtype  \n",
      "---  ------         --------------  -----  \n",
      " 0   Unnamed: 0     21613 non-null  int64  \n",
      " 1   id             21613 non-null  int64  \n",
      " 2   date           21613 non-null  object \n",
      " 3   price          21613 non-null  float64\n",
      " 4   bedrooms       21613 non-null  int64  \n",
      " 5   bathrooms      21613 non-null  float64\n",
      " 6   sqft_living    21613 non-null  int64  \n",
      " 7   sqft_lot       21613 non-null  int64  \n",
      " 8   floors         21613 non-null  float64\n",
      " 9   waterfront     21613 non-null  int64  \n",
      " 10  view           21613 non-null  int64  \n",
      " 11  condition      21613 non-null  int64  \n",
      " 12  grade          21613 non-null  int64  \n",
      " 13  sqft_above     21613 non-null  int64  \n",
      " 14  sqft_basement  21613 non-null  int64  \n",
      " 15  yr_built       21613 non-null  int64  \n",
      " 16  yr_renovated   21613 non-null  int64  \n",
      " 17  zipcode        21613 non-null  int64  \n",
      " 18  lat            21613 non-null  float64\n",
      " 19  long           21613 non-null  float64\n",
      " 20  sqft_living15  21613 non-null  int64  \n",
      " 21  sqft_lot15     21613 non-null  int64  \n",
      " 22  date_time      21613 non-null  object \n",
      " 23  most_recent    21613 non-null  int64  \n",
      " 24  price_range    21613 non-null  int64  \n",
      "dtypes: float64(5), int64(18), object(2)\n",
      "memory usage: 4.1+ MB\n",
      "None\n"
     ]
    }
   ],
   "source": [
    "print(df.info())"
   ]
  },
  {
   "cell_type": "markdown",
   "metadata": {},
   "source": [
    "### Training and testing datasets"
   ]
  },
  {
   "cell_type": "code",
   "execution_count": 6,
   "metadata": {},
   "outputs": [
    {
     "name": "stdout",
     "output_type": "stream",
     "text": [
      "   bedrooms  bathrooms  sqft_living  sqft_lot  most_recent\n",
      "0         3       1.00         1180      5650         1955\n",
      "1         3       2.25         2570      7242         1991\n",
      "2         2       1.00          770     10000         1933\n",
      "3         4       3.00         1960      5000         1965\n",
      "4         3       2.00         1680      8080         1987\n",
      "[[3.000e+00 1.000e+00 1.180e+03 5.650e+03 1.955e+03]\n",
      " [3.000e+00 2.250e+00 2.570e+03 7.242e+03 1.991e+03]\n",
      " [2.000e+00 1.000e+00 7.700e+02 1.000e+04 1.933e+03]\n",
      " [4.000e+00 3.000e+00 1.960e+03 5.000e+03 1.965e+03]\n",
      " [3.000e+00 2.000e+00 1.680e+03 8.080e+03 1.987e+03]]\n",
      "[0 0 0 1 0]\n"
     ]
    }
   ],
   "source": [
    "# Import `train_test_split` from `sklearn.model_selection`\n",
    "from sklearn.model_selection import train_test_split\n",
    "\n",
    "# Specify the data \n",
    "\n",
    "# We use bedrooms, bathrooms, sqft_living, sqft_lot, and 'most_recent' attributes\n",
    "X = df[['bedrooms', 'bathrooms', 'sqft_living', 'sqft_lot', 'most_recent']]\n",
    "#y = df['price_range']\n",
    "\n",
    "print(X[:5])\n",
    "\n",
    "X = X.values\n",
    "\n",
    "# Specify the target labels and flatten the array\n",
    "y = np.ravel(df.price_range)\n",
    "\n",
    "# first 5 row data for X (attributes) and y (class label)\n",
    "print(X[:10][:5])\n",
    "print(y[:5])\n",
    "\n",
    "# Split the data up in train and test sets\n",
    "X_train, X_test, y_train, y_test = train_test_split(X, y, test_size=0.33, random_state=42)"
   ]
  },
  {
   "cell_type": "markdown",
   "metadata": {},
   "source": [
    "### Standardize the data"
   ]
  },
  {
   "cell_type": "code",
   "execution_count": 7,
   "metadata": {},
   "outputs": [],
   "source": [
    "# Import `StandardScaler` from `sklearn.preprocessing`\n",
    "from sklearn.preprocessing import StandardScaler\n",
    "\n",
    "# Define the scaler \n",
    "scaler = StandardScaler().fit(X_train)\n",
    "\n",
    "# Scale the train set\n",
    "X_train = scaler.transform(X_train)\n",
    "\n",
    "# Scale the test set\n",
    "X_test = scaler.transform(X_test)"
   ]
  },
  {
   "cell_type": "markdown",
   "metadata": {},
   "source": [
    "## Model Construction\n",
    "\n",
    "- input layer (5 attributes = 5 units)\n",
    "- 2 hidden layer (6 units, 6 units)\n",
    "- output layer (1 unit)"
   ]
  },
  {
   "cell_type": "code",
   "execution_count": 8,
   "metadata": {},
   "outputs": [],
   "source": [
    "# Initialize the constructor\n",
    "model = keras.models.Sequential()\n",
    "\n",
    "# Add the first hidden layer and specify the shape of input layer\n",
    "model.add(keras.layers.Dense(6, activation='relu', input_shape=(5,)))\n",
    "\n",
    "# Add 2nd hidden hidden later\n",
    "model.add(keras.layers.Dense(6, activation='relu'))\n",
    "\n",
    "# Add an output layer \n",
    "model.add(keras.layers.Dense(1, activation='sigmoid'))"
   ]
  },
  {
   "cell_type": "markdown",
   "metadata": {},
   "source": [
    "### information about the model"
   ]
  },
  {
   "cell_type": "code",
   "execution_count": 9,
   "metadata": {},
   "outputs": [
    {
     "name": "stdout",
     "output_type": "stream",
     "text": [
      "Model: \"sequential\"\n",
      "_________________________________________________________________\n",
      " Layer (type)                Output Shape              Param #   \n",
      "=================================================================\n",
      " dense (Dense)               (None, 6)                 36        \n",
      "                                                                 \n",
      " dense_1 (Dense)             (None, 6)                 42        \n",
      "                                                                 \n",
      " dense_2 (Dense)             (None, 1)                 7         \n",
      "                                                                 \n",
      "=================================================================\n",
      "Total params: 85\n",
      "Trainable params: 85\n",
      "Non-trainable params: 0\n",
      "_________________________________________________________________\n"
     ]
    },
    {
     "data": {
      "text/plain": [
       "[array([[-0.7278522 ,  0.39516777,  0.6984039 , -0.4920119 , -0.337887  ,\n",
       "         -0.66464496],\n",
       "        [-0.48124105, -0.36120665,  0.20491451,  0.47278756, -0.3931877 ,\n",
       "          0.39778787],\n",
       "        [ 0.18836546, -0.57202137,  0.6124014 ,  0.6188167 ,  0.29897672,\n",
       "          0.06445867],\n",
       "        [-0.6161871 ,  0.01115721, -0.56249857,  0.10665715,  0.31979316,\n",
       "          0.09304708],\n",
       "        [ 0.07144988,  0.01825374,  0.09231353, -0.11506248, -0.5156091 ,\n",
       "          0.29769975]], dtype=float32),\n",
       " array([0., 0., 0., 0., 0., 0.], dtype=float32),\n",
       " array([[ 0.3628549 ,  0.30276662, -0.02314639,  0.58831257, -0.69239366,\n",
       "         -0.12705809],\n",
       "        [-0.67117846,  0.1740982 , -0.7039798 ,  0.57342035,  0.5087113 ,\n",
       "         -0.5549258 ],\n",
       "        [ 0.02520972,  0.3905936 , -0.6821201 , -0.4373595 , -0.06038213,\n",
       "          0.23486114],\n",
       "        [ 0.45196456, -0.63454103, -0.46868372,  0.6824338 , -0.0873453 ,\n",
       "         -0.11414683],\n",
       "        [ 0.2009911 ,  0.13378507,  0.4838608 ,  0.29133993,  0.57713157,\n",
       "          0.0579688 ],\n",
       "        [-0.44991946, -0.37670347, -0.09351861, -0.37932432,  0.49122757,\n",
       "         -0.07050794]], dtype=float32),\n",
       " array([0., 0., 0., 0., 0., 0.], dtype=float32),\n",
       " array([[-0.277265  ],\n",
       "        [ 0.3491404 ],\n",
       "        [ 0.7393997 ],\n",
       "        [-0.1697554 ],\n",
       "        [-0.26074404],\n",
       "        [ 0.88916564]], dtype=float32),\n",
       " array([0.], dtype=float32)]"
      ]
     },
     "execution_count": 9,
     "metadata": {},
     "output_type": "execute_result"
    }
   ],
   "source": [
    "# Model output shape\n",
    "model.output_shape\n",
    "\n",
    "# Model summary\n",
    "model.summary()\n",
    "\n",
    "# Model config\n",
    "model.get_config()\n",
    "\n",
    "# List all weight tensors \n",
    "model.get_weights()"
   ]
  },
  {
   "cell_type": "markdown",
   "metadata": {},
   "source": [
    "### compile the model and fit the model to the data"
   ]
  },
  {
   "cell_type": "code",
   "execution_count": 10,
   "metadata": {},
   "outputs": [
    {
     "name": "stdout",
     "output_type": "stream",
     "text": [
      "Epoch 1/3\n",
      "14480/14480 [==============================] - 9s 622us/step - loss: 0.4685 - accuracy: 0.7778\n",
      "Epoch 2/3\n",
      "14480/14480 [==============================] - 9s 615us/step - loss: 0.4509 - accuracy: 0.7881\n",
      "Epoch 3/3\n",
      "14480/14480 [==============================] - 9s 623us/step - loss: 0.4490 - accuracy: 0.7891\n"
     ]
    },
    {
     "data": {
      "text/plain": [
       "<keras.callbacks.History at 0x7f9a9abcb6d0>"
      ]
     },
     "execution_count": 10,
     "metadata": {},
     "output_type": "execute_result"
    }
   ],
   "source": [
    "model.compile(loss='binary_crossentropy',\n",
    "              optimizer='adam',\n",
    "              metrics=['accuracy'])\n",
    "                   \n",
    "model.fit(X_train, y_train,epochs=3, batch_size=1, verbose=1)"
   ]
  },
  {
   "cell_type": "markdown",
   "metadata": {},
   "source": [
    "### predict values"
   ]
  },
  {
   "cell_type": "code",
   "execution_count": 11,
   "metadata": {},
   "outputs": [
    {
     "name": "stdout",
     "output_type": "stream",
     "text": [
      "[0 1 1 1 1]\n",
      "[[0]\n",
      " [1]\n",
      " [1]\n",
      " [1]\n",
      " [1]]\n"
     ]
    }
   ],
   "source": [
    "y_pred = (model.predict(X_test) > 0.5).astype(\"int32\")\n",
    "print(y_test[:5])\n",
    "print(y_pred[:5])"
   ]
  },
  {
   "cell_type": "markdown",
   "metadata": {},
   "source": [
    "### evaluate the model"
   ]
  },
  {
   "cell_type": "code",
   "execution_count": 12,
   "metadata": {},
   "outputs": [
    {
     "name": "stdout",
     "output_type": "stream",
     "text": [
      "223/223 [==============================] - 0s 658us/step - loss: 0.4397 - accuracy: 0.7952\n",
      "[0.4396575391292572, 0.7951773405075073]\n"
     ]
    }
   ],
   "source": [
    "score = model.evaluate(X_test, y_test,verbose=1)\n",
    "\n",
    "print(score)"
   ]
  },
  {
   "cell_type": "code",
   "execution_count": 13,
   "metadata": {},
   "outputs": [
    {
     "name": "stdout",
     "output_type": "stream",
     "text": [
      "[[3960  552]\n",
      " [ 909 1712]]\n",
      "precision: 0.7562\n",
      "recall: 0.6532\n",
      "f1 score: 0.7009\n"
     ]
    }
   ],
   "source": [
    "# Import the modules from `sklearn.metrics`\n",
    "from sklearn.metrics import confusion_matrix, precision_score, recall_score, f1_score, cohen_kappa_score\n",
    "\n",
    "# Confusion matrix\n",
    "cmatrix = confusion_matrix(y_test, y_pred)\n",
    "\n",
    "print(cmatrix)\n",
    "\n",
    "# precision\n",
    "precision = precision_score(y_test, y_pred)\n",
    "\n",
    "# Recall\n",
    "recall = recall_score(y_test, y_pred)\n",
    "\n",
    "# F1 score\n",
    "f1 = f1_score(y_test,y_pred)\n",
    "\n",
    "print('precision: {:.4f}\\nrecall: {:.4f}\\nf1 score: {:.4f}'.format(precision, recall, f1))"
   ]
  },
  {
   "cell_type": "markdown",
   "metadata": {},
   "source": [
    "## Find best parameters"
   ]
  },
  {
   "cell_type": "markdown",
   "metadata": {},
   "source": [
    "### Varying layers"
   ]
  },
  {
   "cell_type": "markdown",
   "metadata": {},
   "source": [
    "#### Model 1\n",
    "\n",
    "- input layer (5 attributes = 5 units)\n",
    "- 2 hidden layers (6 units, 6 units)\n",
    "- output layer (1 unit)"
   ]
  },
  {
   "cell_type": "code",
   "execution_count": 14,
   "metadata": {
    "scrolled": true
   },
   "outputs": [
    {
     "name": "stdout",
     "output_type": "stream",
     "text": [
      "Epoch 1/3\n",
      "19451/19451 [==============================] - 12s 614us/step - loss: 10.6300 - accuracy: 0.6225\n",
      "Epoch 2/3\n",
      "19451/19451 [==============================] - 12s 610us/step - loss: 0.6607 - accuracy: 0.6353\n",
      "Epoch 3/3\n",
      "19451/19451 [==============================] - 12s 609us/step - loss: 0.6562 - accuracy: 0.6353\n",
      "              precision    recall  f1-score   support\n",
      "\n",
      "       Under       0.62      1.00      0.76      1337\n",
      "        Over       0.00      0.00      0.00       825\n",
      "\n",
      "    accuracy                           0.62      2162\n",
      "   macro avg       0.31      0.50      0.38      2162\n",
      "weighted avg       0.38      0.62      0.47      2162\n",
      "\n",
      "Epoch 1/3\n"
     ]
    },
    {
     "name": "stderr",
     "output_type": "stream",
     "text": [
      "/Users/quinngoldstein/opt/anaconda3/lib/python3.8/site-packages/sklearn/metrics/_classification.py:1318: UndefinedMetricWarning: Precision and F-score are ill-defined and being set to 0.0 in labels with no predicted samples. Use `zero_division` parameter to control this behavior.\n",
      "  _warn_prf(average, modifier, msg_start, len(result))\n",
      "/Users/quinngoldstein/opt/anaconda3/lib/python3.8/site-packages/sklearn/metrics/_classification.py:1318: UndefinedMetricWarning: Precision and F-score are ill-defined and being set to 0.0 in labels with no predicted samples. Use `zero_division` parameter to control this behavior.\n",
      "  _warn_prf(average, modifier, msg_start, len(result))\n",
      "/Users/quinngoldstein/opt/anaconda3/lib/python3.8/site-packages/sklearn/metrics/_classification.py:1318: UndefinedMetricWarning: Precision and F-score are ill-defined and being set to 0.0 in labels with no predicted samples. Use `zero_division` parameter to control this behavior.\n",
      "  _warn_prf(average, modifier, msg_start, len(result))\n",
      "/Users/quinngoldstein/opt/anaconda3/lib/python3.8/site-packages/sklearn/metrics/_classification.py:1318: UndefinedMetricWarning: Precision and F-score are ill-defined and being set to 0.0 in labels with no predicted samples. Use `zero_division` parameter to control this behavior.\n",
      "  _warn_prf(average, modifier, msg_start, len(result))\n",
      "/Users/quinngoldstein/opt/anaconda3/lib/python3.8/site-packages/sklearn/metrics/_classification.py:1318: UndefinedMetricWarning: Precision and F-score are ill-defined and being set to 0.0 in labels with no predicted samples. Use `zero_division` parameter to control this behavior.\n",
      "  _warn_prf(average, modifier, msg_start, len(result))\n",
      "/Users/quinngoldstein/opt/anaconda3/lib/python3.8/site-packages/sklearn/metrics/_classification.py:1318: UndefinedMetricWarning: Precision and F-score are ill-defined and being set to 0.0 in labels with no predicted samples. Use `zero_division` parameter to control this behavior.\n",
      "  _warn_prf(average, modifier, msg_start, len(result))\n"
     ]
    },
    {
     "name": "stdout",
     "output_type": "stream",
     "text": [
      "19451/19451 [==============================] - 12s 618us/step - loss: 0.6599 - accuracy: 0.6337\n",
      "Epoch 2/3\n",
      "19451/19451 [==============================] - 12s 619us/step - loss: 0.6688 - accuracy: 0.6337\n",
      "Epoch 3/3\n",
      "19451/19451 [==============================] - 13s 661us/step - loss: 0.6571 - accuracy: 0.6337\n",
      "              precision    recall  f1-score   support\n",
      "\n",
      "       Under       0.63      1.00      0.78      1368\n",
      "        Over       0.00      0.00      0.00       794\n",
      "\n",
      "    accuracy                           0.63      2162\n",
      "   macro avg       0.32      0.50      0.39      2162\n",
      "weighted avg       0.40      0.63      0.49      2162\n",
      "\n",
      "Epoch 1/3\n"
     ]
    },
    {
     "name": "stderr",
     "output_type": "stream",
     "text": [
      "/Users/quinngoldstein/opt/anaconda3/lib/python3.8/site-packages/sklearn/metrics/_classification.py:1318: UndefinedMetricWarning: Precision and F-score are ill-defined and being set to 0.0 in labels with no predicted samples. Use `zero_division` parameter to control this behavior.\n",
      "  _warn_prf(average, modifier, msg_start, len(result))\n",
      "/Users/quinngoldstein/opt/anaconda3/lib/python3.8/site-packages/sklearn/metrics/_classification.py:1318: UndefinedMetricWarning: Precision and F-score are ill-defined and being set to 0.0 in labels with no predicted samples. Use `zero_division` parameter to control this behavior.\n",
      "  _warn_prf(average, modifier, msg_start, len(result))\n",
      "/Users/quinngoldstein/opt/anaconda3/lib/python3.8/site-packages/sklearn/metrics/_classification.py:1318: UndefinedMetricWarning: Precision and F-score are ill-defined and being set to 0.0 in labels with no predicted samples. Use `zero_division` parameter to control this behavior.\n",
      "  _warn_prf(average, modifier, msg_start, len(result))\n",
      "/Users/quinngoldstein/opt/anaconda3/lib/python3.8/site-packages/sklearn/metrics/_classification.py:1318: UndefinedMetricWarning: Precision and F-score are ill-defined and being set to 0.0 in labels with no predicted samples. Use `zero_division` parameter to control this behavior.\n",
      "  _warn_prf(average, modifier, msg_start, len(result))\n",
      "/Users/quinngoldstein/opt/anaconda3/lib/python3.8/site-packages/sklearn/metrics/_classification.py:1318: UndefinedMetricWarning: Precision and F-score are ill-defined and being set to 0.0 in labels with no predicted samples. Use `zero_division` parameter to control this behavior.\n",
      "  _warn_prf(average, modifier, msg_start, len(result))\n",
      "/Users/quinngoldstein/opt/anaconda3/lib/python3.8/site-packages/sklearn/metrics/_classification.py:1318: UndefinedMetricWarning: Precision and F-score are ill-defined and being set to 0.0 in labels with no predicted samples. Use `zero_division` parameter to control this behavior.\n",
      "  _warn_prf(average, modifier, msg_start, len(result))\n"
     ]
    },
    {
     "name": "stdout",
     "output_type": "stream",
     "text": [
      "19451/19451 [==============================] - 15s 777us/step - loss: 0.6599 - accuracy: 0.6336\n",
      "Epoch 2/3\n",
      "19451/19451 [==============================] - 12s 637us/step - loss: 0.6571 - accuracy: 0.6335\n",
      "Epoch 3/3\n",
      "19451/19451 [==============================] - 17s 894us/step - loss: 0.6560 - accuracy: 0.6332\n",
      "              precision    recall  f1-score   support\n",
      "\n",
      "       Under       0.63      1.00      0.78      1370\n",
      "        Over       0.00      0.00      0.00       792\n",
      "\n",
      "    accuracy                           0.63      2162\n",
      "   macro avg       0.32      0.50      0.39      2162\n",
      "weighted avg       0.40      0.63      0.49      2162\n",
      "\n",
      "Epoch 1/3\n"
     ]
    },
    {
     "name": "stderr",
     "output_type": "stream",
     "text": [
      "/Users/quinngoldstein/opt/anaconda3/lib/python3.8/site-packages/sklearn/metrics/_classification.py:1318: UndefinedMetricWarning: Precision and F-score are ill-defined and being set to 0.0 in labels with no predicted samples. Use `zero_division` parameter to control this behavior.\n",
      "  _warn_prf(average, modifier, msg_start, len(result))\n",
      "/Users/quinngoldstein/opt/anaconda3/lib/python3.8/site-packages/sklearn/metrics/_classification.py:1318: UndefinedMetricWarning: Precision and F-score are ill-defined and being set to 0.0 in labels with no predicted samples. Use `zero_division` parameter to control this behavior.\n",
      "  _warn_prf(average, modifier, msg_start, len(result))\n",
      "/Users/quinngoldstein/opt/anaconda3/lib/python3.8/site-packages/sklearn/metrics/_classification.py:1318: UndefinedMetricWarning: Precision and F-score are ill-defined and being set to 0.0 in labels with no predicted samples. Use `zero_division` parameter to control this behavior.\n",
      "  _warn_prf(average, modifier, msg_start, len(result))\n",
      "/Users/quinngoldstein/opt/anaconda3/lib/python3.8/site-packages/sklearn/metrics/_classification.py:1318: UndefinedMetricWarning: Precision and F-score are ill-defined and being set to 0.0 in labels with no predicted samples. Use `zero_division` parameter to control this behavior.\n",
      "  _warn_prf(average, modifier, msg_start, len(result))\n",
      "/Users/quinngoldstein/opt/anaconda3/lib/python3.8/site-packages/sklearn/metrics/_classification.py:1318: UndefinedMetricWarning: Precision and F-score are ill-defined and being set to 0.0 in labels with no predicted samples. Use `zero_division` parameter to control this behavior.\n",
      "  _warn_prf(average, modifier, msg_start, len(result))\n",
      "/Users/quinngoldstein/opt/anaconda3/lib/python3.8/site-packages/sklearn/metrics/_classification.py:1318: UndefinedMetricWarning: Precision and F-score are ill-defined and being set to 0.0 in labels with no predicted samples. Use `zero_division` parameter to control this behavior.\n",
      "  _warn_prf(average, modifier, msg_start, len(result))\n"
     ]
    },
    {
     "name": "stdout",
     "output_type": "stream",
     "text": [
      "19452/19452 [==============================] - 12s 627us/step - loss: 0.6505 - accuracy: 0.6307\n",
      "Epoch 2/3\n",
      "19452/19452 [==============================] - 16s 806us/step - loss: 0.6645 - accuracy: 0.6344\n",
      "Epoch 3/3\n",
      "19452/19452 [==============================] - 17s 874us/step - loss: 0.6575 - accuracy: 0.6329\n",
      "              precision    recall  f1-score   support\n",
      "\n",
      "       Under       0.64      1.00      0.78      1382\n",
      "        Over       0.00      0.00      0.00       779\n",
      "\n",
      "    accuracy                           0.64      2161\n",
      "   macro avg       0.32      0.50      0.39      2161\n",
      "weighted avg       0.41      0.64      0.50      2161\n",
      "\n",
      "Epoch 1/3\n"
     ]
    },
    {
     "name": "stderr",
     "output_type": "stream",
     "text": [
      "/Users/quinngoldstein/opt/anaconda3/lib/python3.8/site-packages/sklearn/metrics/_classification.py:1318: UndefinedMetricWarning: Precision and F-score are ill-defined and being set to 0.0 in labels with no predicted samples. Use `zero_division` parameter to control this behavior.\n",
      "  _warn_prf(average, modifier, msg_start, len(result))\n",
      "/Users/quinngoldstein/opt/anaconda3/lib/python3.8/site-packages/sklearn/metrics/_classification.py:1318: UndefinedMetricWarning: Precision and F-score are ill-defined and being set to 0.0 in labels with no predicted samples. Use `zero_division` parameter to control this behavior.\n",
      "  _warn_prf(average, modifier, msg_start, len(result))\n",
      "/Users/quinngoldstein/opt/anaconda3/lib/python3.8/site-packages/sklearn/metrics/_classification.py:1318: UndefinedMetricWarning: Precision and F-score are ill-defined and being set to 0.0 in labels with no predicted samples. Use `zero_division` parameter to control this behavior.\n",
      "  _warn_prf(average, modifier, msg_start, len(result))\n",
      "/Users/quinngoldstein/opt/anaconda3/lib/python3.8/site-packages/sklearn/metrics/_classification.py:1318: UndefinedMetricWarning: Precision and F-score are ill-defined and being set to 0.0 in labels with no predicted samples. Use `zero_division` parameter to control this behavior.\n",
      "  _warn_prf(average, modifier, msg_start, len(result))\n",
      "/Users/quinngoldstein/opt/anaconda3/lib/python3.8/site-packages/sklearn/metrics/_classification.py:1318: UndefinedMetricWarning: Precision and F-score are ill-defined and being set to 0.0 in labels with no predicted samples. Use `zero_division` parameter to control this behavior.\n",
      "  _warn_prf(average, modifier, msg_start, len(result))\n",
      "/Users/quinngoldstein/opt/anaconda3/lib/python3.8/site-packages/sklearn/metrics/_classification.py:1318: UndefinedMetricWarning: Precision and F-score are ill-defined and being set to 0.0 in labels with no predicted samples. Use `zero_division` parameter to control this behavior.\n",
      "  _warn_prf(average, modifier, msg_start, len(result))\n"
     ]
    },
    {
     "name": "stdout",
     "output_type": "stream",
     "text": [
      "19452/19452 [==============================] - 15s 780us/step - loss: 0.6573 - accuracy: 0.6333\n",
      "Epoch 2/3\n",
      "19452/19452 [==============================] - 16s 798us/step - loss: 0.6573 - accuracy: 0.6333\n",
      "Epoch 3/3\n",
      "19452/19452 [==============================] - 12s 608us/step - loss: 0.6573 - accuracy: 0.6333\n",
      "              precision    recall  f1-score   support\n",
      "\n",
      "       Under       0.64      1.00      0.78      1376\n",
      "        Over       0.00      0.00      0.00       785\n",
      "\n",
      "    accuracy                           0.64      2161\n",
      "   macro avg       0.32      0.50      0.39      2161\n",
      "weighted avg       0.41      0.64      0.50      2161\n",
      "\n",
      "Epoch 1/3\n"
     ]
    },
    {
     "name": "stderr",
     "output_type": "stream",
     "text": [
      "/Users/quinngoldstein/opt/anaconda3/lib/python3.8/site-packages/sklearn/metrics/_classification.py:1318: UndefinedMetricWarning: Precision and F-score are ill-defined and being set to 0.0 in labels with no predicted samples. Use `zero_division` parameter to control this behavior.\n",
      "  _warn_prf(average, modifier, msg_start, len(result))\n",
      "/Users/quinngoldstein/opt/anaconda3/lib/python3.8/site-packages/sklearn/metrics/_classification.py:1318: UndefinedMetricWarning: Precision and F-score are ill-defined and being set to 0.0 in labels with no predicted samples. Use `zero_division` parameter to control this behavior.\n",
      "  _warn_prf(average, modifier, msg_start, len(result))\n",
      "/Users/quinngoldstein/opt/anaconda3/lib/python3.8/site-packages/sklearn/metrics/_classification.py:1318: UndefinedMetricWarning: Precision and F-score are ill-defined and being set to 0.0 in labels with no predicted samples. Use `zero_division` parameter to control this behavior.\n",
      "  _warn_prf(average, modifier, msg_start, len(result))\n",
      "/Users/quinngoldstein/opt/anaconda3/lib/python3.8/site-packages/sklearn/metrics/_classification.py:1318: UndefinedMetricWarning: Precision and F-score are ill-defined and being set to 0.0 in labels with no predicted samples. Use `zero_division` parameter to control this behavior.\n",
      "  _warn_prf(average, modifier, msg_start, len(result))\n",
      "/Users/quinngoldstein/opt/anaconda3/lib/python3.8/site-packages/sklearn/metrics/_classification.py:1318: UndefinedMetricWarning: Precision and F-score are ill-defined and being set to 0.0 in labels with no predicted samples. Use `zero_division` parameter to control this behavior.\n",
      "  _warn_prf(average, modifier, msg_start, len(result))\n",
      "/Users/quinngoldstein/opt/anaconda3/lib/python3.8/site-packages/sklearn/metrics/_classification.py:1318: UndefinedMetricWarning: Precision and F-score are ill-defined and being set to 0.0 in labels with no predicted samples. Use `zero_division` parameter to control this behavior.\n",
      "  _warn_prf(average, modifier, msg_start, len(result))\n"
     ]
    },
    {
     "name": "stdout",
     "output_type": "stream",
     "text": [
      "19452/19452 [==============================] - 13s 628us/step - loss: 0.6569 - accuracy: 0.6342\n",
      "Epoch 2/3\n",
      "19452/19452 [==============================] - 17s 881us/step - loss: 0.6569 - accuracy: 0.6342\n",
      "Epoch 3/3\n",
      "19452/19452 [==============================] - 12s 612us/step - loss: 0.6568 - accuracy: 0.6342\n",
      "              precision    recall  f1-score   support\n",
      "\n",
      "       Under       0.63      1.00      0.77      1357\n",
      "        Over       0.00      0.00      0.00       804\n",
      "\n",
      "    accuracy                           0.63      2161\n",
      "   macro avg       0.31      0.50      0.39      2161\n",
      "weighted avg       0.39      0.63      0.48      2161\n",
      "\n",
      "Epoch 1/3\n"
     ]
    },
    {
     "name": "stderr",
     "output_type": "stream",
     "text": [
      "/Users/quinngoldstein/opt/anaconda3/lib/python3.8/site-packages/sklearn/metrics/_classification.py:1318: UndefinedMetricWarning: Precision and F-score are ill-defined and being set to 0.0 in labels with no predicted samples. Use `zero_division` parameter to control this behavior.\n",
      "  _warn_prf(average, modifier, msg_start, len(result))\n",
      "/Users/quinngoldstein/opt/anaconda3/lib/python3.8/site-packages/sklearn/metrics/_classification.py:1318: UndefinedMetricWarning: Precision and F-score are ill-defined and being set to 0.0 in labels with no predicted samples. Use `zero_division` parameter to control this behavior.\n",
      "  _warn_prf(average, modifier, msg_start, len(result))\n",
      "/Users/quinngoldstein/opt/anaconda3/lib/python3.8/site-packages/sklearn/metrics/_classification.py:1318: UndefinedMetricWarning: Precision and F-score are ill-defined and being set to 0.0 in labels with no predicted samples. Use `zero_division` parameter to control this behavior.\n",
      "  _warn_prf(average, modifier, msg_start, len(result))\n",
      "/Users/quinngoldstein/opt/anaconda3/lib/python3.8/site-packages/sklearn/metrics/_classification.py:1318: UndefinedMetricWarning: Precision and F-score are ill-defined and being set to 0.0 in labels with no predicted samples. Use `zero_division` parameter to control this behavior.\n",
      "  _warn_prf(average, modifier, msg_start, len(result))\n",
      "/Users/quinngoldstein/opt/anaconda3/lib/python3.8/site-packages/sklearn/metrics/_classification.py:1318: UndefinedMetricWarning: Precision and F-score are ill-defined and being set to 0.0 in labels with no predicted samples. Use `zero_division` parameter to control this behavior.\n",
      "  _warn_prf(average, modifier, msg_start, len(result))\n",
      "/Users/quinngoldstein/opt/anaconda3/lib/python3.8/site-packages/sklearn/metrics/_classification.py:1318: UndefinedMetricWarning: Precision and F-score are ill-defined and being set to 0.0 in labels with no predicted samples. Use `zero_division` parameter to control this behavior.\n",
      "  _warn_prf(average, modifier, msg_start, len(result))\n"
     ]
    },
    {
     "name": "stdout",
     "output_type": "stream",
     "text": [
      "19452/19452 [==============================] - 12s 612us/step - loss: 0.6574 - accuracy: 0.6333\n",
      "Epoch 2/3\n",
      "19452/19452 [==============================] - 15s 758us/step - loss: 0.6573 - accuracy: 0.6333\n",
      "Epoch 3/3\n",
      "19452/19452 [==============================] - 15s 796us/step - loss: 0.6573 - accuracy: 0.6333\n",
      "              precision    recall  f1-score   support\n",
      "\n",
      "       Under       0.64      1.00      0.78      1376\n",
      "        Over       0.00      0.00      0.00       785\n",
      "\n",
      "    accuracy                           0.64      2161\n",
      "   macro avg       0.32      0.50      0.39      2161\n",
      "weighted avg       0.41      0.64      0.50      2161\n",
      "\n",
      "Epoch 1/3\n"
     ]
    },
    {
     "name": "stderr",
     "output_type": "stream",
     "text": [
      "/Users/quinngoldstein/opt/anaconda3/lib/python3.8/site-packages/sklearn/metrics/_classification.py:1318: UndefinedMetricWarning: Precision and F-score are ill-defined and being set to 0.0 in labels with no predicted samples. Use `zero_division` parameter to control this behavior.\n",
      "  _warn_prf(average, modifier, msg_start, len(result))\n",
      "/Users/quinngoldstein/opt/anaconda3/lib/python3.8/site-packages/sklearn/metrics/_classification.py:1318: UndefinedMetricWarning: Precision and F-score are ill-defined and being set to 0.0 in labels with no predicted samples. Use `zero_division` parameter to control this behavior.\n",
      "  _warn_prf(average, modifier, msg_start, len(result))\n",
      "/Users/quinngoldstein/opt/anaconda3/lib/python3.8/site-packages/sklearn/metrics/_classification.py:1318: UndefinedMetricWarning: Precision and F-score are ill-defined and being set to 0.0 in labels with no predicted samples. Use `zero_division` parameter to control this behavior.\n",
      "  _warn_prf(average, modifier, msg_start, len(result))\n",
      "/Users/quinngoldstein/opt/anaconda3/lib/python3.8/site-packages/sklearn/metrics/_classification.py:1318: UndefinedMetricWarning: Precision and F-score are ill-defined and being set to 0.0 in labels with no predicted samples. Use `zero_division` parameter to control this behavior.\n",
      "  _warn_prf(average, modifier, msg_start, len(result))\n",
      "/Users/quinngoldstein/opt/anaconda3/lib/python3.8/site-packages/sklearn/metrics/_classification.py:1318: UndefinedMetricWarning: Precision and F-score are ill-defined and being set to 0.0 in labels with no predicted samples. Use `zero_division` parameter to control this behavior.\n",
      "  _warn_prf(average, modifier, msg_start, len(result))\n",
      "/Users/quinngoldstein/opt/anaconda3/lib/python3.8/site-packages/sklearn/metrics/_classification.py:1318: UndefinedMetricWarning: Precision and F-score are ill-defined and being set to 0.0 in labels with no predicted samples. Use `zero_division` parameter to control this behavior.\n",
      "  _warn_prf(average, modifier, msg_start, len(result))\n"
     ]
    },
    {
     "name": "stdout",
     "output_type": "stream",
     "text": [
      "19452/19452 [==============================] - 12s 626us/step - loss: 0.6574 - accuracy: 0.6331\n",
      "Epoch 2/3\n",
      "19452/19452 [==============================] - 18s 936us/step - loss: 0.6574 - accuracy: 0.6331\n",
      "Epoch 3/3\n",
      "19452/19452 [==============================] - 12s 614us/step - loss: 0.6575 - accuracy: 0.6331\n",
      "              precision    recall  f1-score   support\n",
      "\n",
      "       Under       0.64      1.00      0.78      1379\n",
      "        Over       0.00      0.00      0.00       782\n",
      "\n",
      "    accuracy                           0.64      2161\n",
      "   macro avg       0.32      0.50      0.39      2161\n",
      "weighted avg       0.41      0.64      0.50      2161\n",
      "\n",
      "Epoch 1/3\n"
     ]
    },
    {
     "name": "stderr",
     "output_type": "stream",
     "text": [
      "/Users/quinngoldstein/opt/anaconda3/lib/python3.8/site-packages/sklearn/metrics/_classification.py:1318: UndefinedMetricWarning: Precision and F-score are ill-defined and being set to 0.0 in labels with no predicted samples. Use `zero_division` parameter to control this behavior.\n",
      "  _warn_prf(average, modifier, msg_start, len(result))\n",
      "/Users/quinngoldstein/opt/anaconda3/lib/python3.8/site-packages/sklearn/metrics/_classification.py:1318: UndefinedMetricWarning: Precision and F-score are ill-defined and being set to 0.0 in labels with no predicted samples. Use `zero_division` parameter to control this behavior.\n",
      "  _warn_prf(average, modifier, msg_start, len(result))\n",
      "/Users/quinngoldstein/opt/anaconda3/lib/python3.8/site-packages/sklearn/metrics/_classification.py:1318: UndefinedMetricWarning: Precision and F-score are ill-defined and being set to 0.0 in labels with no predicted samples. Use `zero_division` parameter to control this behavior.\n",
      "  _warn_prf(average, modifier, msg_start, len(result))\n",
      "/Users/quinngoldstein/opt/anaconda3/lib/python3.8/site-packages/sklearn/metrics/_classification.py:1318: UndefinedMetricWarning: Precision and F-score are ill-defined and being set to 0.0 in labels with no predicted samples. Use `zero_division` parameter to control this behavior.\n",
      "  _warn_prf(average, modifier, msg_start, len(result))\n",
      "/Users/quinngoldstein/opt/anaconda3/lib/python3.8/site-packages/sklearn/metrics/_classification.py:1318: UndefinedMetricWarning: Precision and F-score are ill-defined and being set to 0.0 in labels with no predicted samples. Use `zero_division` parameter to control this behavior.\n",
      "  _warn_prf(average, modifier, msg_start, len(result))\n",
      "/Users/quinngoldstein/opt/anaconda3/lib/python3.8/site-packages/sklearn/metrics/_classification.py:1318: UndefinedMetricWarning: Precision and F-score are ill-defined and being set to 0.0 in labels with no predicted samples. Use `zero_division` parameter to control this behavior.\n",
      "  _warn_prf(average, modifier, msg_start, len(result))\n"
     ]
    },
    {
     "name": "stdout",
     "output_type": "stream",
     "text": [
      "19452/19452 [==============================] - 12s 607us/step - loss: 0.6576 - accuracy: 0.6328\n",
      "Epoch 2/3\n",
      "19452/19452 [==============================] - 12s 605us/step - loss: 0.6576 - accuracy: 0.6328\n",
      "Epoch 3/3\n",
      "19452/19452 [==============================] - 12s 600us/step - loss: 0.6576 - accuracy: 0.6328\n",
      "              precision    recall  f1-score   support\n",
      "\n",
      "       Under       0.64      1.00      0.78      1385\n",
      "        Over       0.00      0.00      0.00       776\n",
      "\n",
      "    accuracy                           0.64      2161\n",
      "   macro avg       0.32      0.50      0.39      2161\n",
      "weighted avg       0.41      0.64      0.50      2161\n",
      "\n",
      "Epoch 1/3\n"
     ]
    },
    {
     "name": "stderr",
     "output_type": "stream",
     "text": [
      "/Users/quinngoldstein/opt/anaconda3/lib/python3.8/site-packages/sklearn/metrics/_classification.py:1318: UndefinedMetricWarning: Precision and F-score are ill-defined and being set to 0.0 in labels with no predicted samples. Use `zero_division` parameter to control this behavior.\n",
      "  _warn_prf(average, modifier, msg_start, len(result))\n",
      "/Users/quinngoldstein/opt/anaconda3/lib/python3.8/site-packages/sklearn/metrics/_classification.py:1318: UndefinedMetricWarning: Precision and F-score are ill-defined and being set to 0.0 in labels with no predicted samples. Use `zero_division` parameter to control this behavior.\n",
      "  _warn_prf(average, modifier, msg_start, len(result))\n",
      "/Users/quinngoldstein/opt/anaconda3/lib/python3.8/site-packages/sklearn/metrics/_classification.py:1318: UndefinedMetricWarning: Precision and F-score are ill-defined and being set to 0.0 in labels with no predicted samples. Use `zero_division` parameter to control this behavior.\n",
      "  _warn_prf(average, modifier, msg_start, len(result))\n",
      "/Users/quinngoldstein/opt/anaconda3/lib/python3.8/site-packages/sklearn/metrics/_classification.py:1318: UndefinedMetricWarning: Precision and F-score are ill-defined and being set to 0.0 in labels with no predicted samples. Use `zero_division` parameter to control this behavior.\n",
      "  _warn_prf(average, modifier, msg_start, len(result))\n",
      "/Users/quinngoldstein/opt/anaconda3/lib/python3.8/site-packages/sklearn/metrics/_classification.py:1318: UndefinedMetricWarning: Precision and F-score are ill-defined and being set to 0.0 in labels with no predicted samples. Use `zero_division` parameter to control this behavior.\n",
      "  _warn_prf(average, modifier, msg_start, len(result))\n",
      "/Users/quinngoldstein/opt/anaconda3/lib/python3.8/site-packages/sklearn/metrics/_classification.py:1318: UndefinedMetricWarning: Precision and F-score are ill-defined and being set to 0.0 in labels with no predicted samples. Use `zero_division` parameter to control this behavior.\n",
      "  _warn_prf(average, modifier, msg_start, len(result))\n"
     ]
    },
    {
     "name": "stdout",
     "output_type": "stream",
     "text": [
      "19452/19452 [==============================] - 17s 856us/step - loss: 0.6570 - accuracy: 0.6339\n",
      "Epoch 2/3\n",
      "19452/19452 [==============================] - 12s 617us/step - loss: 0.6570 - accuracy: 0.6339\n",
      "Epoch 3/3\n",
      "19452/19452 [==============================] - 15s 769us/step - loss: 0.6570 - accuracy: 0.6339\n",
      "              precision    recall  f1-score   support\n",
      "\n",
      "       Under       0.63      1.00      0.77      1364\n",
      "        Over       0.00      0.00      0.00       797\n",
      "\n",
      "    accuracy                           0.63      2161\n",
      "   macro avg       0.32      0.50      0.39      2161\n",
      "weighted avg       0.40      0.63      0.49      2161\n",
      "\n",
      "Average precision: 0.3168004435709818\n",
      "Average recall: 0.5\n",
      "Average accuracy: 0.6336008871419636\n"
     ]
    },
    {
     "name": "stderr",
     "output_type": "stream",
     "text": [
      "/Users/quinngoldstein/opt/anaconda3/lib/python3.8/site-packages/sklearn/metrics/_classification.py:1318: UndefinedMetricWarning: Precision and F-score are ill-defined and being set to 0.0 in labels with no predicted samples. Use `zero_division` parameter to control this behavior.\n",
      "  _warn_prf(average, modifier, msg_start, len(result))\n",
      "/Users/quinngoldstein/opt/anaconda3/lib/python3.8/site-packages/sklearn/metrics/_classification.py:1318: UndefinedMetricWarning: Precision and F-score are ill-defined and being set to 0.0 in labels with no predicted samples. Use `zero_division` parameter to control this behavior.\n",
      "  _warn_prf(average, modifier, msg_start, len(result))\n",
      "/Users/quinngoldstein/opt/anaconda3/lib/python3.8/site-packages/sklearn/metrics/_classification.py:1318: UndefinedMetricWarning: Precision and F-score are ill-defined and being set to 0.0 in labels with no predicted samples. Use `zero_division` parameter to control this behavior.\n",
      "  _warn_prf(average, modifier, msg_start, len(result))\n",
      "/Users/quinngoldstein/opt/anaconda3/lib/python3.8/site-packages/sklearn/metrics/_classification.py:1318: UndefinedMetricWarning: Precision and F-score are ill-defined and being set to 0.0 in labels with no predicted samples. Use `zero_division` parameter to control this behavior.\n",
      "  _warn_prf(average, modifier, msg_start, len(result))\n",
      "/Users/quinngoldstein/opt/anaconda3/lib/python3.8/site-packages/sklearn/metrics/_classification.py:1318: UndefinedMetricWarning: Precision and F-score are ill-defined and being set to 0.0 in labels with no predicted samples. Use `zero_division` parameter to control this behavior.\n",
      "  _warn_prf(average, modifier, msg_start, len(result))\n",
      "/Users/quinngoldstein/opt/anaconda3/lib/python3.8/site-packages/sklearn/metrics/_classification.py:1318: UndefinedMetricWarning: Precision and F-score are ill-defined and being set to 0.0 in labels with no predicted samples. Use `zero_division` parameter to control this behavior.\n",
      "  _warn_prf(average, modifier, msg_start, len(result))\n"
     ]
    }
   ],
   "source": [
    "from sklearn.model_selection import KFold # import k-fold validation\n",
    "\n",
    "# We use bedrooms, bathrooms, sqft_living, sqft_lot, and 'most_recent' attributes\n",
    "X = df[['bedrooms', 'bathrooms', 'sqft_living', 'sqft_lot', 'most_recent']]\n",
    "y = df['price_range']\n",
    "\n",
    "# Split the data up in train and test sets\n",
    "X_train, X_test, y_train, y_test = train_test_split(X, y, test_size=0.33, random_state=42)\n",
    "\n",
    "target_names = ['Under', 'Over']\n",
    "\n",
    "# construct a model\n",
    "model = keras.models.Sequential([\n",
    "    keras.layers.Dense(6, activation='relu', input_shape=(5,)),\n",
    "    keras.layers.Dense(6, activation='relu'),\n",
    "    keras.layers.Dense(1, activation='sigmoid')\n",
    "])\n",
    "\n",
    "kf = KFold(n_splits=10, random_state=None, shuffle=True) \n",
    "precision_sum = recall_sum = accuracy_sum = 0\n",
    "\n",
    "# DataFrame for storing validation metrics\n",
    "metrics_df = pd.DataFrame(columns = ['precision', 'recall', 'accuracy'])\n",
    "\n",
    "for train_index, test_index in kf.split(X):\n",
    "    X_train, X_test = X.iloc[train_index], X.iloc[test_index]\n",
    "    y_train, y_test = y.iloc[train_index], y.iloc[test_index]\n",
    "\n",
    "    model.compile(loss='binary_crossentropy',\n",
    "              optimizer='adam',\n",
    "              metrics=['accuracy'])\n",
    "                   \n",
    "    model.fit(X_train, y_train,epochs=3, batch_size=1, verbose=1)\n",
    "    \n",
    "    y_pred = (model.predict(X_test) > 0.5).astype(\"int32\")\n",
    "    \n",
    "    # plot a confusion matrix\n",
    "    confusion_mat = confusion_matrix(y_test, y_pred)\n",
    "    \n",
    "    # classification report\n",
    "    print(classification_report(y_test, y_pred, target_names=target_names))  \n",
    "    result_metrics_dict = classification_report(y_test, y_pred, target_names=target_names, output_dict=True)\n",
    "    \n",
    "    precision_sum += result_metrics_dict[\"macro avg\"][\"precision\"]\n",
    "    recall_sum += result_metrics_dict[\"macro avg\"][\"recall\"]\n",
    "    accuracy_sum += result_metrics_dict[\"accuracy\"]\n",
    "    \n",
    "    metrics_list = []\n",
    "    metrics_list.append(result_metrics_dict[\"macro avg\"][\"precision\"])\n",
    "    metrics_list.append(result_metrics_dict[\"macro avg\"][\"recall\"])\n",
    "    metrics_list.append(result_metrics_dict[\"accuracy\"])\n",
    "    \n",
    "    metrics_series = pd.Series(metrics_list, index=metrics_df.columns)\n",
    "    metrics_df = metrics_df.append(metrics_series, ignore_index=True)\n",
    "\n",
    "print(\"Average precision:\", precision_sum/kf.get_n_splits(X))\n",
    "print(\"Average recall:\", recall_sum/kf.get_n_splits(X))\n",
    "print(\"Average accuracy:\", accuracy_sum/kf.get_n_splits(X))\n",
    "\n",
    "os.makedirs('./MLP4_data', exist_ok=True)  \n",
    "metrics_df.to_csv('./MLP4_data/nn_model1_metrics.csv')"
   ]
  },
  {
   "cell_type": "markdown",
   "metadata": {},
   "source": [
    "#### Model 2\n",
    "\n",
    "- input layer (5 attributes = 5 units)\n",
    "- 3 hidden layers (6 units)\n",
    "- output layer (1 unit)"
   ]
  },
  {
   "cell_type": "code",
   "execution_count": 15,
   "metadata": {
    "scrolled": true
   },
   "outputs": [
    {
     "name": "stdout",
     "output_type": "stream",
     "text": [
      "Epoch 1/3\n",
      "19451/19451 [==============================] - 15s 666us/step - loss: 8.8806 - accuracy: 0.6264\n",
      "Epoch 2/3\n",
      "19451/19451 [==============================] - 13s 656us/step - loss: 0.6573 - accuracy: 0.6338\n",
      "Epoch 3/3\n",
      "19451/19451 [==============================] - 16s 811us/step - loss: 0.6569 - accuracy: 0.6339\n",
      "              precision    recall  f1-score   support\n",
      "\n",
      "       Under       0.63      1.00      0.77      1364\n",
      "        Over       0.00      0.00      0.00       798\n",
      "\n",
      "    accuracy                           0.63      2162\n",
      "   macro avg       0.32      0.50      0.39      2162\n",
      "weighted avg       0.40      0.63      0.49      2162\n",
      "\n",
      "Epoch 1/3\n"
     ]
    },
    {
     "name": "stderr",
     "output_type": "stream",
     "text": [
      "/Users/quinngoldstein/opt/anaconda3/lib/python3.8/site-packages/sklearn/metrics/_classification.py:1318: UndefinedMetricWarning: Precision and F-score are ill-defined and being set to 0.0 in labels with no predicted samples. Use `zero_division` parameter to control this behavior.\n",
      "  _warn_prf(average, modifier, msg_start, len(result))\n",
      "/Users/quinngoldstein/opt/anaconda3/lib/python3.8/site-packages/sklearn/metrics/_classification.py:1318: UndefinedMetricWarning: Precision and F-score are ill-defined and being set to 0.0 in labels with no predicted samples. Use `zero_division` parameter to control this behavior.\n",
      "  _warn_prf(average, modifier, msg_start, len(result))\n",
      "/Users/quinngoldstein/opt/anaconda3/lib/python3.8/site-packages/sklearn/metrics/_classification.py:1318: UndefinedMetricWarning: Precision and F-score are ill-defined and being set to 0.0 in labels with no predicted samples. Use `zero_division` parameter to control this behavior.\n",
      "  _warn_prf(average, modifier, msg_start, len(result))\n",
      "/Users/quinngoldstein/opt/anaconda3/lib/python3.8/site-packages/sklearn/metrics/_classification.py:1318: UndefinedMetricWarning: Precision and F-score are ill-defined and being set to 0.0 in labels with no predicted samples. Use `zero_division` parameter to control this behavior.\n",
      "  _warn_prf(average, modifier, msg_start, len(result))\n",
      "/Users/quinngoldstein/opt/anaconda3/lib/python3.8/site-packages/sklearn/metrics/_classification.py:1318: UndefinedMetricWarning: Precision and F-score are ill-defined and being set to 0.0 in labels with no predicted samples. Use `zero_division` parameter to control this behavior.\n",
      "  _warn_prf(average, modifier, msg_start, len(result))\n",
      "/Users/quinngoldstein/opt/anaconda3/lib/python3.8/site-packages/sklearn/metrics/_classification.py:1318: UndefinedMetricWarning: Precision and F-score are ill-defined and being set to 0.0 in labels with no predicted samples. Use `zero_division` parameter to control this behavior.\n",
      "  _warn_prf(average, modifier, msg_start, len(result))\n"
     ]
    },
    {
     "name": "stdout",
     "output_type": "stream",
     "text": [
      "19451/19451 [==============================] - 17s 869us/step - loss: 0.6573 - accuracy: 0.6335\n",
      "Epoch 2/3\n",
      "19451/19451 [==============================] - 16s 837us/step - loss: 0.6572 - accuracy: 0.6335\n",
      "Epoch 3/3\n",
      "19451/19451 [==============================] - 17s 871us/step - loss: 0.6572 - accuracy: 0.6335\n",
      "              precision    recall  f1-score   support\n",
      "\n",
      "       Under       0.63      1.00      0.78      1371\n",
      "        Over       0.00      0.00      0.00       791\n",
      "\n",
      "    accuracy                           0.63      2162\n",
      "   macro avg       0.32      0.50      0.39      2162\n",
      "weighted avg       0.40      0.63      0.49      2162\n",
      "\n",
      "Epoch 1/3\n"
     ]
    },
    {
     "name": "stderr",
     "output_type": "stream",
     "text": [
      "/Users/quinngoldstein/opt/anaconda3/lib/python3.8/site-packages/sklearn/metrics/_classification.py:1318: UndefinedMetricWarning: Precision and F-score are ill-defined and being set to 0.0 in labels with no predicted samples. Use `zero_division` parameter to control this behavior.\n",
      "  _warn_prf(average, modifier, msg_start, len(result))\n",
      "/Users/quinngoldstein/opt/anaconda3/lib/python3.8/site-packages/sklearn/metrics/_classification.py:1318: UndefinedMetricWarning: Precision and F-score are ill-defined and being set to 0.0 in labels with no predicted samples. Use `zero_division` parameter to control this behavior.\n",
      "  _warn_prf(average, modifier, msg_start, len(result))\n",
      "/Users/quinngoldstein/opt/anaconda3/lib/python3.8/site-packages/sklearn/metrics/_classification.py:1318: UndefinedMetricWarning: Precision and F-score are ill-defined and being set to 0.0 in labels with no predicted samples. Use `zero_division` parameter to control this behavior.\n",
      "  _warn_prf(average, modifier, msg_start, len(result))\n",
      "/Users/quinngoldstein/opt/anaconda3/lib/python3.8/site-packages/sklearn/metrics/_classification.py:1318: UndefinedMetricWarning: Precision and F-score are ill-defined and being set to 0.0 in labels with no predicted samples. Use `zero_division` parameter to control this behavior.\n",
      "  _warn_prf(average, modifier, msg_start, len(result))\n",
      "/Users/quinngoldstein/opt/anaconda3/lib/python3.8/site-packages/sklearn/metrics/_classification.py:1318: UndefinedMetricWarning: Precision and F-score are ill-defined and being set to 0.0 in labels with no predicted samples. Use `zero_division` parameter to control this behavior.\n",
      "  _warn_prf(average, modifier, msg_start, len(result))\n",
      "/Users/quinngoldstein/opt/anaconda3/lib/python3.8/site-packages/sklearn/metrics/_classification.py:1318: UndefinedMetricWarning: Precision and F-score are ill-defined and being set to 0.0 in labels with no predicted samples. Use `zero_division` parameter to control this behavior.\n",
      "  _warn_prf(average, modifier, msg_start, len(result))\n"
     ]
    },
    {
     "name": "stdout",
     "output_type": "stream",
     "text": [
      "19451/19451 [==============================] - 20s 1000us/step - loss: 0.6565 - accuracy: 0.6344\n",
      "Epoch 2/3\n",
      "19451/19451 [==============================] - 17s 866us/step - loss: 0.6568 - accuracy: 0.6344\n",
      "Epoch 3/3\n",
      "19451/19451 [==============================] - 14s 735us/step - loss: 0.6567 - accuracy: 0.6344\n",
      "              precision    recall  f1-score   support\n",
      "\n",
      "       Under       0.63      1.00      0.77      1354\n",
      "        Over       0.00      0.00      0.00       808\n",
      "\n",
      "    accuracy                           0.63      2162\n",
      "   macro avg       0.31      0.50      0.39      2162\n",
      "weighted avg       0.39      0.63      0.48      2162\n",
      "\n",
      "Epoch 1/3\n"
     ]
    },
    {
     "name": "stderr",
     "output_type": "stream",
     "text": [
      "/Users/quinngoldstein/opt/anaconda3/lib/python3.8/site-packages/sklearn/metrics/_classification.py:1318: UndefinedMetricWarning: Precision and F-score are ill-defined and being set to 0.0 in labels with no predicted samples. Use `zero_division` parameter to control this behavior.\n",
      "  _warn_prf(average, modifier, msg_start, len(result))\n",
      "/Users/quinngoldstein/opt/anaconda3/lib/python3.8/site-packages/sklearn/metrics/_classification.py:1318: UndefinedMetricWarning: Precision and F-score are ill-defined and being set to 0.0 in labels with no predicted samples. Use `zero_division` parameter to control this behavior.\n",
      "  _warn_prf(average, modifier, msg_start, len(result))\n",
      "/Users/quinngoldstein/opt/anaconda3/lib/python3.8/site-packages/sklearn/metrics/_classification.py:1318: UndefinedMetricWarning: Precision and F-score are ill-defined and being set to 0.0 in labels with no predicted samples. Use `zero_division` parameter to control this behavior.\n",
      "  _warn_prf(average, modifier, msg_start, len(result))\n",
      "/Users/quinngoldstein/opt/anaconda3/lib/python3.8/site-packages/sklearn/metrics/_classification.py:1318: UndefinedMetricWarning: Precision and F-score are ill-defined and being set to 0.0 in labels with no predicted samples. Use `zero_division` parameter to control this behavior.\n",
      "  _warn_prf(average, modifier, msg_start, len(result))\n",
      "/Users/quinngoldstein/opt/anaconda3/lib/python3.8/site-packages/sklearn/metrics/_classification.py:1318: UndefinedMetricWarning: Precision and F-score are ill-defined and being set to 0.0 in labels with no predicted samples. Use `zero_division` parameter to control this behavior.\n",
      "  _warn_prf(average, modifier, msg_start, len(result))\n",
      "/Users/quinngoldstein/opt/anaconda3/lib/python3.8/site-packages/sklearn/metrics/_classification.py:1318: UndefinedMetricWarning: Precision and F-score are ill-defined and being set to 0.0 in labels with no predicted samples. Use `zero_division` parameter to control this behavior.\n",
      "  _warn_prf(average, modifier, msg_start, len(result))\n"
     ]
    },
    {
     "name": "stdout",
     "output_type": "stream",
     "text": [
      "19452/19452 [==============================] - 14s 694us/step - loss: 0.6573 - accuracy: 0.6335\n",
      "Epoch 2/3\n",
      "19452/19452 [==============================] - 13s 694us/step - loss: 0.6572 - accuracy: 0.6335\n",
      "Epoch 3/3\n",
      "19452/19452 [==============================] - 14s 701us/step - loss: 0.6572 - accuracy: 0.6335\n",
      "              precision    recall  f1-score   support\n",
      "\n",
      "       Under       0.63      1.00      0.78      1372\n",
      "        Over       0.00      0.00      0.00       789\n",
      "\n",
      "    accuracy                           0.63      2161\n",
      "   macro avg       0.32      0.50      0.39      2161\n",
      "weighted avg       0.40      0.63      0.49      2161\n",
      "\n",
      "Epoch 1/3\n"
     ]
    },
    {
     "name": "stderr",
     "output_type": "stream",
     "text": [
      "/Users/quinngoldstein/opt/anaconda3/lib/python3.8/site-packages/sklearn/metrics/_classification.py:1318: UndefinedMetricWarning: Precision and F-score are ill-defined and being set to 0.0 in labels with no predicted samples. Use `zero_division` parameter to control this behavior.\n",
      "  _warn_prf(average, modifier, msg_start, len(result))\n",
      "/Users/quinngoldstein/opt/anaconda3/lib/python3.8/site-packages/sklearn/metrics/_classification.py:1318: UndefinedMetricWarning: Precision and F-score are ill-defined and being set to 0.0 in labels with no predicted samples. Use `zero_division` parameter to control this behavior.\n",
      "  _warn_prf(average, modifier, msg_start, len(result))\n",
      "/Users/quinngoldstein/opt/anaconda3/lib/python3.8/site-packages/sklearn/metrics/_classification.py:1318: UndefinedMetricWarning: Precision and F-score are ill-defined and being set to 0.0 in labels with no predicted samples. Use `zero_division` parameter to control this behavior.\n",
      "  _warn_prf(average, modifier, msg_start, len(result))\n",
      "/Users/quinngoldstein/opt/anaconda3/lib/python3.8/site-packages/sklearn/metrics/_classification.py:1318: UndefinedMetricWarning: Precision and F-score are ill-defined and being set to 0.0 in labels with no predicted samples. Use `zero_division` parameter to control this behavior.\n",
      "  _warn_prf(average, modifier, msg_start, len(result))\n",
      "/Users/quinngoldstein/opt/anaconda3/lib/python3.8/site-packages/sklearn/metrics/_classification.py:1318: UndefinedMetricWarning: Precision and F-score are ill-defined and being set to 0.0 in labels with no predicted samples. Use `zero_division` parameter to control this behavior.\n",
      "  _warn_prf(average, modifier, msg_start, len(result))\n",
      "/Users/quinngoldstein/opt/anaconda3/lib/python3.8/site-packages/sklearn/metrics/_classification.py:1318: UndefinedMetricWarning: Precision and F-score are ill-defined and being set to 0.0 in labels with no predicted samples. Use `zero_division` parameter to control this behavior.\n",
      "  _warn_prf(average, modifier, msg_start, len(result))\n"
     ]
    },
    {
     "name": "stdout",
     "output_type": "stream",
     "text": [
      "19452/19452 [==============================] - 13s 644us/step - loss: 0.6578 - accuracy: 0.6324\n",
      "Epoch 2/3\n",
      "19452/19452 [==============================] - 12s 638us/step - loss: 0.6578 - accuracy: 0.6324\n",
      "Epoch 3/3\n",
      "19452/19452 [==============================] - 13s 668us/step - loss: 0.6578 - accuracy: 0.6324\n",
      "              precision    recall  f1-score   support\n",
      "\n",
      "       Under       0.64      1.00      0.78      1392\n",
      "        Over       0.00      0.00      0.00       769\n",
      "\n",
      "    accuracy                           0.64      2161\n",
      "   macro avg       0.32      0.50      0.39      2161\n",
      "weighted avg       0.41      0.64      0.50      2161\n",
      "\n",
      "Epoch 1/3\n"
     ]
    },
    {
     "name": "stderr",
     "output_type": "stream",
     "text": [
      "/Users/quinngoldstein/opt/anaconda3/lib/python3.8/site-packages/sklearn/metrics/_classification.py:1318: UndefinedMetricWarning: Precision and F-score are ill-defined and being set to 0.0 in labels with no predicted samples. Use `zero_division` parameter to control this behavior.\n",
      "  _warn_prf(average, modifier, msg_start, len(result))\n",
      "/Users/quinngoldstein/opt/anaconda3/lib/python3.8/site-packages/sklearn/metrics/_classification.py:1318: UndefinedMetricWarning: Precision and F-score are ill-defined and being set to 0.0 in labels with no predicted samples. Use `zero_division` parameter to control this behavior.\n",
      "  _warn_prf(average, modifier, msg_start, len(result))\n",
      "/Users/quinngoldstein/opt/anaconda3/lib/python3.8/site-packages/sklearn/metrics/_classification.py:1318: UndefinedMetricWarning: Precision and F-score are ill-defined and being set to 0.0 in labels with no predicted samples. Use `zero_division` parameter to control this behavior.\n",
      "  _warn_prf(average, modifier, msg_start, len(result))\n",
      "/Users/quinngoldstein/opt/anaconda3/lib/python3.8/site-packages/sklearn/metrics/_classification.py:1318: UndefinedMetricWarning: Precision and F-score are ill-defined and being set to 0.0 in labels with no predicted samples. Use `zero_division` parameter to control this behavior.\n",
      "  _warn_prf(average, modifier, msg_start, len(result))\n",
      "/Users/quinngoldstein/opt/anaconda3/lib/python3.8/site-packages/sklearn/metrics/_classification.py:1318: UndefinedMetricWarning: Precision and F-score are ill-defined and being set to 0.0 in labels with no predicted samples. Use `zero_division` parameter to control this behavior.\n",
      "  _warn_prf(average, modifier, msg_start, len(result))\n",
      "/Users/quinngoldstein/opt/anaconda3/lib/python3.8/site-packages/sklearn/metrics/_classification.py:1318: UndefinedMetricWarning: Precision and F-score are ill-defined and being set to 0.0 in labels with no predicted samples. Use `zero_division` parameter to control this behavior.\n",
      "  _warn_prf(average, modifier, msg_start, len(result))\n"
     ]
    },
    {
     "name": "stdout",
     "output_type": "stream",
     "text": [
      "19452/19452 [==============================] - 13s 630us/step - loss: 0.6570 - accuracy: 0.6338\n",
      "Epoch 2/3\n",
      "19452/19452 [==============================] - 13s 643us/step - loss: 0.6571 - accuracy: 0.6338\n",
      "Epoch 3/3\n",
      "19452/19452 [==============================] - 13s 664us/step - loss: 0.6571 - accuracy: 0.6338\n",
      "              precision    recall  f1-score   support\n",
      "\n",
      "       Under       0.63      1.00      0.77      1366\n",
      "        Over       0.00      0.00      0.00       795\n",
      "\n",
      "    accuracy                           0.63      2161\n",
      "   macro avg       0.32      0.50      0.39      2161\n",
      "weighted avg       0.40      0.63      0.49      2161\n",
      "\n",
      "Epoch 1/3\n"
     ]
    },
    {
     "name": "stderr",
     "output_type": "stream",
     "text": [
      "/Users/quinngoldstein/opt/anaconda3/lib/python3.8/site-packages/sklearn/metrics/_classification.py:1318: UndefinedMetricWarning: Precision and F-score are ill-defined and being set to 0.0 in labels with no predicted samples. Use `zero_division` parameter to control this behavior.\n",
      "  _warn_prf(average, modifier, msg_start, len(result))\n",
      "/Users/quinngoldstein/opt/anaconda3/lib/python3.8/site-packages/sklearn/metrics/_classification.py:1318: UndefinedMetricWarning: Precision and F-score are ill-defined and being set to 0.0 in labels with no predicted samples. Use `zero_division` parameter to control this behavior.\n",
      "  _warn_prf(average, modifier, msg_start, len(result))\n",
      "/Users/quinngoldstein/opt/anaconda3/lib/python3.8/site-packages/sklearn/metrics/_classification.py:1318: UndefinedMetricWarning: Precision and F-score are ill-defined and being set to 0.0 in labels with no predicted samples. Use `zero_division` parameter to control this behavior.\n",
      "  _warn_prf(average, modifier, msg_start, len(result))\n",
      "/Users/quinngoldstein/opt/anaconda3/lib/python3.8/site-packages/sklearn/metrics/_classification.py:1318: UndefinedMetricWarning: Precision and F-score are ill-defined and being set to 0.0 in labels with no predicted samples. Use `zero_division` parameter to control this behavior.\n",
      "  _warn_prf(average, modifier, msg_start, len(result))\n",
      "/Users/quinngoldstein/opt/anaconda3/lib/python3.8/site-packages/sklearn/metrics/_classification.py:1318: UndefinedMetricWarning: Precision and F-score are ill-defined and being set to 0.0 in labels with no predicted samples. Use `zero_division` parameter to control this behavior.\n",
      "  _warn_prf(average, modifier, msg_start, len(result))\n",
      "/Users/quinngoldstein/opt/anaconda3/lib/python3.8/site-packages/sklearn/metrics/_classification.py:1318: UndefinedMetricWarning: Precision and F-score are ill-defined and being set to 0.0 in labels with no predicted samples. Use `zero_division` parameter to control this behavior.\n",
      "  _warn_prf(average, modifier, msg_start, len(result))\n"
     ]
    },
    {
     "name": "stdout",
     "output_type": "stream",
     "text": [
      "19452/19452 [==============================] - 13s 660us/step - loss: 0.6575 - accuracy: 0.6330\n",
      "Epoch 2/3\n",
      "19452/19452 [==============================] - 13s 645us/step - loss: 0.6575 - accuracy: 0.6330\n",
      "Epoch 3/3\n",
      "19452/19452 [==============================] - 13s 648us/step - loss: 0.6575 - accuracy: 0.6330\n",
      "              precision    recall  f1-score   support\n",
      "\n",
      "       Under       0.64      1.00      0.78      1381\n",
      "        Over       0.00      0.00      0.00       780\n",
      "\n",
      "    accuracy                           0.64      2161\n",
      "   macro avg       0.32      0.50      0.39      2161\n",
      "weighted avg       0.41      0.64      0.50      2161\n",
      "\n",
      "Epoch 1/3\n"
     ]
    },
    {
     "name": "stderr",
     "output_type": "stream",
     "text": [
      "/Users/quinngoldstein/opt/anaconda3/lib/python3.8/site-packages/sklearn/metrics/_classification.py:1318: UndefinedMetricWarning: Precision and F-score are ill-defined and being set to 0.0 in labels with no predicted samples. Use `zero_division` parameter to control this behavior.\n",
      "  _warn_prf(average, modifier, msg_start, len(result))\n",
      "/Users/quinngoldstein/opt/anaconda3/lib/python3.8/site-packages/sklearn/metrics/_classification.py:1318: UndefinedMetricWarning: Precision and F-score are ill-defined and being set to 0.0 in labels with no predicted samples. Use `zero_division` parameter to control this behavior.\n",
      "  _warn_prf(average, modifier, msg_start, len(result))\n",
      "/Users/quinngoldstein/opt/anaconda3/lib/python3.8/site-packages/sklearn/metrics/_classification.py:1318: UndefinedMetricWarning: Precision and F-score are ill-defined and being set to 0.0 in labels with no predicted samples. Use `zero_division` parameter to control this behavior.\n",
      "  _warn_prf(average, modifier, msg_start, len(result))\n",
      "/Users/quinngoldstein/opt/anaconda3/lib/python3.8/site-packages/sklearn/metrics/_classification.py:1318: UndefinedMetricWarning: Precision and F-score are ill-defined and being set to 0.0 in labels with no predicted samples. Use `zero_division` parameter to control this behavior.\n",
      "  _warn_prf(average, modifier, msg_start, len(result))\n",
      "/Users/quinngoldstein/opt/anaconda3/lib/python3.8/site-packages/sklearn/metrics/_classification.py:1318: UndefinedMetricWarning: Precision and F-score are ill-defined and being set to 0.0 in labels with no predicted samples. Use `zero_division` parameter to control this behavior.\n",
      "  _warn_prf(average, modifier, msg_start, len(result))\n",
      "/Users/quinngoldstein/opt/anaconda3/lib/python3.8/site-packages/sklearn/metrics/_classification.py:1318: UndefinedMetricWarning: Precision and F-score are ill-defined and being set to 0.0 in labels with no predicted samples. Use `zero_division` parameter to control this behavior.\n",
      "  _warn_prf(average, modifier, msg_start, len(result))\n"
     ]
    },
    {
     "name": "stdout",
     "output_type": "stream",
     "text": [
      "19452/19452 [==============================] - 13s 651us/step - loss: 0.6570 - accuracy: 0.6339\n",
      "Epoch 2/3\n",
      "19452/19452 [==============================] - 13s 668us/step - loss: 0.6570 - accuracy: 0.6339\n",
      "Epoch 3/3\n",
      "19452/19452 [==============================] - 13s 668us/step - loss: 0.6569 - accuracy: 0.6339\n",
      "              precision    recall  f1-score   support\n",
      "\n",
      "       Under       0.63      1.00      0.77      1363\n",
      "        Over       0.00      0.00      0.00       798\n",
      "\n",
      "    accuracy                           0.63      2161\n",
      "   macro avg       0.32      0.50      0.39      2161\n",
      "weighted avg       0.40      0.63      0.49      2161\n",
      "\n",
      "Epoch 1/3\n"
     ]
    },
    {
     "name": "stderr",
     "output_type": "stream",
     "text": [
      "/Users/quinngoldstein/opt/anaconda3/lib/python3.8/site-packages/sklearn/metrics/_classification.py:1318: UndefinedMetricWarning: Precision and F-score are ill-defined and being set to 0.0 in labels with no predicted samples. Use `zero_division` parameter to control this behavior.\n",
      "  _warn_prf(average, modifier, msg_start, len(result))\n",
      "/Users/quinngoldstein/opt/anaconda3/lib/python3.8/site-packages/sklearn/metrics/_classification.py:1318: UndefinedMetricWarning: Precision and F-score are ill-defined and being set to 0.0 in labels with no predicted samples. Use `zero_division` parameter to control this behavior.\n",
      "  _warn_prf(average, modifier, msg_start, len(result))\n",
      "/Users/quinngoldstein/opt/anaconda3/lib/python3.8/site-packages/sklearn/metrics/_classification.py:1318: UndefinedMetricWarning: Precision and F-score are ill-defined and being set to 0.0 in labels with no predicted samples. Use `zero_division` parameter to control this behavior.\n",
      "  _warn_prf(average, modifier, msg_start, len(result))\n",
      "/Users/quinngoldstein/opt/anaconda3/lib/python3.8/site-packages/sklearn/metrics/_classification.py:1318: UndefinedMetricWarning: Precision and F-score are ill-defined and being set to 0.0 in labels with no predicted samples. Use `zero_division` parameter to control this behavior.\n",
      "  _warn_prf(average, modifier, msg_start, len(result))\n",
      "/Users/quinngoldstein/opt/anaconda3/lib/python3.8/site-packages/sklearn/metrics/_classification.py:1318: UndefinedMetricWarning: Precision and F-score are ill-defined and being set to 0.0 in labels with no predicted samples. Use `zero_division` parameter to control this behavior.\n",
      "  _warn_prf(average, modifier, msg_start, len(result))\n",
      "/Users/quinngoldstein/opt/anaconda3/lib/python3.8/site-packages/sklearn/metrics/_classification.py:1318: UndefinedMetricWarning: Precision and F-score are ill-defined and being set to 0.0 in labels with no predicted samples. Use `zero_division` parameter to control this behavior.\n",
      "  _warn_prf(average, modifier, msg_start, len(result))\n"
     ]
    },
    {
     "name": "stdout",
     "output_type": "stream",
     "text": [
      "19452/19452 [==============================] - 13s 640us/step - loss: 0.6568 - accuracy: 0.6341\n",
      "Epoch 2/3\n",
      "19452/19452 [==============================] - 13s 645us/step - loss: 0.6569 - accuracy: 0.6341\n",
      "Epoch 3/3\n",
      "19452/19452 [==============================] - 12s 641us/step - loss: 0.6569 - accuracy: 0.6341\n",
      "              precision    recall  f1-score   support\n",
      "\n",
      "       Under       0.63      1.00      0.77      1360\n",
      "        Over       0.00      0.00      0.00       801\n",
      "\n",
      "    accuracy                           0.63      2161\n",
      "   macro avg       0.31      0.50      0.39      2161\n",
      "weighted avg       0.40      0.63      0.49      2161\n",
      "\n",
      "Epoch 1/3\n"
     ]
    },
    {
     "name": "stderr",
     "output_type": "stream",
     "text": [
      "/Users/quinngoldstein/opt/anaconda3/lib/python3.8/site-packages/sklearn/metrics/_classification.py:1318: UndefinedMetricWarning: Precision and F-score are ill-defined and being set to 0.0 in labels with no predicted samples. Use `zero_division` parameter to control this behavior.\n",
      "  _warn_prf(average, modifier, msg_start, len(result))\n",
      "/Users/quinngoldstein/opt/anaconda3/lib/python3.8/site-packages/sklearn/metrics/_classification.py:1318: UndefinedMetricWarning: Precision and F-score are ill-defined and being set to 0.0 in labels with no predicted samples. Use `zero_division` parameter to control this behavior.\n",
      "  _warn_prf(average, modifier, msg_start, len(result))\n",
      "/Users/quinngoldstein/opt/anaconda3/lib/python3.8/site-packages/sklearn/metrics/_classification.py:1318: UndefinedMetricWarning: Precision and F-score are ill-defined and being set to 0.0 in labels with no predicted samples. Use `zero_division` parameter to control this behavior.\n",
      "  _warn_prf(average, modifier, msg_start, len(result))\n",
      "/Users/quinngoldstein/opt/anaconda3/lib/python3.8/site-packages/sklearn/metrics/_classification.py:1318: UndefinedMetricWarning: Precision and F-score are ill-defined and being set to 0.0 in labels with no predicted samples. Use `zero_division` parameter to control this behavior.\n",
      "  _warn_prf(average, modifier, msg_start, len(result))\n",
      "/Users/quinngoldstein/opt/anaconda3/lib/python3.8/site-packages/sklearn/metrics/_classification.py:1318: UndefinedMetricWarning: Precision and F-score are ill-defined and being set to 0.0 in labels with no predicted samples. Use `zero_division` parameter to control this behavior.\n",
      "  _warn_prf(average, modifier, msg_start, len(result))\n",
      "/Users/quinngoldstein/opt/anaconda3/lib/python3.8/site-packages/sklearn/metrics/_classification.py:1318: UndefinedMetricWarning: Precision and F-score are ill-defined and being set to 0.0 in labels with no predicted samples. Use `zero_division` parameter to control this behavior.\n",
      "  _warn_prf(average, modifier, msg_start, len(result))\n"
     ]
    },
    {
     "name": "stdout",
     "output_type": "stream",
     "text": [
      "19452/19452 [==============================] - 13s 646us/step - loss: 0.6572 - accuracy: 0.6335\n",
      "Epoch 2/3\n",
      "19452/19452 [==============================] - 12s 632us/step - loss: 0.6571 - accuracy: 0.6335\n",
      "Epoch 3/3\n",
      "19452/19452 [==============================] - 12s 640us/step - loss: 0.6572 - accuracy: 0.6335\n",
      "              precision    recall  f1-score   support\n",
      "\n",
      "       Under       0.63      1.00      0.78      1371\n",
      "        Over       0.00      0.00      0.00       790\n",
      "\n",
      "    accuracy                           0.63      2161\n",
      "   macro avg       0.32      0.50      0.39      2161\n",
      "weighted avg       0.40      0.63      0.49      2161\n",
      "\n",
      "Average precision: 0.3168002937448443\n",
      "Average recall: 0.5\n",
      "Average accuracy: 0.6336005874896886\n"
     ]
    },
    {
     "name": "stderr",
     "output_type": "stream",
     "text": [
      "/Users/quinngoldstein/opt/anaconda3/lib/python3.8/site-packages/sklearn/metrics/_classification.py:1318: UndefinedMetricWarning: Precision and F-score are ill-defined and being set to 0.0 in labels with no predicted samples. Use `zero_division` parameter to control this behavior.\n",
      "  _warn_prf(average, modifier, msg_start, len(result))\n",
      "/Users/quinngoldstein/opt/anaconda3/lib/python3.8/site-packages/sklearn/metrics/_classification.py:1318: UndefinedMetricWarning: Precision and F-score are ill-defined and being set to 0.0 in labels with no predicted samples. Use `zero_division` parameter to control this behavior.\n",
      "  _warn_prf(average, modifier, msg_start, len(result))\n",
      "/Users/quinngoldstein/opt/anaconda3/lib/python3.8/site-packages/sklearn/metrics/_classification.py:1318: UndefinedMetricWarning: Precision and F-score are ill-defined and being set to 0.0 in labels with no predicted samples. Use `zero_division` parameter to control this behavior.\n",
      "  _warn_prf(average, modifier, msg_start, len(result))\n",
      "/Users/quinngoldstein/opt/anaconda3/lib/python3.8/site-packages/sklearn/metrics/_classification.py:1318: UndefinedMetricWarning: Precision and F-score are ill-defined and being set to 0.0 in labels with no predicted samples. Use `zero_division` parameter to control this behavior.\n",
      "  _warn_prf(average, modifier, msg_start, len(result))\n",
      "/Users/quinngoldstein/opt/anaconda3/lib/python3.8/site-packages/sklearn/metrics/_classification.py:1318: UndefinedMetricWarning: Precision and F-score are ill-defined and being set to 0.0 in labels with no predicted samples. Use `zero_division` parameter to control this behavior.\n",
      "  _warn_prf(average, modifier, msg_start, len(result))\n",
      "/Users/quinngoldstein/opt/anaconda3/lib/python3.8/site-packages/sklearn/metrics/_classification.py:1318: UndefinedMetricWarning: Precision and F-score are ill-defined and being set to 0.0 in labels with no predicted samples. Use `zero_division` parameter to control this behavior.\n",
      "  _warn_prf(average, modifier, msg_start, len(result))\n"
     ]
    }
   ],
   "source": [
    "from sklearn.model_selection import KFold # import k-fold validation\n",
    "\n",
    "# We use bedrooms, bathrooms, sqft_living, sqft_lot, and 'most_recent' attributes\n",
    "X = df[['bedrooms', 'bathrooms', 'sqft_living', 'sqft_lot', 'most_recent']]\n",
    "y = df['price_range']\n",
    "\n",
    "# Split the data up in train and test sets\n",
    "X_train, X_test, y_train, y_test = train_test_split(X, y, test_size=0.33, random_state=42)\n",
    "\n",
    "target_names = ['Under', 'Over']\n",
    "\n",
    "# construct a model\n",
    "model = keras.models.Sequential([\n",
    "    keras.layers.Dense(6, activation='relu', input_shape=(5,)),\n",
    "    keras.layers.Dense(6, activation='relu'),\n",
    "    keras.layers.Dense(6, activation='relu'),\n",
    "    keras.layers.Dense(1, activation='sigmoid')\n",
    "])\n",
    "\n",
    "kf = KFold(n_splits=10, random_state=None, shuffle=True) \n",
    "precision_sum = recall_sum = accuracy_sum = 0\n",
    "\n",
    "# DataFrame for storing validation metrics\n",
    "metrics_df = pd.DataFrame(columns = ['precision', 'recall', 'accuracy'])\n",
    "\n",
    "for train_index, test_index in kf.split(X):\n",
    "    X_train, X_test = X.iloc[train_index], X.iloc[test_index]\n",
    "    y_train, y_test = y.iloc[train_index], y.iloc[test_index]\n",
    "\n",
    "    model.compile(loss='binary_crossentropy',\n",
    "              optimizer='adam',\n",
    "              metrics=['accuracy'])\n",
    "                   \n",
    "    model.fit(X_train, y_train,epochs=3, batch_size=1, verbose=1)\n",
    "    \n",
    "    y_pred = (model.predict(X_test) > 0.5).astype(\"int32\")\n",
    "    \n",
    "    # plot a confusion matrix\n",
    "    confusion_mat = confusion_matrix(y_test, y_pred)\n",
    "    \n",
    "    # classification report\n",
    "    print(classification_report(y_test, y_pred, target_names=target_names))  \n",
    "    result_metrics_dict = classification_report(y_test, y_pred, target_names=target_names, output_dict=True)\n",
    "    \n",
    "    precision_sum += result_metrics_dict[\"macro avg\"][\"precision\"]\n",
    "    recall_sum += result_metrics_dict[\"macro avg\"][\"recall\"]\n",
    "    accuracy_sum += result_metrics_dict[\"accuracy\"]\n",
    "    \n",
    "    metrics_list = []\n",
    "    metrics_list.append(result_metrics_dict[\"macro avg\"][\"precision\"])\n",
    "    metrics_list.append(result_metrics_dict[\"macro avg\"][\"recall\"])\n",
    "    metrics_list.append(result_metrics_dict[\"accuracy\"])\n",
    "    \n",
    "    metrics_series = pd.Series(metrics_list, index=metrics_df.columns)\n",
    "    metrics_df = metrics_df.append(metrics_series, ignore_index=True)\n",
    "\n",
    "print(\"Average precision:\", precision_sum/kf.get_n_splits(X))\n",
    "print(\"Average recall:\", recall_sum/kf.get_n_splits(X))\n",
    "print(\"Average accuracy:\", accuracy_sum/kf.get_n_splits(X))\n",
    "\n",
    "os.makedirs('./MLP4_data', exist_ok=True)  \n",
    "metrics_df.to_csv('./MLP4_data/nn_model2_metrics.csv')"
   ]
  },
  {
   "cell_type": "markdown",
   "metadata": {},
   "source": [
    "### Varying number of units (nodes) in hidden layers"
   ]
  },
  {
   "cell_type": "markdown",
   "metadata": {},
   "source": [
    "#### Model 1\n",
    "\n",
    "- input layer (5 attributes = 5 units)\n",
    "- 2 hidden layers (10 units)\n",
    "- output layer (1 unit)"
   ]
  },
  {
   "cell_type": "code",
   "execution_count": 16,
   "metadata": {},
   "outputs": [
    {
     "name": "stdout",
     "output_type": "stream",
     "text": [
      "Epoch 1/3\n",
      "19451/19451 [==============================] - 14s 702us/step - loss: 34.5436 - accuracy: 0.6523\n",
      "Epoch 2/3\n",
      "19451/19451 [==============================] - 13s 676us/step - loss: 0.6628 - accuracy: 0.6315\n",
      "Epoch 3/3\n",
      "19451/19451 [==============================] - 12s 642us/step - loss: 0.6583 - accuracy: 0.6315\n",
      "              precision    recall  f1-score   support\n",
      "\n",
      "       Under       0.65      1.00      0.79      1410\n",
      "        Over       0.00      0.00      0.00       752\n",
      "\n",
      "    accuracy                           0.65      2162\n",
      "   macro avg       0.33      0.50      0.39      2162\n",
      "weighted avg       0.43      0.65      0.51      2162\n",
      "\n",
      "Epoch 1/3\n"
     ]
    },
    {
     "name": "stderr",
     "output_type": "stream",
     "text": [
      "/Users/quinngoldstein/opt/anaconda3/lib/python3.8/site-packages/sklearn/metrics/_classification.py:1318: UndefinedMetricWarning: Precision and F-score are ill-defined and being set to 0.0 in labels with no predicted samples. Use `zero_division` parameter to control this behavior.\n",
      "  _warn_prf(average, modifier, msg_start, len(result))\n",
      "/Users/quinngoldstein/opt/anaconda3/lib/python3.8/site-packages/sklearn/metrics/_classification.py:1318: UndefinedMetricWarning: Precision and F-score are ill-defined and being set to 0.0 in labels with no predicted samples. Use `zero_division` parameter to control this behavior.\n",
      "  _warn_prf(average, modifier, msg_start, len(result))\n",
      "/Users/quinngoldstein/opt/anaconda3/lib/python3.8/site-packages/sklearn/metrics/_classification.py:1318: UndefinedMetricWarning: Precision and F-score are ill-defined and being set to 0.0 in labels with no predicted samples. Use `zero_division` parameter to control this behavior.\n",
      "  _warn_prf(average, modifier, msg_start, len(result))\n",
      "/Users/quinngoldstein/opt/anaconda3/lib/python3.8/site-packages/sklearn/metrics/_classification.py:1318: UndefinedMetricWarning: Precision and F-score are ill-defined and being set to 0.0 in labels with no predicted samples. Use `zero_division` parameter to control this behavior.\n",
      "  _warn_prf(average, modifier, msg_start, len(result))\n",
      "/Users/quinngoldstein/opt/anaconda3/lib/python3.8/site-packages/sklearn/metrics/_classification.py:1318: UndefinedMetricWarning: Precision and F-score are ill-defined and being set to 0.0 in labels with no predicted samples. Use `zero_division` parameter to control this behavior.\n",
      "  _warn_prf(average, modifier, msg_start, len(result))\n",
      "/Users/quinngoldstein/opt/anaconda3/lib/python3.8/site-packages/sklearn/metrics/_classification.py:1318: UndefinedMetricWarning: Precision and F-score are ill-defined and being set to 0.0 in labels with no predicted samples. Use `zero_division` parameter to control this behavior.\n",
      "  _warn_prf(average, modifier, msg_start, len(result))\n"
     ]
    },
    {
     "name": "stdout",
     "output_type": "stream",
     "text": [
      "19451/19451 [==============================] - 13s 650us/step - loss: 0.6567 - accuracy: 0.6342\n",
      "Epoch 2/3\n",
      "19451/19451 [==============================] - 12s 616us/step - loss: 0.6568 - accuracy: 0.6342\n",
      "Epoch 3/3\n",
      "19451/19451 [==============================] - 12s 613us/step - loss: 0.6568 - accuracy: 0.6342\n",
      "              precision    recall  f1-score   support\n",
      "\n",
      "       Under       0.63      1.00      0.77      1358\n",
      "        Over       0.00      0.00      0.00       804\n",
      "\n",
      "    accuracy                           0.63      2162\n",
      "   macro avg       0.31      0.50      0.39      2162\n",
      "weighted avg       0.39      0.63      0.48      2162\n",
      "\n",
      "Epoch 1/3\n"
     ]
    },
    {
     "name": "stderr",
     "output_type": "stream",
     "text": [
      "/Users/quinngoldstein/opt/anaconda3/lib/python3.8/site-packages/sklearn/metrics/_classification.py:1318: UndefinedMetricWarning: Precision and F-score are ill-defined and being set to 0.0 in labels with no predicted samples. Use `zero_division` parameter to control this behavior.\n",
      "  _warn_prf(average, modifier, msg_start, len(result))\n",
      "/Users/quinngoldstein/opt/anaconda3/lib/python3.8/site-packages/sklearn/metrics/_classification.py:1318: UndefinedMetricWarning: Precision and F-score are ill-defined and being set to 0.0 in labels with no predicted samples. Use `zero_division` parameter to control this behavior.\n",
      "  _warn_prf(average, modifier, msg_start, len(result))\n",
      "/Users/quinngoldstein/opt/anaconda3/lib/python3.8/site-packages/sklearn/metrics/_classification.py:1318: UndefinedMetricWarning: Precision and F-score are ill-defined and being set to 0.0 in labels with no predicted samples. Use `zero_division` parameter to control this behavior.\n",
      "  _warn_prf(average, modifier, msg_start, len(result))\n",
      "/Users/quinngoldstein/opt/anaconda3/lib/python3.8/site-packages/sklearn/metrics/_classification.py:1318: UndefinedMetricWarning: Precision and F-score are ill-defined and being set to 0.0 in labels with no predicted samples. Use `zero_division` parameter to control this behavior.\n",
      "  _warn_prf(average, modifier, msg_start, len(result))\n",
      "/Users/quinngoldstein/opt/anaconda3/lib/python3.8/site-packages/sklearn/metrics/_classification.py:1318: UndefinedMetricWarning: Precision and F-score are ill-defined and being set to 0.0 in labels with no predicted samples. Use `zero_division` parameter to control this behavior.\n",
      "  _warn_prf(average, modifier, msg_start, len(result))\n",
      "/Users/quinngoldstein/opt/anaconda3/lib/python3.8/site-packages/sklearn/metrics/_classification.py:1318: UndefinedMetricWarning: Precision and F-score are ill-defined and being set to 0.0 in labels with no predicted samples. Use `zero_division` parameter to control this behavior.\n",
      "  _warn_prf(average, modifier, msg_start, len(result))\n"
     ]
    },
    {
     "name": "stdout",
     "output_type": "stream",
     "text": [
      "19451/19451 [==============================] - 14s 627us/step - loss: 0.6569 - accuracy: 0.6341\n",
      "Epoch 2/3\n",
      "19451/19451 [==============================] - 12s 613us/step - loss: 0.6569 - accuracy: 0.6341\n",
      "Epoch 3/3\n",
      "19451/19451 [==============================] - 12s 615us/step - loss: 0.6569 - accuracy: 0.6341\n",
      "              precision    recall  f1-score   support\n",
      "\n",
      "       Under       0.63      1.00      0.77      1360\n",
      "        Over       0.00      0.00      0.00       802\n",
      "\n",
      "    accuracy                           0.63      2162\n",
      "   macro avg       0.31      0.50      0.39      2162\n",
      "weighted avg       0.40      0.63      0.49      2162\n",
      "\n",
      "Epoch 1/3\n"
     ]
    },
    {
     "name": "stderr",
     "output_type": "stream",
     "text": [
      "/Users/quinngoldstein/opt/anaconda3/lib/python3.8/site-packages/sklearn/metrics/_classification.py:1318: UndefinedMetricWarning: Precision and F-score are ill-defined and being set to 0.0 in labels with no predicted samples. Use `zero_division` parameter to control this behavior.\n",
      "  _warn_prf(average, modifier, msg_start, len(result))\n",
      "/Users/quinngoldstein/opt/anaconda3/lib/python3.8/site-packages/sklearn/metrics/_classification.py:1318: UndefinedMetricWarning: Precision and F-score are ill-defined and being set to 0.0 in labels with no predicted samples. Use `zero_division` parameter to control this behavior.\n",
      "  _warn_prf(average, modifier, msg_start, len(result))\n",
      "/Users/quinngoldstein/opt/anaconda3/lib/python3.8/site-packages/sklearn/metrics/_classification.py:1318: UndefinedMetricWarning: Precision and F-score are ill-defined and being set to 0.0 in labels with no predicted samples. Use `zero_division` parameter to control this behavior.\n",
      "  _warn_prf(average, modifier, msg_start, len(result))\n",
      "/Users/quinngoldstein/opt/anaconda3/lib/python3.8/site-packages/sklearn/metrics/_classification.py:1318: UndefinedMetricWarning: Precision and F-score are ill-defined and being set to 0.0 in labels with no predicted samples. Use `zero_division` parameter to control this behavior.\n",
      "  _warn_prf(average, modifier, msg_start, len(result))\n",
      "/Users/quinngoldstein/opt/anaconda3/lib/python3.8/site-packages/sklearn/metrics/_classification.py:1318: UndefinedMetricWarning: Precision and F-score are ill-defined and being set to 0.0 in labels with no predicted samples. Use `zero_division` parameter to control this behavior.\n",
      "  _warn_prf(average, modifier, msg_start, len(result))\n",
      "/Users/quinngoldstein/opt/anaconda3/lib/python3.8/site-packages/sklearn/metrics/_classification.py:1318: UndefinedMetricWarning: Precision and F-score are ill-defined and being set to 0.0 in labels with no predicted samples. Use `zero_division` parameter to control this behavior.\n",
      "  _warn_prf(average, modifier, msg_start, len(result))\n"
     ]
    },
    {
     "name": "stdout",
     "output_type": "stream",
     "text": [
      "19452/19452 [==============================] - 13s 666us/step - loss: 0.6567 - accuracy: 0.6344\n",
      "Epoch 2/3\n",
      "19452/19452 [==============================] - 13s 677us/step - loss: 0.6567 - accuracy: 0.6344\n",
      "Epoch 3/3\n",
      "19452/19452 [==============================] - 13s 651us/step - loss: 0.6566 - accuracy: 0.6344\n",
      "              precision    recall  f1-score   support\n",
      "\n",
      "       Under       0.63      1.00      0.77      1353\n",
      "        Over       0.00      0.00      0.00       808\n",
      "\n",
      "    accuracy                           0.63      2161\n",
      "   macro avg       0.31      0.50      0.39      2161\n",
      "weighted avg       0.39      0.63      0.48      2161\n",
      "\n",
      "Epoch 1/3\n"
     ]
    },
    {
     "name": "stderr",
     "output_type": "stream",
     "text": [
      "/Users/quinngoldstein/opt/anaconda3/lib/python3.8/site-packages/sklearn/metrics/_classification.py:1318: UndefinedMetricWarning: Precision and F-score are ill-defined and being set to 0.0 in labels with no predicted samples. Use `zero_division` parameter to control this behavior.\n",
      "  _warn_prf(average, modifier, msg_start, len(result))\n",
      "/Users/quinngoldstein/opt/anaconda3/lib/python3.8/site-packages/sklearn/metrics/_classification.py:1318: UndefinedMetricWarning: Precision and F-score are ill-defined and being set to 0.0 in labels with no predicted samples. Use `zero_division` parameter to control this behavior.\n",
      "  _warn_prf(average, modifier, msg_start, len(result))\n",
      "/Users/quinngoldstein/opt/anaconda3/lib/python3.8/site-packages/sklearn/metrics/_classification.py:1318: UndefinedMetricWarning: Precision and F-score are ill-defined and being set to 0.0 in labels with no predicted samples. Use `zero_division` parameter to control this behavior.\n",
      "  _warn_prf(average, modifier, msg_start, len(result))\n",
      "/Users/quinngoldstein/opt/anaconda3/lib/python3.8/site-packages/sklearn/metrics/_classification.py:1318: UndefinedMetricWarning: Precision and F-score are ill-defined and being set to 0.0 in labels with no predicted samples. Use `zero_division` parameter to control this behavior.\n",
      "  _warn_prf(average, modifier, msg_start, len(result))\n",
      "/Users/quinngoldstein/opt/anaconda3/lib/python3.8/site-packages/sklearn/metrics/_classification.py:1318: UndefinedMetricWarning: Precision and F-score are ill-defined and being set to 0.0 in labels with no predicted samples. Use `zero_division` parameter to control this behavior.\n",
      "  _warn_prf(average, modifier, msg_start, len(result))\n",
      "/Users/quinngoldstein/opt/anaconda3/lib/python3.8/site-packages/sklearn/metrics/_classification.py:1318: UndefinedMetricWarning: Precision and F-score are ill-defined and being set to 0.0 in labels with no predicted samples. Use `zero_division` parameter to control this behavior.\n",
      "  _warn_prf(average, modifier, msg_start, len(result))\n"
     ]
    },
    {
     "name": "stdout",
     "output_type": "stream",
     "text": [
      "19452/19452 [==============================] - 14s 700us/step - loss: 0.6566 - accuracy: 0.6346\n",
      "Epoch 2/3\n",
      "19452/19452 [==============================] - 13s 643us/step - loss: 0.6566 - accuracy: 0.6346\n",
      "Epoch 3/3\n",
      "19452/19452 [==============================] - 13s 651us/step - loss: 0.6565 - accuracy: 0.6346\n",
      "              precision    recall  f1-score   support\n",
      "\n",
      "       Under       0.62      1.00      0.77      1349\n",
      "        Over       0.00      0.00      0.00       812\n",
      "\n",
      "    accuracy                           0.62      2161\n",
      "   macro avg       0.31      0.50      0.38      2161\n",
      "weighted avg       0.39      0.62      0.48      2161\n",
      "\n",
      "Epoch 1/3\n"
     ]
    },
    {
     "name": "stderr",
     "output_type": "stream",
     "text": [
      "/Users/quinngoldstein/opt/anaconda3/lib/python3.8/site-packages/sklearn/metrics/_classification.py:1318: UndefinedMetricWarning: Precision and F-score are ill-defined and being set to 0.0 in labels with no predicted samples. Use `zero_division` parameter to control this behavior.\n",
      "  _warn_prf(average, modifier, msg_start, len(result))\n",
      "/Users/quinngoldstein/opt/anaconda3/lib/python3.8/site-packages/sklearn/metrics/_classification.py:1318: UndefinedMetricWarning: Precision and F-score are ill-defined and being set to 0.0 in labels with no predicted samples. Use `zero_division` parameter to control this behavior.\n",
      "  _warn_prf(average, modifier, msg_start, len(result))\n",
      "/Users/quinngoldstein/opt/anaconda3/lib/python3.8/site-packages/sklearn/metrics/_classification.py:1318: UndefinedMetricWarning: Precision and F-score are ill-defined and being set to 0.0 in labels with no predicted samples. Use `zero_division` parameter to control this behavior.\n",
      "  _warn_prf(average, modifier, msg_start, len(result))\n",
      "/Users/quinngoldstein/opt/anaconda3/lib/python3.8/site-packages/sklearn/metrics/_classification.py:1318: UndefinedMetricWarning: Precision and F-score are ill-defined and being set to 0.0 in labels with no predicted samples. Use `zero_division` parameter to control this behavior.\n",
      "  _warn_prf(average, modifier, msg_start, len(result))\n",
      "/Users/quinngoldstein/opt/anaconda3/lib/python3.8/site-packages/sklearn/metrics/_classification.py:1318: UndefinedMetricWarning: Precision and F-score are ill-defined and being set to 0.0 in labels with no predicted samples. Use `zero_division` parameter to control this behavior.\n",
      "  _warn_prf(average, modifier, msg_start, len(result))\n",
      "/Users/quinngoldstein/opt/anaconda3/lib/python3.8/site-packages/sklearn/metrics/_classification.py:1318: UndefinedMetricWarning: Precision and F-score are ill-defined and being set to 0.0 in labels with no predicted samples. Use `zero_division` parameter to control this behavior.\n",
      "  _warn_prf(average, modifier, msg_start, len(result))\n"
     ]
    },
    {
     "name": "stdout",
     "output_type": "stream",
     "text": [
      "19452/19452 [==============================] - 12s 608us/step - loss: 0.6571 - accuracy: 0.6337\n",
      "Epoch 2/3\n",
      "19452/19452 [==============================] - 12s 616us/step - loss: 0.6571 - accuracy: 0.6337\n",
      "Epoch 3/3\n",
      "19452/19452 [==============================] - 12s 643us/step - loss: 0.6572 - accuracy: 0.6337\n",
      "              precision    recall  f1-score   support\n",
      "\n",
      "       Under       0.63      1.00      0.77      1367\n",
      "        Over       0.00      0.00      0.00       794\n",
      "\n",
      "    accuracy                           0.63      2161\n",
      "   macro avg       0.32      0.50      0.39      2161\n",
      "weighted avg       0.40      0.63      0.49      2161\n",
      "\n",
      "Epoch 1/3\n"
     ]
    },
    {
     "name": "stderr",
     "output_type": "stream",
     "text": [
      "/Users/quinngoldstein/opt/anaconda3/lib/python3.8/site-packages/sklearn/metrics/_classification.py:1318: UndefinedMetricWarning: Precision and F-score are ill-defined and being set to 0.0 in labels with no predicted samples. Use `zero_division` parameter to control this behavior.\n",
      "  _warn_prf(average, modifier, msg_start, len(result))\n",
      "/Users/quinngoldstein/opt/anaconda3/lib/python3.8/site-packages/sklearn/metrics/_classification.py:1318: UndefinedMetricWarning: Precision and F-score are ill-defined and being set to 0.0 in labels with no predicted samples. Use `zero_division` parameter to control this behavior.\n",
      "  _warn_prf(average, modifier, msg_start, len(result))\n",
      "/Users/quinngoldstein/opt/anaconda3/lib/python3.8/site-packages/sklearn/metrics/_classification.py:1318: UndefinedMetricWarning: Precision and F-score are ill-defined and being set to 0.0 in labels with no predicted samples. Use `zero_division` parameter to control this behavior.\n",
      "  _warn_prf(average, modifier, msg_start, len(result))\n",
      "/Users/quinngoldstein/opt/anaconda3/lib/python3.8/site-packages/sklearn/metrics/_classification.py:1318: UndefinedMetricWarning: Precision and F-score are ill-defined and being set to 0.0 in labels with no predicted samples. Use `zero_division` parameter to control this behavior.\n",
      "  _warn_prf(average, modifier, msg_start, len(result))\n",
      "/Users/quinngoldstein/opt/anaconda3/lib/python3.8/site-packages/sklearn/metrics/_classification.py:1318: UndefinedMetricWarning: Precision and F-score are ill-defined and being set to 0.0 in labels with no predicted samples. Use `zero_division` parameter to control this behavior.\n",
      "  _warn_prf(average, modifier, msg_start, len(result))\n",
      "/Users/quinngoldstein/opt/anaconda3/lib/python3.8/site-packages/sklearn/metrics/_classification.py:1318: UndefinedMetricWarning: Precision and F-score are ill-defined and being set to 0.0 in labels with no predicted samples. Use `zero_division` parameter to control this behavior.\n",
      "  _warn_prf(average, modifier, msg_start, len(result))\n"
     ]
    },
    {
     "name": "stdout",
     "output_type": "stream",
     "text": [
      "19452/19452 [==============================] - 12s 610us/step - loss: 0.6568 - accuracy: 0.6342\n",
      "Epoch 2/3\n",
      "19452/19452 [==============================] - 12s 637us/step - loss: 0.6568 - accuracy: 0.6342\n",
      "Epoch 3/3\n",
      "19452/19452 [==============================] - 12s 614us/step - loss: 0.6569 - accuracy: 0.6342\n",
      "              precision    recall  f1-score   support\n",
      "\n",
      "       Under       0.63      1.00      0.77      1358\n",
      "        Over       0.00      0.00      0.00       803\n",
      "\n",
      "    accuracy                           0.63      2161\n",
      "   macro avg       0.31      0.50      0.39      2161\n",
      "weighted avg       0.39      0.63      0.49      2161\n",
      "\n",
      "Epoch 1/3\n"
     ]
    },
    {
     "name": "stderr",
     "output_type": "stream",
     "text": [
      "/Users/quinngoldstein/opt/anaconda3/lib/python3.8/site-packages/sklearn/metrics/_classification.py:1318: UndefinedMetricWarning: Precision and F-score are ill-defined and being set to 0.0 in labels with no predicted samples. Use `zero_division` parameter to control this behavior.\n",
      "  _warn_prf(average, modifier, msg_start, len(result))\n",
      "/Users/quinngoldstein/opt/anaconda3/lib/python3.8/site-packages/sklearn/metrics/_classification.py:1318: UndefinedMetricWarning: Precision and F-score are ill-defined and being set to 0.0 in labels with no predicted samples. Use `zero_division` parameter to control this behavior.\n",
      "  _warn_prf(average, modifier, msg_start, len(result))\n",
      "/Users/quinngoldstein/opt/anaconda3/lib/python3.8/site-packages/sklearn/metrics/_classification.py:1318: UndefinedMetricWarning: Precision and F-score are ill-defined and being set to 0.0 in labels with no predicted samples. Use `zero_division` parameter to control this behavior.\n",
      "  _warn_prf(average, modifier, msg_start, len(result))\n",
      "/Users/quinngoldstein/opt/anaconda3/lib/python3.8/site-packages/sklearn/metrics/_classification.py:1318: UndefinedMetricWarning: Precision and F-score are ill-defined and being set to 0.0 in labels with no predicted samples. Use `zero_division` parameter to control this behavior.\n",
      "  _warn_prf(average, modifier, msg_start, len(result))\n",
      "/Users/quinngoldstein/opt/anaconda3/lib/python3.8/site-packages/sklearn/metrics/_classification.py:1318: UndefinedMetricWarning: Precision and F-score are ill-defined and being set to 0.0 in labels with no predicted samples. Use `zero_division` parameter to control this behavior.\n",
      "  _warn_prf(average, modifier, msg_start, len(result))\n",
      "/Users/quinngoldstein/opt/anaconda3/lib/python3.8/site-packages/sklearn/metrics/_classification.py:1318: UndefinedMetricWarning: Precision and F-score are ill-defined and being set to 0.0 in labels with no predicted samples. Use `zero_division` parameter to control this behavior.\n",
      "  _warn_prf(average, modifier, msg_start, len(result))\n"
     ]
    },
    {
     "name": "stdout",
     "output_type": "stream",
     "text": [
      "19452/19452 [==============================] - 12s 614us/step - loss: 0.6576 - accuracy: 0.6328\n",
      "Epoch 2/3\n",
      "19452/19452 [==============================] - 12s 626us/step - loss: 0.6575 - accuracy: 0.6328\n",
      "Epoch 3/3\n",
      "19452/19452 [==============================] - 12s 617us/step - loss: 0.6577 - accuracy: 0.6328\n",
      "              precision    recall  f1-score   support\n",
      "\n",
      "       Under       0.64      1.00      0.78      1385\n",
      "        Over       0.00      0.00      0.00       776\n",
      "\n",
      "    accuracy                           0.64      2161\n",
      "   macro avg       0.32      0.50      0.39      2161\n",
      "weighted avg       0.41      0.64      0.50      2161\n",
      "\n",
      "Epoch 1/3\n"
     ]
    },
    {
     "name": "stderr",
     "output_type": "stream",
     "text": [
      "/Users/quinngoldstein/opt/anaconda3/lib/python3.8/site-packages/sklearn/metrics/_classification.py:1318: UndefinedMetricWarning: Precision and F-score are ill-defined and being set to 0.0 in labels with no predicted samples. Use `zero_division` parameter to control this behavior.\n",
      "  _warn_prf(average, modifier, msg_start, len(result))\n",
      "/Users/quinngoldstein/opt/anaconda3/lib/python3.8/site-packages/sklearn/metrics/_classification.py:1318: UndefinedMetricWarning: Precision and F-score are ill-defined and being set to 0.0 in labels with no predicted samples. Use `zero_division` parameter to control this behavior.\n",
      "  _warn_prf(average, modifier, msg_start, len(result))\n",
      "/Users/quinngoldstein/opt/anaconda3/lib/python3.8/site-packages/sklearn/metrics/_classification.py:1318: UndefinedMetricWarning: Precision and F-score are ill-defined and being set to 0.0 in labels with no predicted samples. Use `zero_division` parameter to control this behavior.\n",
      "  _warn_prf(average, modifier, msg_start, len(result))\n",
      "/Users/quinngoldstein/opt/anaconda3/lib/python3.8/site-packages/sklearn/metrics/_classification.py:1318: UndefinedMetricWarning: Precision and F-score are ill-defined and being set to 0.0 in labels with no predicted samples. Use `zero_division` parameter to control this behavior.\n",
      "  _warn_prf(average, modifier, msg_start, len(result))\n",
      "/Users/quinngoldstein/opt/anaconda3/lib/python3.8/site-packages/sklearn/metrics/_classification.py:1318: UndefinedMetricWarning: Precision and F-score are ill-defined and being set to 0.0 in labels with no predicted samples. Use `zero_division` parameter to control this behavior.\n",
      "  _warn_prf(average, modifier, msg_start, len(result))\n",
      "/Users/quinngoldstein/opt/anaconda3/lib/python3.8/site-packages/sklearn/metrics/_classification.py:1318: UndefinedMetricWarning: Precision and F-score are ill-defined and being set to 0.0 in labels with no predicted samples. Use `zero_division` parameter to control this behavior.\n",
      "  _warn_prf(average, modifier, msg_start, len(result))\n"
     ]
    },
    {
     "name": "stdout",
     "output_type": "stream",
     "text": [
      "19452/19452 [==============================] - 12s 626us/step - loss: 0.6576 - accuracy: 0.6327\n",
      "Epoch 2/3\n",
      "19452/19452 [==============================] - 13s 661us/step - loss: 0.6577 - accuracy: 0.6327\n",
      "Epoch 3/3\n",
      "19452/19452 [==============================] - 12s 625us/step - loss: 0.6576 - accuracy: 0.6327\n",
      "              precision    recall  f1-score   support\n",
      "\n",
      "       Under       0.64      1.00      0.78      1386\n",
      "        Over       0.00      0.00      0.00       775\n",
      "\n",
      "    accuracy                           0.64      2161\n",
      "   macro avg       0.32      0.50      0.39      2161\n",
      "weighted avg       0.41      0.64      0.50      2161\n",
      "\n",
      "Epoch 1/3\n"
     ]
    },
    {
     "name": "stderr",
     "output_type": "stream",
     "text": [
      "/Users/quinngoldstein/opt/anaconda3/lib/python3.8/site-packages/sklearn/metrics/_classification.py:1318: UndefinedMetricWarning: Precision and F-score are ill-defined and being set to 0.0 in labels with no predicted samples. Use `zero_division` parameter to control this behavior.\n",
      "  _warn_prf(average, modifier, msg_start, len(result))\n",
      "/Users/quinngoldstein/opt/anaconda3/lib/python3.8/site-packages/sklearn/metrics/_classification.py:1318: UndefinedMetricWarning: Precision and F-score are ill-defined and being set to 0.0 in labels with no predicted samples. Use `zero_division` parameter to control this behavior.\n",
      "  _warn_prf(average, modifier, msg_start, len(result))\n",
      "/Users/quinngoldstein/opt/anaconda3/lib/python3.8/site-packages/sklearn/metrics/_classification.py:1318: UndefinedMetricWarning: Precision and F-score are ill-defined and being set to 0.0 in labels with no predicted samples. Use `zero_division` parameter to control this behavior.\n",
      "  _warn_prf(average, modifier, msg_start, len(result))\n",
      "/Users/quinngoldstein/opt/anaconda3/lib/python3.8/site-packages/sklearn/metrics/_classification.py:1318: UndefinedMetricWarning: Precision and F-score are ill-defined and being set to 0.0 in labels with no predicted samples. Use `zero_division` parameter to control this behavior.\n",
      "  _warn_prf(average, modifier, msg_start, len(result))\n",
      "/Users/quinngoldstein/opt/anaconda3/lib/python3.8/site-packages/sklearn/metrics/_classification.py:1318: UndefinedMetricWarning: Precision and F-score are ill-defined and being set to 0.0 in labels with no predicted samples. Use `zero_division` parameter to control this behavior.\n",
      "  _warn_prf(average, modifier, msg_start, len(result))\n",
      "/Users/quinngoldstein/opt/anaconda3/lib/python3.8/site-packages/sklearn/metrics/_classification.py:1318: UndefinedMetricWarning: Precision and F-score are ill-defined and being set to 0.0 in labels with no predicted samples. Use `zero_division` parameter to control this behavior.\n",
      "  _warn_prf(average, modifier, msg_start, len(result))\n"
     ]
    },
    {
     "name": "stdout",
     "output_type": "stream",
     "text": [
      "19452/19452 [==============================] - 13s 639us/step - loss: 0.6571 - accuracy: 0.6337\n",
      "Epoch 2/3\n",
      "19452/19452 [==============================] - 12s 623us/step - loss: 0.6571 - accuracy: 0.6337\n",
      "Epoch 3/3\n",
      "19452/19452 [==============================] - 13s 648us/step - loss: 0.6571 - accuracy: 0.6337\n",
      "              precision    recall  f1-score   support\n",
      "\n",
      "       Under       0.63      1.00      0.78      1368\n",
      "        Over       0.00      0.00      0.00       793\n",
      "\n",
      "    accuracy                           0.63      2161\n",
      "   macro avg       0.32      0.50      0.39      2161\n",
      "weighted avg       0.40      0.63      0.49      2161\n",
      "\n",
      "Average precision: 0.3167998763720329\n",
      "Average recall: 0.5\n",
      "Average accuracy: 0.6335997527440658\n"
     ]
    },
    {
     "name": "stderr",
     "output_type": "stream",
     "text": [
      "/Users/quinngoldstein/opt/anaconda3/lib/python3.8/site-packages/sklearn/metrics/_classification.py:1318: UndefinedMetricWarning: Precision and F-score are ill-defined and being set to 0.0 in labels with no predicted samples. Use `zero_division` parameter to control this behavior.\n",
      "  _warn_prf(average, modifier, msg_start, len(result))\n",
      "/Users/quinngoldstein/opt/anaconda3/lib/python3.8/site-packages/sklearn/metrics/_classification.py:1318: UndefinedMetricWarning: Precision and F-score are ill-defined and being set to 0.0 in labels with no predicted samples. Use `zero_division` parameter to control this behavior.\n",
      "  _warn_prf(average, modifier, msg_start, len(result))\n",
      "/Users/quinngoldstein/opt/anaconda3/lib/python3.8/site-packages/sklearn/metrics/_classification.py:1318: UndefinedMetricWarning: Precision and F-score are ill-defined and being set to 0.0 in labels with no predicted samples. Use `zero_division` parameter to control this behavior.\n",
      "  _warn_prf(average, modifier, msg_start, len(result))\n",
      "/Users/quinngoldstein/opt/anaconda3/lib/python3.8/site-packages/sklearn/metrics/_classification.py:1318: UndefinedMetricWarning: Precision and F-score are ill-defined and being set to 0.0 in labels with no predicted samples. Use `zero_division` parameter to control this behavior.\n",
      "  _warn_prf(average, modifier, msg_start, len(result))\n",
      "/Users/quinngoldstein/opt/anaconda3/lib/python3.8/site-packages/sklearn/metrics/_classification.py:1318: UndefinedMetricWarning: Precision and F-score are ill-defined and being set to 0.0 in labels with no predicted samples. Use `zero_division` parameter to control this behavior.\n",
      "  _warn_prf(average, modifier, msg_start, len(result))\n",
      "/Users/quinngoldstein/opt/anaconda3/lib/python3.8/site-packages/sklearn/metrics/_classification.py:1318: UndefinedMetricWarning: Precision and F-score are ill-defined and being set to 0.0 in labels with no predicted samples. Use `zero_division` parameter to control this behavior.\n",
      "  _warn_prf(average, modifier, msg_start, len(result))\n"
     ]
    }
   ],
   "source": [
    "from sklearn.model_selection import KFold # import k-fold validation\n",
    "\n",
    "# We use bedrooms, bathrooms, sqft_living, sqft_lot, and 'most_recent' attributes\n",
    "X = df[['bedrooms', 'bathrooms', 'sqft_living', 'sqft_lot', 'most_recent']]\n",
    "y = df['price_range']\n",
    "\n",
    "# Split the data up in train and test sets\n",
    "X_train, X_test, y_train, y_test = train_test_split(X, y, test_size=0.33, random_state=42)\n",
    "\n",
    "target_names = ['Under', 'Over']\n",
    "\n",
    "# construct a model\n",
    "model = keras.models.Sequential([\n",
    "    keras.layers.Dense(10, activation='relu', input_shape=(5,)),\n",
    "    keras.layers.Dense(10, activation='relu'),\n",
    "    keras.layers.Dense(1, activation='sigmoid')\n",
    "])\n",
    "\n",
    "kf = KFold(n_splits=10, random_state=None, shuffle=True) \n",
    "precision_sum = recall_sum = accuracy_sum = 0\n",
    "\n",
    "metrics_df = pd.DataFrame(columns = ['precision', 'recall', 'accuracy'])\n",
    "\n",
    "for train_index, test_index in kf.split(X):\n",
    "    X_train, X_test = X.iloc[train_index], X.iloc[test_index]\n",
    "    y_train, y_test = y.iloc[train_index], y.iloc[test_index]\n",
    "\n",
    "    model.compile(loss='binary_crossentropy',\n",
    "              optimizer='adam',\n",
    "              metrics=['accuracy'])\n",
    "                   \n",
    "    model.fit(X_train, y_train,epochs=3, batch_size=1, verbose=1)\n",
    "    \n",
    "    y_pred = (model.predict(X_test) > 0.5).astype(\"int32\")\n",
    "    \n",
    "    # plot a confusion matrix\n",
    "    confusion_mat = confusion_matrix(y_test, y_pred)\n",
    "    \n",
    "    # classification report\n",
    "    print(classification_report(y_test, y_pred, target_names=target_names))  \n",
    "    result_metrics_dict = classification_report(y_test, y_pred, target_names=target_names, output_dict=True)\n",
    "    \n",
    "    precision_sum += result_metrics_dict[\"macro avg\"][\"precision\"]\n",
    "    recall_sum += result_metrics_dict[\"macro avg\"][\"recall\"]\n",
    "    accuracy_sum += result_metrics_dict[\"accuracy\"]\n",
    "    \n",
    "    metrics_list = []\n",
    "    metrics_list.append(result_metrics_dict[\"macro avg\"][\"precision\"])\n",
    "    metrics_list.append(result_metrics_dict[\"macro avg\"][\"recall\"])\n",
    "    metrics_list.append(result_metrics_dict[\"accuracy\"])\n",
    "    \n",
    "    metrics_series = pd.Series(metrics_list, index=metrics_df.columns)\n",
    "    metrics_df = metrics_df.append(metrics_series, ignore_index=True)\n",
    "\n",
    "print(\"Average precision:\", precision_sum/kf.get_n_splits(X))\n",
    "print(\"Average recall:\", recall_sum/kf.get_n_splits(X))\n",
    "print(\"Average accuracy:\", accuracy_sum/kf.get_n_splits(X))\n",
    " \n",
    "metrics_df.to_csv('./MLP4_data/nn_model3_metrics.csv')"
   ]
  },
  {
   "cell_type": "markdown",
   "metadata": {},
   "source": [
    "#### Model 2\n",
    "\n",
    "- input layer (5 attributes = 5 units)\n",
    "- 2 hidden layers (15 units)\n",
    "- output layer (1 unit)"
   ]
  },
  {
   "cell_type": "code",
   "execution_count": 17,
   "metadata": {
    "scrolled": true
   },
   "outputs": [
    {
     "name": "stdout",
     "output_type": "stream",
     "text": [
      "Epoch 1/3\n",
      "19451/19451 [==============================] - 14s 685us/step - loss: 42.6243 - accuracy: 0.6868\n",
      "Epoch 2/3\n",
      "19451/19451 [==============================] - 13s 677us/step - loss: 0.6741 - accuracy: 0.6493\n",
      "Epoch 3/3\n",
      "19451/19451 [==============================] - 13s 687us/step - loss: 0.5792 - accuracy: 0.6905\n",
      "              precision    recall  f1-score   support\n",
      "\n",
      "       Under       0.83      0.78      0.80      1398\n",
      "        Over       0.64      0.72      0.67       764\n",
      "\n",
      "    accuracy                           0.76      2162\n",
      "   macro avg       0.74      0.75      0.74      2162\n",
      "weighted avg       0.76      0.76      0.76      2162\n",
      "\n",
      "Epoch 1/3\n",
      "19451/19451 [==============================] - 15s 746us/step - loss: 0.6314 - accuracy: 0.6388\n",
      "Epoch 2/3\n",
      "19451/19451 [==============================] - 15s 749us/step - loss: 0.5678 - accuracy: 0.6967\n",
      "Epoch 3/3\n",
      "19451/19451 [==============================] - 15s 773us/step - loss: 0.5522 - accuracy: 0.7358\n",
      "              precision    recall  f1-score   support\n",
      "\n",
      "       Under       0.88      0.66      0.75      1409\n",
      "        Over       0.57      0.83      0.67       753\n",
      "\n",
      "    accuracy                           0.72      2162\n",
      "   macro avg       0.72      0.75      0.71      2162\n",
      "weighted avg       0.77      0.72      0.73      2162\n",
      "\n",
      "Epoch 1/3\n",
      "19451/19451 [==============================] - 15s 740us/step - loss: 0.5425 - accuracy: 0.7502\n",
      "Epoch 2/3\n",
      "19451/19451 [==============================] - 14s 721us/step - loss: 0.5195 - accuracy: 0.7543\n",
      "Epoch 3/3\n",
      "19451/19451 [==============================] - 14s 728us/step - loss: 0.5197 - accuracy: 0.7571\n",
      "              precision    recall  f1-score   support\n",
      "\n",
      "       Under       0.70      0.96      0.81      1353\n",
      "        Over       0.84      0.32      0.46       809\n",
      "\n",
      "    accuracy                           0.72      2162\n",
      "   macro avg       0.77      0.64      0.64      2162\n",
      "weighted avg       0.75      0.72      0.68      2162\n",
      "\n",
      "Epoch 1/3\n",
      "19452/19452 [==============================] - 15s 763us/step - loss: 0.5157 - accuracy: 0.7547\n",
      "Epoch 2/3\n",
      "19452/19452 [==============================] - 14s 725us/step - loss: 0.5192 - accuracy: 0.7534\n",
      "Epoch 3/3\n",
      "19452/19452 [==============================] - 13s 677us/step - loss: 0.5060 - accuracy: 0.7612\n",
      "              precision    recall  f1-score   support\n",
      "\n",
      "       Under       0.78      0.87      0.82      1333\n",
      "        Over       0.74      0.60      0.66       828\n",
      "\n",
      "    accuracy                           0.77      2161\n",
      "   macro avg       0.76      0.74      0.74      2161\n",
      "weighted avg       0.76      0.77      0.76      2161\n",
      "\n",
      "Epoch 1/3\n",
      "19452/19452 [==============================] - 14s 689us/step - loss: 0.5108 - accuracy: 0.7569\n",
      "Epoch 2/3\n",
      "19452/19452 [==============================] - 17s 859us/step - loss: 0.5069 - accuracy: 0.7572\n",
      "Epoch 3/3\n",
      "19452/19452 [==============================] - 15s 749us/step - loss: 0.5110 - accuracy: 0.7519\n",
      "              precision    recall  f1-score   support\n",
      "\n",
      "       Under       0.75      0.92      0.83      1372\n",
      "        Over       0.77      0.48      0.59       789\n",
      "\n",
      "    accuracy                           0.76      2161\n",
      "   macro avg       0.76      0.70      0.71      2161\n",
      "weighted avg       0.76      0.76      0.74      2161\n",
      "\n",
      "Epoch 1/3\n",
      "19452/19452 [==============================] - 14s 688us/step - loss: 0.5085 - accuracy: 0.7591\n",
      "Epoch 2/3\n",
      "19452/19452 [==============================] - 13s 671us/step - loss: 0.5062 - accuracy: 0.7618\n",
      "Epoch 3/3\n",
      "19452/19452 [==============================] - 13s 691us/step - loss: 0.5058 - accuracy: 0.7615\n",
      "              precision    recall  f1-score   support\n",
      "\n",
      "       Under       0.81      0.82      0.82      1376\n",
      "        Over       0.68      0.67      0.68       785\n",
      "\n",
      "    accuracy                           0.77      2161\n",
      "   macro avg       0.75      0.75      0.75      2161\n",
      "weighted avg       0.77      0.77      0.77      2161\n",
      "\n",
      "Epoch 1/3\n",
      "19452/19452 [==============================] - 14s 684us/step - loss: 0.4978 - accuracy: 0.7622\n",
      "Epoch 2/3\n",
      "19452/19452 [==============================] - 13s 682us/step - loss: 0.4971 - accuracy: 0.7643\n",
      "Epoch 3/3\n",
      "19452/19452 [==============================] - 14s 694us/step - loss: 0.4964 - accuracy: 0.7664\n",
      "              precision    recall  f1-score   support\n",
      "\n",
      "       Under       0.78      0.88      0.82      1346\n",
      "        Over       0.75      0.58      0.65       815\n",
      "\n",
      "    accuracy                           0.77      2161\n",
      "   macro avg       0.76      0.73      0.74      2161\n",
      "weighted avg       0.76      0.77      0.76      2161\n",
      "\n",
      "Epoch 1/3\n",
      "19452/19452 [==============================] - 14s 703us/step - loss: 0.4887 - accuracy: 0.7704\n",
      "Epoch 2/3\n",
      "19452/19452 [==============================] - 13s 682us/step - loss: 0.4910 - accuracy: 0.7657\n",
      "Epoch 3/3\n",
      "19452/19452 [==============================] - 13s 693us/step - loss: 0.4807 - accuracy: 0.7717\n",
      "              precision    recall  f1-score   support\n",
      "\n",
      "       Under       0.81      0.82      0.81      1373\n",
      "        Over       0.68      0.67      0.67       788\n",
      "\n",
      "    accuracy                           0.76      2161\n",
      "   macro avg       0.74      0.74      0.74      2161\n",
      "weighted avg       0.76      0.76      0.76      2161\n",
      "\n",
      "Epoch 1/3\n",
      "19452/19452 [==============================] - 14s 693us/step - loss: 0.4850 - accuracy: 0.7711\n",
      "Epoch 2/3\n",
      "19452/19452 [==============================] - 13s 693us/step - loss: 0.4822 - accuracy: 0.7687\n",
      "Epoch 3/3\n",
      "19452/19452 [==============================] - 13s 687us/step - loss: 0.4811 - accuracy: 0.7697\n",
      "              precision    recall  f1-score   support\n",
      "\n",
      "       Under       0.78      0.86      0.82      1364\n",
      "        Over       0.71      0.58      0.64       797\n",
      "\n",
      "    accuracy                           0.76      2161\n",
      "   macro avg       0.75      0.72      0.73      2161\n",
      "weighted avg       0.76      0.76      0.75      2161\n",
      "\n",
      "Epoch 1/3\n",
      "19452/19452 [==============================] - 13s 679us/step - loss: 0.4849 - accuracy: 0.7696\n",
      "Epoch 2/3\n",
      "19452/19452 [==============================] - 13s 682us/step - loss: 0.4850 - accuracy: 0.7653\n",
      "Epoch 3/3\n",
      "19452/19452 [==============================] - 13s 685us/step - loss: 0.4824 - accuracy: 0.7668\n",
      "              precision    recall  f1-score   support\n",
      "\n",
      "       Under       0.80      0.86      0.83      1370\n",
      "        Over       0.71      0.62      0.66       791\n",
      "\n",
      "    accuracy                           0.77      2161\n",
      "   macro avg       0.76      0.74      0.74      2161\n",
      "weighted avg       0.77      0.77      0.77      2161\n",
      "\n",
      "Average precision: 0.7506588210863079\n",
      "Average recall: 0.7248572754451548\n",
      "Average accuracy: 0.754872859680117\n"
     ]
    }
   ],
   "source": [
    "from sklearn.model_selection import KFold # import k-fold validation\n",
    "\n",
    "# We use bedrooms, bathrooms, sqft_living, sqft_lot, and 'most_recent' attributes\n",
    "X = df[['bedrooms', 'bathrooms', 'sqft_living', 'sqft_lot', 'most_recent']]\n",
    "y = df['price_range']\n",
    "\n",
    "# Split the data up in train and test sets\n",
    "X_train, X_test, y_train, y_test = train_test_split(X, y, test_size=0.33, random_state=42)\n",
    "\n",
    "target_names = ['Under', 'Over']\n",
    "\n",
    "# construct a model\n",
    "model = keras.models.Sequential([\n",
    "    keras.layers.Dense(15, activation='relu', input_shape=(5,)),\n",
    "    keras.layers.Dense(15, activation='relu'),\n",
    "    keras.layers.Dense(1, activation='sigmoid')\n",
    "])\n",
    "\n",
    "kf = KFold(n_splits=10, random_state=None, shuffle=True) \n",
    "precision_sum = recall_sum = accuracy_sum = 0\n",
    "\n",
    "metrics_df = pd.DataFrame(columns = ['precision', 'recall', 'accuracy'])\n",
    "\n",
    "for train_index, test_index in kf.split(X):\n",
    "    X_train, X_test = X.iloc[train_index], X.iloc[test_index]\n",
    "    y_train, y_test = y.iloc[train_index], y.iloc[test_index]\n",
    "\n",
    "    model.compile(loss='binary_crossentropy',\n",
    "              optimizer='adam',\n",
    "              metrics=['accuracy'])\n",
    "                   \n",
    "    model.fit(X_train, y_train,epochs=3, batch_size=1, verbose=1)\n",
    "    \n",
    "    y_pred = (model.predict(X_test) > 0.5).astype(\"int32\")\n",
    "    \n",
    "    # plot a confusion matrix\n",
    "    confusion_mat = confusion_matrix(y_test, y_pred)\n",
    "    \n",
    "    # classification report\n",
    "    print(classification_report(y_test, y_pred, target_names=target_names))  \n",
    "    result_metrics_dict = classification_report(y_test, y_pred, target_names=target_names, output_dict=True)\n",
    "    \n",
    "    precision_sum += result_metrics_dict[\"macro avg\"][\"precision\"]\n",
    "    recall_sum += result_metrics_dict[\"macro avg\"][\"recall\"]\n",
    "    accuracy_sum += result_metrics_dict[\"accuracy\"]\n",
    "    \n",
    "    metrics_list = []\n",
    "    metrics_list.append(result_metrics_dict[\"macro avg\"][\"precision\"])\n",
    "    metrics_list.append(result_metrics_dict[\"macro avg\"][\"recall\"])\n",
    "    metrics_list.append(result_metrics_dict[\"accuracy\"])\n",
    "    \n",
    "    metrics_series = pd.Series(metrics_list, index=metrics_df.columns)\n",
    "    metrics_df = metrics_df.append(metrics_series, ignore_index=True)\n",
    "\n",
    "print(\"Average precision:\", precision_sum/kf.get_n_splits(X))\n",
    "print(\"Average recall:\", recall_sum/kf.get_n_splits(X))\n",
    "print(\"Average accuracy:\", accuracy_sum/kf.get_n_splits(X))\n",
    "\n",
    "metrics_df.to_csv('./MLP4_data/nn_model4_metrics.csv')"
   ]
  },
  {
   "cell_type": "markdown",
   "metadata": {},
   "source": [
    "### Varying Activation Functions"
   ]
  },
  {
   "cell_type": "markdown",
   "metadata": {},
   "source": [
    "#### Model 1\n",
    "\n",
    "Relu Hidden Layer Activation Function with Sigmoid output layer\n",
    "\n",
    "- input layer (5 attributes = 5 units)\n",
    "- 2 hidden layers (6 units)\n",
    "- output layer (1 unit)"
   ]
  },
  {
   "cell_type": "code",
   "execution_count": 14,
   "metadata": {
    "scrolled": true
   },
   "outputs": [
    {
     "name": "stdout",
     "output_type": "stream",
     "text": [
      "Epoch 1/3\n",
      "19451/19451 [==============================] - 12s 611us/step - loss: 12.2390 - accuracy: 0.6187\n",
      "Epoch 2/3\n",
      "19451/19451 [==============================] - 12s 607us/step - loss: 0.6562 - accuracy: 0.6353\n",
      "Epoch 3/3\n",
      "19451/19451 [==============================] - 12s 616us/step - loss: 0.6563 - accuracy: 0.6353\n",
      "              precision    recall  f1-score   support\n",
      "\n",
      "       Under       0.62      1.00      0.76      1337\n",
      "        Over       0.00      0.00      0.00       825\n",
      "\n",
      "    accuracy                           0.62      2162\n",
      "   macro avg       0.31      0.50      0.38      2162\n",
      "weighted avg       0.38      0.62      0.47      2162\n",
      "\n",
      "Epoch 1/3\n"
     ]
    },
    {
     "name": "stderr",
     "output_type": "stream",
     "text": [
      "/Users/quinngoldstein/opt/anaconda3/lib/python3.8/site-packages/sklearn/metrics/_classification.py:1318: UndefinedMetricWarning: Precision and F-score are ill-defined and being set to 0.0 in labels with no predicted samples. Use `zero_division` parameter to control this behavior.\n",
      "  _warn_prf(average, modifier, msg_start, len(result))\n",
      "/Users/quinngoldstein/opt/anaconda3/lib/python3.8/site-packages/sklearn/metrics/_classification.py:1318: UndefinedMetricWarning: Precision and F-score are ill-defined and being set to 0.0 in labels with no predicted samples. Use `zero_division` parameter to control this behavior.\n",
      "  _warn_prf(average, modifier, msg_start, len(result))\n",
      "/Users/quinngoldstein/opt/anaconda3/lib/python3.8/site-packages/sklearn/metrics/_classification.py:1318: UndefinedMetricWarning: Precision and F-score are ill-defined and being set to 0.0 in labels with no predicted samples. Use `zero_division` parameter to control this behavior.\n",
      "  _warn_prf(average, modifier, msg_start, len(result))\n",
      "/Users/quinngoldstein/opt/anaconda3/lib/python3.8/site-packages/sklearn/metrics/_classification.py:1318: UndefinedMetricWarning: Precision and F-score are ill-defined and being set to 0.0 in labels with no predicted samples. Use `zero_division` parameter to control this behavior.\n",
      "  _warn_prf(average, modifier, msg_start, len(result))\n",
      "/Users/quinngoldstein/opt/anaconda3/lib/python3.8/site-packages/sklearn/metrics/_classification.py:1318: UndefinedMetricWarning: Precision and F-score are ill-defined and being set to 0.0 in labels with no predicted samples. Use `zero_division` parameter to control this behavior.\n",
      "  _warn_prf(average, modifier, msg_start, len(result))\n",
      "/Users/quinngoldstein/opt/anaconda3/lib/python3.8/site-packages/sklearn/metrics/_classification.py:1318: UndefinedMetricWarning: Precision and F-score are ill-defined and being set to 0.0 in labels with no predicted samples. Use `zero_division` parameter to control this behavior.\n",
      "  _warn_prf(average, modifier, msg_start, len(result))\n"
     ]
    },
    {
     "name": "stdout",
     "output_type": "stream",
     "text": [
      "19451/19451 [==============================] - 12s 618us/step - loss: 0.6569 - accuracy: 0.6337\n",
      "Epoch 2/3\n",
      "19451/19451 [==============================] - 12s 605us/step - loss: 0.6571 - accuracy: 0.6337\n",
      "Epoch 3/3\n",
      "19451/19451 [==============================] - 12s 606us/step - loss: 0.6572 - accuracy: 0.6337\n",
      "              precision    recall  f1-score   support\n",
      "\n",
      "       Under       0.63      1.00      0.78      1368\n",
      "        Over       0.00      0.00      0.00       794\n",
      "\n",
      "    accuracy                           0.63      2162\n",
      "   macro avg       0.32      0.50      0.39      2162\n",
      "weighted avg       0.40      0.63      0.49      2162\n",
      "\n",
      "Epoch 1/3\n"
     ]
    },
    {
     "name": "stderr",
     "output_type": "stream",
     "text": [
      "/Users/quinngoldstein/opt/anaconda3/lib/python3.8/site-packages/sklearn/metrics/_classification.py:1318: UndefinedMetricWarning: Precision and F-score are ill-defined and being set to 0.0 in labels with no predicted samples. Use `zero_division` parameter to control this behavior.\n",
      "  _warn_prf(average, modifier, msg_start, len(result))\n",
      "/Users/quinngoldstein/opt/anaconda3/lib/python3.8/site-packages/sklearn/metrics/_classification.py:1318: UndefinedMetricWarning: Precision and F-score are ill-defined and being set to 0.0 in labels with no predicted samples. Use `zero_division` parameter to control this behavior.\n",
      "  _warn_prf(average, modifier, msg_start, len(result))\n",
      "/Users/quinngoldstein/opt/anaconda3/lib/python3.8/site-packages/sklearn/metrics/_classification.py:1318: UndefinedMetricWarning: Precision and F-score are ill-defined and being set to 0.0 in labels with no predicted samples. Use `zero_division` parameter to control this behavior.\n",
      "  _warn_prf(average, modifier, msg_start, len(result))\n",
      "/Users/quinngoldstein/opt/anaconda3/lib/python3.8/site-packages/sklearn/metrics/_classification.py:1318: UndefinedMetricWarning: Precision and F-score are ill-defined and being set to 0.0 in labels with no predicted samples. Use `zero_division` parameter to control this behavior.\n",
      "  _warn_prf(average, modifier, msg_start, len(result))\n",
      "/Users/quinngoldstein/opt/anaconda3/lib/python3.8/site-packages/sklearn/metrics/_classification.py:1318: UndefinedMetricWarning: Precision and F-score are ill-defined and being set to 0.0 in labels with no predicted samples. Use `zero_division` parameter to control this behavior.\n",
      "  _warn_prf(average, modifier, msg_start, len(result))\n",
      "/Users/quinngoldstein/opt/anaconda3/lib/python3.8/site-packages/sklearn/metrics/_classification.py:1318: UndefinedMetricWarning: Precision and F-score are ill-defined and being set to 0.0 in labels with no predicted samples. Use `zero_division` parameter to control this behavior.\n",
      "  _warn_prf(average, modifier, msg_start, len(result))\n"
     ]
    },
    {
     "name": "stdout",
     "output_type": "stream",
     "text": [
      "19451/19451 [==============================] - 12s 606us/step - loss: 0.6572 - accuracy: 0.6336\n",
      "Epoch 2/3\n",
      "19451/19451 [==============================] - 12s 617us/step - loss: 0.6572 - accuracy: 0.6336\n",
      "Epoch 3/3\n",
      "19451/19451 [==============================] - 12s 607us/step - loss: 0.6571 - accuracy: 0.6336\n",
      "              precision    recall  f1-score   support\n",
      "\n",
      "       Under       0.63      1.00      0.78      1370\n",
      "        Over       0.00      0.00      0.00       792\n",
      "\n",
      "    accuracy                           0.63      2162\n",
      "   macro avg       0.32      0.50      0.39      2162\n",
      "weighted avg       0.40      0.63      0.49      2162\n",
      "\n",
      "Epoch 1/3\n"
     ]
    },
    {
     "name": "stderr",
     "output_type": "stream",
     "text": [
      "/Users/quinngoldstein/opt/anaconda3/lib/python3.8/site-packages/sklearn/metrics/_classification.py:1318: UndefinedMetricWarning: Precision and F-score are ill-defined and being set to 0.0 in labels with no predicted samples. Use `zero_division` parameter to control this behavior.\n",
      "  _warn_prf(average, modifier, msg_start, len(result))\n",
      "/Users/quinngoldstein/opt/anaconda3/lib/python3.8/site-packages/sklearn/metrics/_classification.py:1318: UndefinedMetricWarning: Precision and F-score are ill-defined and being set to 0.0 in labels with no predicted samples. Use `zero_division` parameter to control this behavior.\n",
      "  _warn_prf(average, modifier, msg_start, len(result))\n",
      "/Users/quinngoldstein/opt/anaconda3/lib/python3.8/site-packages/sklearn/metrics/_classification.py:1318: UndefinedMetricWarning: Precision and F-score are ill-defined and being set to 0.0 in labels with no predicted samples. Use `zero_division` parameter to control this behavior.\n",
      "  _warn_prf(average, modifier, msg_start, len(result))\n",
      "/Users/quinngoldstein/opt/anaconda3/lib/python3.8/site-packages/sklearn/metrics/_classification.py:1318: UndefinedMetricWarning: Precision and F-score are ill-defined and being set to 0.0 in labels with no predicted samples. Use `zero_division` parameter to control this behavior.\n",
      "  _warn_prf(average, modifier, msg_start, len(result))\n",
      "/Users/quinngoldstein/opt/anaconda3/lib/python3.8/site-packages/sklearn/metrics/_classification.py:1318: UndefinedMetricWarning: Precision and F-score are ill-defined and being set to 0.0 in labels with no predicted samples. Use `zero_division` parameter to control this behavior.\n",
      "  _warn_prf(average, modifier, msg_start, len(result))\n",
      "/Users/quinngoldstein/opt/anaconda3/lib/python3.8/site-packages/sklearn/metrics/_classification.py:1318: UndefinedMetricWarning: Precision and F-score are ill-defined and being set to 0.0 in labels with no predicted samples. Use `zero_division` parameter to control this behavior.\n",
      "  _warn_prf(average, modifier, msg_start, len(result))\n"
     ]
    },
    {
     "name": "stdout",
     "output_type": "stream",
     "text": [
      "19452/19452 [==============================] - 12s 606us/step - loss: 0.6575 - accuracy: 0.6329\n",
      "Epoch 2/3\n",
      "19452/19452 [==============================] - 12s 603us/step - loss: 0.6575 - accuracy: 0.6329\n",
      "Epoch 3/3\n",
      "19452/19452 [==============================] - 12s 601us/step - loss: 0.6575 - accuracy: 0.6329\n",
      "              precision    recall  f1-score   support\n",
      "\n",
      "       Under       0.64      1.00      0.78      1382\n",
      "        Over       0.00      0.00      0.00       779\n",
      "\n",
      "    accuracy                           0.64      2161\n",
      "   macro avg       0.32      0.50      0.39      2161\n",
      "weighted avg       0.41      0.64      0.50      2161\n",
      "\n",
      "Epoch 1/3\n"
     ]
    },
    {
     "name": "stderr",
     "output_type": "stream",
     "text": [
      "/Users/quinngoldstein/opt/anaconda3/lib/python3.8/site-packages/sklearn/metrics/_classification.py:1318: UndefinedMetricWarning: Precision and F-score are ill-defined and being set to 0.0 in labels with no predicted samples. Use `zero_division` parameter to control this behavior.\n",
      "  _warn_prf(average, modifier, msg_start, len(result))\n",
      "/Users/quinngoldstein/opt/anaconda3/lib/python3.8/site-packages/sklearn/metrics/_classification.py:1318: UndefinedMetricWarning: Precision and F-score are ill-defined and being set to 0.0 in labels with no predicted samples. Use `zero_division` parameter to control this behavior.\n",
      "  _warn_prf(average, modifier, msg_start, len(result))\n",
      "/Users/quinngoldstein/opt/anaconda3/lib/python3.8/site-packages/sklearn/metrics/_classification.py:1318: UndefinedMetricWarning: Precision and F-score are ill-defined and being set to 0.0 in labels with no predicted samples. Use `zero_division` parameter to control this behavior.\n",
      "  _warn_prf(average, modifier, msg_start, len(result))\n",
      "/Users/quinngoldstein/opt/anaconda3/lib/python3.8/site-packages/sklearn/metrics/_classification.py:1318: UndefinedMetricWarning: Precision and F-score are ill-defined and being set to 0.0 in labels with no predicted samples. Use `zero_division` parameter to control this behavior.\n",
      "  _warn_prf(average, modifier, msg_start, len(result))\n",
      "/Users/quinngoldstein/opt/anaconda3/lib/python3.8/site-packages/sklearn/metrics/_classification.py:1318: UndefinedMetricWarning: Precision and F-score are ill-defined and being set to 0.0 in labels with no predicted samples. Use `zero_division` parameter to control this behavior.\n",
      "  _warn_prf(average, modifier, msg_start, len(result))\n",
      "/Users/quinngoldstein/opt/anaconda3/lib/python3.8/site-packages/sklearn/metrics/_classification.py:1318: UndefinedMetricWarning: Precision and F-score are ill-defined and being set to 0.0 in labels with no predicted samples. Use `zero_division` parameter to control this behavior.\n",
      "  _warn_prf(average, modifier, msg_start, len(result))\n"
     ]
    },
    {
     "name": "stdout",
     "output_type": "stream",
     "text": [
      "19452/19452 [==============================] - 12s 613us/step - loss: 0.6574 - accuracy: 0.6333\n",
      "Epoch 2/3\n",
      "19452/19452 [==============================] - 12s 615us/step - loss: 0.6573 - accuracy: 0.6333\n",
      "Epoch 3/3\n",
      "19452/19452 [==============================] - 12s 621us/step - loss: 0.6574 - accuracy: 0.6333\n",
      "              precision    recall  f1-score   support\n",
      "\n",
      "       Under       0.64      1.00      0.78      1376\n",
      "        Over       0.00      0.00      0.00       785\n",
      "\n",
      "    accuracy                           0.64      2161\n",
      "   macro avg       0.32      0.50      0.39      2161\n",
      "weighted avg       0.41      0.64      0.50      2161\n",
      "\n",
      "Epoch 1/3\n"
     ]
    },
    {
     "name": "stderr",
     "output_type": "stream",
     "text": [
      "/Users/quinngoldstein/opt/anaconda3/lib/python3.8/site-packages/sklearn/metrics/_classification.py:1318: UndefinedMetricWarning: Precision and F-score are ill-defined and being set to 0.0 in labels with no predicted samples. Use `zero_division` parameter to control this behavior.\n",
      "  _warn_prf(average, modifier, msg_start, len(result))\n",
      "/Users/quinngoldstein/opt/anaconda3/lib/python3.8/site-packages/sklearn/metrics/_classification.py:1318: UndefinedMetricWarning: Precision and F-score are ill-defined and being set to 0.0 in labels with no predicted samples. Use `zero_division` parameter to control this behavior.\n",
      "  _warn_prf(average, modifier, msg_start, len(result))\n",
      "/Users/quinngoldstein/opt/anaconda3/lib/python3.8/site-packages/sklearn/metrics/_classification.py:1318: UndefinedMetricWarning: Precision and F-score are ill-defined and being set to 0.0 in labels with no predicted samples. Use `zero_division` parameter to control this behavior.\n",
      "  _warn_prf(average, modifier, msg_start, len(result))\n",
      "/Users/quinngoldstein/opt/anaconda3/lib/python3.8/site-packages/sklearn/metrics/_classification.py:1318: UndefinedMetricWarning: Precision and F-score are ill-defined and being set to 0.0 in labels with no predicted samples. Use `zero_division` parameter to control this behavior.\n",
      "  _warn_prf(average, modifier, msg_start, len(result))\n",
      "/Users/quinngoldstein/opt/anaconda3/lib/python3.8/site-packages/sklearn/metrics/_classification.py:1318: UndefinedMetricWarning: Precision and F-score are ill-defined and being set to 0.0 in labels with no predicted samples. Use `zero_division` parameter to control this behavior.\n",
      "  _warn_prf(average, modifier, msg_start, len(result))\n",
      "/Users/quinngoldstein/opt/anaconda3/lib/python3.8/site-packages/sklearn/metrics/_classification.py:1318: UndefinedMetricWarning: Precision and F-score are ill-defined and being set to 0.0 in labels with no predicted samples. Use `zero_division` parameter to control this behavior.\n",
      "  _warn_prf(average, modifier, msg_start, len(result))\n"
     ]
    },
    {
     "name": "stdout",
     "output_type": "stream",
     "text": [
      "19452/19452 [==============================] - 12s 611us/step - loss: 0.6568 - accuracy: 0.6342\n",
      "Epoch 2/3\n",
      "19452/19452 [==============================] - 13s 665us/step - loss: 0.6568 - accuracy: 0.6342\n",
      "Epoch 3/3\n",
      "19452/19452 [==============================] - 12s 618us/step - loss: 0.6568 - accuracy: 0.6342\n",
      "              precision    recall  f1-score   support\n",
      "\n",
      "       Under       0.63      1.00      0.77      1357\n",
      "        Over       0.00      0.00      0.00       804\n",
      "\n",
      "    accuracy                           0.63      2161\n",
      "   macro avg       0.31      0.50      0.39      2161\n",
      "weighted avg       0.39      0.63      0.48      2161\n",
      "\n",
      "Epoch 1/3\n"
     ]
    },
    {
     "name": "stderr",
     "output_type": "stream",
     "text": [
      "/Users/quinngoldstein/opt/anaconda3/lib/python3.8/site-packages/sklearn/metrics/_classification.py:1318: UndefinedMetricWarning: Precision and F-score are ill-defined and being set to 0.0 in labels with no predicted samples. Use `zero_division` parameter to control this behavior.\n",
      "  _warn_prf(average, modifier, msg_start, len(result))\n",
      "/Users/quinngoldstein/opt/anaconda3/lib/python3.8/site-packages/sklearn/metrics/_classification.py:1318: UndefinedMetricWarning: Precision and F-score are ill-defined and being set to 0.0 in labels with no predicted samples. Use `zero_division` parameter to control this behavior.\n",
      "  _warn_prf(average, modifier, msg_start, len(result))\n",
      "/Users/quinngoldstein/opt/anaconda3/lib/python3.8/site-packages/sklearn/metrics/_classification.py:1318: UndefinedMetricWarning: Precision and F-score are ill-defined and being set to 0.0 in labels with no predicted samples. Use `zero_division` parameter to control this behavior.\n",
      "  _warn_prf(average, modifier, msg_start, len(result))\n",
      "/Users/quinngoldstein/opt/anaconda3/lib/python3.8/site-packages/sklearn/metrics/_classification.py:1318: UndefinedMetricWarning: Precision and F-score are ill-defined and being set to 0.0 in labels with no predicted samples. Use `zero_division` parameter to control this behavior.\n",
      "  _warn_prf(average, modifier, msg_start, len(result))\n",
      "/Users/quinngoldstein/opt/anaconda3/lib/python3.8/site-packages/sklearn/metrics/_classification.py:1318: UndefinedMetricWarning: Precision and F-score are ill-defined and being set to 0.0 in labels with no predicted samples. Use `zero_division` parameter to control this behavior.\n",
      "  _warn_prf(average, modifier, msg_start, len(result))\n",
      "/Users/quinngoldstein/opt/anaconda3/lib/python3.8/site-packages/sklearn/metrics/_classification.py:1318: UndefinedMetricWarning: Precision and F-score are ill-defined and being set to 0.0 in labels with no predicted samples. Use `zero_division` parameter to control this behavior.\n",
      "  _warn_prf(average, modifier, msg_start, len(result))\n"
     ]
    },
    {
     "name": "stdout",
     "output_type": "stream",
     "text": [
      "19452/19452 [==============================] - 13s 629us/step - loss: 0.6573 - accuracy: 0.6333\n",
      "Epoch 2/3\n",
      "19452/19452 [==============================] - 12s 619us/step - loss: 0.6573 - accuracy: 0.6333\n",
      "Epoch 3/3\n",
      "19452/19452 [==============================] - 12s 612us/step - loss: 0.6574 - accuracy: 0.6333\n",
      "              precision    recall  f1-score   support\n",
      "\n",
      "       Under       0.64      1.00      0.78      1376\n",
      "        Over       0.00      0.00      0.00       785\n",
      "\n",
      "    accuracy                           0.64      2161\n",
      "   macro avg       0.32      0.50      0.39      2161\n",
      "weighted avg       0.41      0.64      0.50      2161\n",
      "\n",
      "Epoch 1/3\n"
     ]
    },
    {
     "name": "stderr",
     "output_type": "stream",
     "text": [
      "/Users/quinngoldstein/opt/anaconda3/lib/python3.8/site-packages/sklearn/metrics/_classification.py:1318: UndefinedMetricWarning: Precision and F-score are ill-defined and being set to 0.0 in labels with no predicted samples. Use `zero_division` parameter to control this behavior.\n",
      "  _warn_prf(average, modifier, msg_start, len(result))\n",
      "/Users/quinngoldstein/opt/anaconda3/lib/python3.8/site-packages/sklearn/metrics/_classification.py:1318: UndefinedMetricWarning: Precision and F-score are ill-defined and being set to 0.0 in labels with no predicted samples. Use `zero_division` parameter to control this behavior.\n",
      "  _warn_prf(average, modifier, msg_start, len(result))\n",
      "/Users/quinngoldstein/opt/anaconda3/lib/python3.8/site-packages/sklearn/metrics/_classification.py:1318: UndefinedMetricWarning: Precision and F-score are ill-defined and being set to 0.0 in labels with no predicted samples. Use `zero_division` parameter to control this behavior.\n",
      "  _warn_prf(average, modifier, msg_start, len(result))\n",
      "/Users/quinngoldstein/opt/anaconda3/lib/python3.8/site-packages/sklearn/metrics/_classification.py:1318: UndefinedMetricWarning: Precision and F-score are ill-defined and being set to 0.0 in labels with no predicted samples. Use `zero_division` parameter to control this behavior.\n",
      "  _warn_prf(average, modifier, msg_start, len(result))\n",
      "/Users/quinngoldstein/opt/anaconda3/lib/python3.8/site-packages/sklearn/metrics/_classification.py:1318: UndefinedMetricWarning: Precision and F-score are ill-defined and being set to 0.0 in labels with no predicted samples. Use `zero_division` parameter to control this behavior.\n",
      "  _warn_prf(average, modifier, msg_start, len(result))\n",
      "/Users/quinngoldstein/opt/anaconda3/lib/python3.8/site-packages/sklearn/metrics/_classification.py:1318: UndefinedMetricWarning: Precision and F-score are ill-defined and being set to 0.0 in labels with no predicted samples. Use `zero_division` parameter to control this behavior.\n",
      "  _warn_prf(average, modifier, msg_start, len(result))\n"
     ]
    },
    {
     "name": "stdout",
     "output_type": "stream",
     "text": [
      "19452/19452 [==============================] - 12s 611us/step - loss: 0.6575 - accuracy: 0.6331\n",
      "Epoch 2/3\n",
      "19452/19452 [==============================] - 12s 612us/step - loss: 0.6575 - accuracy: 0.6331\n",
      "Epoch 3/3\n",
      "19452/19452 [==============================] - 12s 608us/step - loss: 0.6574 - accuracy: 0.6331\n",
      "              precision    recall  f1-score   support\n",
      "\n",
      "       Under       0.64      1.00      0.78      1379\n",
      "        Over       0.00      0.00      0.00       782\n",
      "\n",
      "    accuracy                           0.64      2161\n",
      "   macro avg       0.32      0.50      0.39      2161\n",
      "weighted avg       0.41      0.64      0.50      2161\n",
      "\n",
      "Epoch 1/3\n"
     ]
    },
    {
     "name": "stderr",
     "output_type": "stream",
     "text": [
      "/Users/quinngoldstein/opt/anaconda3/lib/python3.8/site-packages/sklearn/metrics/_classification.py:1318: UndefinedMetricWarning: Precision and F-score are ill-defined and being set to 0.0 in labels with no predicted samples. Use `zero_division` parameter to control this behavior.\n",
      "  _warn_prf(average, modifier, msg_start, len(result))\n",
      "/Users/quinngoldstein/opt/anaconda3/lib/python3.8/site-packages/sklearn/metrics/_classification.py:1318: UndefinedMetricWarning: Precision and F-score are ill-defined and being set to 0.0 in labels with no predicted samples. Use `zero_division` parameter to control this behavior.\n",
      "  _warn_prf(average, modifier, msg_start, len(result))\n",
      "/Users/quinngoldstein/opt/anaconda3/lib/python3.8/site-packages/sklearn/metrics/_classification.py:1318: UndefinedMetricWarning: Precision and F-score are ill-defined and being set to 0.0 in labels with no predicted samples. Use `zero_division` parameter to control this behavior.\n",
      "  _warn_prf(average, modifier, msg_start, len(result))\n",
      "/Users/quinngoldstein/opt/anaconda3/lib/python3.8/site-packages/sklearn/metrics/_classification.py:1318: UndefinedMetricWarning: Precision and F-score are ill-defined and being set to 0.0 in labels with no predicted samples. Use `zero_division` parameter to control this behavior.\n",
      "  _warn_prf(average, modifier, msg_start, len(result))\n",
      "/Users/quinngoldstein/opt/anaconda3/lib/python3.8/site-packages/sklearn/metrics/_classification.py:1318: UndefinedMetricWarning: Precision and F-score are ill-defined and being set to 0.0 in labels with no predicted samples. Use `zero_division` parameter to control this behavior.\n",
      "  _warn_prf(average, modifier, msg_start, len(result))\n",
      "/Users/quinngoldstein/opt/anaconda3/lib/python3.8/site-packages/sklearn/metrics/_classification.py:1318: UndefinedMetricWarning: Precision and F-score are ill-defined and being set to 0.0 in labels with no predicted samples. Use `zero_division` parameter to control this behavior.\n",
      "  _warn_prf(average, modifier, msg_start, len(result))\n"
     ]
    },
    {
     "name": "stdout",
     "output_type": "stream",
     "text": [
      "19452/19452 [==============================] - 12s 617us/step - loss: 0.6576 - accuracy: 0.6328\n",
      "Epoch 2/3\n",
      "19452/19452 [==============================] - 12s 614us/step - loss: 0.6576 - accuracy: 0.6328\n",
      "Epoch 3/3\n",
      "19452/19452 [==============================] - 12s 612us/step - loss: 0.6577 - accuracy: 0.6328\n",
      "              precision    recall  f1-score   support\n",
      "\n",
      "       Under       0.64      1.00      0.78      1385\n",
      "        Over       0.00      0.00      0.00       776\n",
      "\n",
      "    accuracy                           0.64      2161\n",
      "   macro avg       0.32      0.50      0.39      2161\n",
      "weighted avg       0.41      0.64      0.50      2161\n",
      "\n",
      "Epoch 1/3\n"
     ]
    },
    {
     "name": "stderr",
     "output_type": "stream",
     "text": [
      "/Users/quinngoldstein/opt/anaconda3/lib/python3.8/site-packages/sklearn/metrics/_classification.py:1318: UndefinedMetricWarning: Precision and F-score are ill-defined and being set to 0.0 in labels with no predicted samples. Use `zero_division` parameter to control this behavior.\n",
      "  _warn_prf(average, modifier, msg_start, len(result))\n",
      "/Users/quinngoldstein/opt/anaconda3/lib/python3.8/site-packages/sklearn/metrics/_classification.py:1318: UndefinedMetricWarning: Precision and F-score are ill-defined and being set to 0.0 in labels with no predicted samples. Use `zero_division` parameter to control this behavior.\n",
      "  _warn_prf(average, modifier, msg_start, len(result))\n",
      "/Users/quinngoldstein/opt/anaconda3/lib/python3.8/site-packages/sklearn/metrics/_classification.py:1318: UndefinedMetricWarning: Precision and F-score are ill-defined and being set to 0.0 in labels with no predicted samples. Use `zero_division` parameter to control this behavior.\n",
      "  _warn_prf(average, modifier, msg_start, len(result))\n",
      "/Users/quinngoldstein/opt/anaconda3/lib/python3.8/site-packages/sklearn/metrics/_classification.py:1318: UndefinedMetricWarning: Precision and F-score are ill-defined and being set to 0.0 in labels with no predicted samples. Use `zero_division` parameter to control this behavior.\n",
      "  _warn_prf(average, modifier, msg_start, len(result))\n",
      "/Users/quinngoldstein/opt/anaconda3/lib/python3.8/site-packages/sklearn/metrics/_classification.py:1318: UndefinedMetricWarning: Precision and F-score are ill-defined and being set to 0.0 in labels with no predicted samples. Use `zero_division` parameter to control this behavior.\n",
      "  _warn_prf(average, modifier, msg_start, len(result))\n",
      "/Users/quinngoldstein/opt/anaconda3/lib/python3.8/site-packages/sklearn/metrics/_classification.py:1318: UndefinedMetricWarning: Precision and F-score are ill-defined and being set to 0.0 in labels with no predicted samples. Use `zero_division` parameter to control this behavior.\n",
      "  _warn_prf(average, modifier, msg_start, len(result))\n"
     ]
    },
    {
     "name": "stdout",
     "output_type": "stream",
     "text": [
      "19452/19452 [==============================] - 12s 614us/step - loss: 0.6570 - accuracy: 0.6339\n",
      "Epoch 2/3\n",
      "19452/19452 [==============================] - 12s 616us/step - loss: 0.6570 - accuracy: 0.6339\n",
      "Epoch 3/3\n",
      "19452/19452 [==============================] - 12s 620us/step - loss: 0.6570 - accuracy: 0.6339\n",
      "              precision    recall  f1-score   support\n",
      "\n",
      "       Under       0.63      1.00      0.77      1364\n",
      "        Over       0.00      0.00      0.00       797\n",
      "\n",
      "    accuracy                           0.63      2161\n",
      "   macro avg       0.32      0.50      0.39      2161\n",
      "weighted avg       0.40      0.63      0.49      2161\n",
      "\n",
      "Average precision: 0.3168004435709818\n",
      "Average recall: 0.5\n",
      "Average accuracy: 0.6336008871419636\n"
     ]
    },
    {
     "name": "stderr",
     "output_type": "stream",
     "text": [
      "/Users/quinngoldstein/opt/anaconda3/lib/python3.8/site-packages/sklearn/metrics/_classification.py:1318: UndefinedMetricWarning: Precision and F-score are ill-defined and being set to 0.0 in labels with no predicted samples. Use `zero_division` parameter to control this behavior.\n",
      "  _warn_prf(average, modifier, msg_start, len(result))\n",
      "/Users/quinngoldstein/opt/anaconda3/lib/python3.8/site-packages/sklearn/metrics/_classification.py:1318: UndefinedMetricWarning: Precision and F-score are ill-defined and being set to 0.0 in labels with no predicted samples. Use `zero_division` parameter to control this behavior.\n",
      "  _warn_prf(average, modifier, msg_start, len(result))\n",
      "/Users/quinngoldstein/opt/anaconda3/lib/python3.8/site-packages/sklearn/metrics/_classification.py:1318: UndefinedMetricWarning: Precision and F-score are ill-defined and being set to 0.0 in labels with no predicted samples. Use `zero_division` parameter to control this behavior.\n",
      "  _warn_prf(average, modifier, msg_start, len(result))\n",
      "/Users/quinngoldstein/opt/anaconda3/lib/python3.8/site-packages/sklearn/metrics/_classification.py:1318: UndefinedMetricWarning: Precision and F-score are ill-defined and being set to 0.0 in labels with no predicted samples. Use `zero_division` parameter to control this behavior.\n",
      "  _warn_prf(average, modifier, msg_start, len(result))\n",
      "/Users/quinngoldstein/opt/anaconda3/lib/python3.8/site-packages/sklearn/metrics/_classification.py:1318: UndefinedMetricWarning: Precision and F-score are ill-defined and being set to 0.0 in labels with no predicted samples. Use `zero_division` parameter to control this behavior.\n",
      "  _warn_prf(average, modifier, msg_start, len(result))\n",
      "/Users/quinngoldstein/opt/anaconda3/lib/python3.8/site-packages/sklearn/metrics/_classification.py:1318: UndefinedMetricWarning: Precision and F-score are ill-defined and being set to 0.0 in labels with no predicted samples. Use `zero_division` parameter to control this behavior.\n",
      "  _warn_prf(average, modifier, msg_start, len(result))\n"
     ]
    }
   ],
   "source": [
    "from sklearn.model_selection import KFold # import k-fold validation\n",
    "\n",
    "# We use bedrooms, bathrooms, sqft_living, sqft_lot, and 'most_recent' attributes\n",
    "X = df[['bedrooms', 'bathrooms', 'sqft_living', 'sqft_lot', 'most_recent']]\n",
    "y = df['price_range']\n",
    "\n",
    "# Split the data up in train and test sets\n",
    "X_train, X_test, y_train, y_test = train_test_split(X, y, test_size=0.33, random_state=42)\n",
    "\n",
    "target_names = ['Under', 'Over']\n",
    "\n",
    "# construct a model\n",
    "model = keras.models.Sequential([\n",
    "    keras.layers.Dense(6, activation='relu', input_shape=(5,)),\n",
    "    keras.layers.Dense(6, activation='relu'),\n",
    "    keras.layers.Dense(1, activation='sigmoid')\n",
    "])\n",
    "\n",
    "kf = KFold(n_splits=10, random_state=None, shuffle=True) \n",
    "precision_sum = recall_sum = accuracy_sum = 0\n",
    "\n",
    "metrics_df = pd.DataFrame(columns = ['precision', 'recall', 'accuracy'])\n",
    "\n",
    "for train_index, test_index in kf.split(X):\n",
    "    X_train, X_test = X.iloc[train_index], X.iloc[test_index]\n",
    "    y_train, y_test = y.iloc[train_index], y.iloc[test_index]\n",
    "\n",
    "    model.compile(loss='binary_crossentropy',\n",
    "              optimizer='adam',\n",
    "              metrics=['accuracy'])\n",
    "                   \n",
    "    model.fit(X_train, y_train,epochs=3, batch_size=1, verbose=1)\n",
    "    \n",
    "    y_pred = (model.predict(X_test) > 0.5).astype(\"int32\")\n",
    "    \n",
    "    # plot a confusion matrix\n",
    "    confusion_mat = confusion_matrix(y_test, y_pred)\n",
    "    \n",
    "    # classification report\n",
    "    print(classification_report(y_test, y_pred, target_names=target_names))  \n",
    "    result_metrics_dict = classification_report(y_test, y_pred, target_names=target_names, output_dict=True)\n",
    "    \n",
    "    precision_sum += result_metrics_dict[\"macro avg\"][\"precision\"]\n",
    "    recall_sum += result_metrics_dict[\"macro avg\"][\"recall\"]\n",
    "    accuracy_sum += result_metrics_dict[\"accuracy\"]\n",
    "    \n",
    "    metrics_list = []\n",
    "    metrics_list.append(result_metrics_dict[\"macro avg\"][\"precision\"])\n",
    "    metrics_list.append(result_metrics_dict[\"macro avg\"][\"recall\"])\n",
    "    metrics_list.append(result_metrics_dict[\"accuracy\"])\n",
    "    \n",
    "    metrics_series = pd.Series(metrics_list, index=metrics_df.columns)\n",
    "    metrics_df = metrics_df.append(metrics_series, ignore_index=True)\n",
    "\n",
    "print(\"Average precision:\", precision_sum/kf.get_n_splits(X))\n",
    "print(\"Average recall:\", recall_sum/kf.get_n_splits(X))\n",
    "print(\"Average accuracy:\", accuracy_sum/kf.get_n_splits(X))\n",
    "\n",
    "metrics_df.to_csv('./MLP4_data/nn_model5_metrics.csv')"
   ]
  },
  {
   "cell_type": "markdown",
   "metadata": {},
   "source": [
    "#### Model 2\n",
    "\n",
    "Tanh Hidden Layer Activation Function with Sigmoid output layer\n",
    "\n",
    "- input layer (5 attributes = 5 units)\n",
    "- 2 hidden layers (6 units)\n",
    "- output layer (1 unit)"
   ]
  },
  {
   "cell_type": "code",
   "execution_count": 15,
   "metadata": {
    "scrolled": true
   },
   "outputs": [
    {
     "name": "stdout",
     "output_type": "stream",
     "text": [
      "Epoch 1/3\n",
      "19451/19451 [==============================] - 13s 609us/step - loss: 0.6540 - accuracy: 0.6331\n",
      "Epoch 2/3\n",
      "19451/19451 [==============================] - 12s 613us/step - loss: 0.6539 - accuracy: 0.6335\n",
      "Epoch 3/3\n",
      "19451/19451 [==============================] - 12s 636us/step - loss: 0.6565 - accuracy: 0.6337\n",
      "              precision    recall  f1-score   support\n",
      "\n",
      "       Under       0.63      1.00      0.77      1364\n",
      "        Over       0.00      0.00      0.00       798\n",
      "\n",
      "    accuracy                           0.63      2162\n",
      "   macro avg       0.32      0.50      0.39      2162\n",
      "weighted avg       0.40      0.63      0.49      2162\n",
      "\n",
      "Epoch 1/3\n"
     ]
    },
    {
     "name": "stderr",
     "output_type": "stream",
     "text": [
      "/Users/quinngoldstein/opt/anaconda3/lib/python3.8/site-packages/sklearn/metrics/_classification.py:1318: UndefinedMetricWarning: Precision and F-score are ill-defined and being set to 0.0 in labels with no predicted samples. Use `zero_division` parameter to control this behavior.\n",
      "  _warn_prf(average, modifier, msg_start, len(result))\n",
      "/Users/quinngoldstein/opt/anaconda3/lib/python3.8/site-packages/sklearn/metrics/_classification.py:1318: UndefinedMetricWarning: Precision and F-score are ill-defined and being set to 0.0 in labels with no predicted samples. Use `zero_division` parameter to control this behavior.\n",
      "  _warn_prf(average, modifier, msg_start, len(result))\n",
      "/Users/quinngoldstein/opt/anaconda3/lib/python3.8/site-packages/sklearn/metrics/_classification.py:1318: UndefinedMetricWarning: Precision and F-score are ill-defined and being set to 0.0 in labels with no predicted samples. Use `zero_division` parameter to control this behavior.\n",
      "  _warn_prf(average, modifier, msg_start, len(result))\n",
      "/Users/quinngoldstein/opt/anaconda3/lib/python3.8/site-packages/sklearn/metrics/_classification.py:1318: UndefinedMetricWarning: Precision and F-score are ill-defined and being set to 0.0 in labels with no predicted samples. Use `zero_division` parameter to control this behavior.\n",
      "  _warn_prf(average, modifier, msg_start, len(result))\n",
      "/Users/quinngoldstein/opt/anaconda3/lib/python3.8/site-packages/sklearn/metrics/_classification.py:1318: UndefinedMetricWarning: Precision and F-score are ill-defined and being set to 0.0 in labels with no predicted samples. Use `zero_division` parameter to control this behavior.\n",
      "  _warn_prf(average, modifier, msg_start, len(result))\n",
      "/Users/quinngoldstein/opt/anaconda3/lib/python3.8/site-packages/sklearn/metrics/_classification.py:1318: UndefinedMetricWarning: Precision and F-score are ill-defined and being set to 0.0 in labels with no predicted samples. Use `zero_division` parameter to control this behavior.\n",
      "  _warn_prf(average, modifier, msg_start, len(result))\n"
     ]
    },
    {
     "name": "stdout",
     "output_type": "stream",
     "text": [
      "19451/19451 [==============================] - 12s 628us/step - loss: 0.6559 - accuracy: 0.6335\n",
      "Epoch 2/3\n",
      "19451/19451 [==============================] - 12s 608us/step - loss: 0.6556 - accuracy: 0.6335\n",
      "Epoch 3/3\n",
      "19451/19451 [==============================] - 12s 618us/step - loss: 0.6561 - accuracy: 0.6335\n",
      "              precision    recall  f1-score   support\n",
      "\n",
      "       Under       0.63      1.00      0.78      1371\n",
      "        Over       0.00      0.00      0.00       791\n",
      "\n",
      "    accuracy                           0.63      2162\n",
      "   macro avg       0.32      0.50      0.39      2162\n",
      "weighted avg       0.40      0.63      0.49      2162\n",
      "\n",
      "Epoch 1/3\n"
     ]
    },
    {
     "name": "stderr",
     "output_type": "stream",
     "text": [
      "/Users/quinngoldstein/opt/anaconda3/lib/python3.8/site-packages/sklearn/metrics/_classification.py:1318: UndefinedMetricWarning: Precision and F-score are ill-defined and being set to 0.0 in labels with no predicted samples. Use `zero_division` parameter to control this behavior.\n",
      "  _warn_prf(average, modifier, msg_start, len(result))\n",
      "/Users/quinngoldstein/opt/anaconda3/lib/python3.8/site-packages/sklearn/metrics/_classification.py:1318: UndefinedMetricWarning: Precision and F-score are ill-defined and being set to 0.0 in labels with no predicted samples. Use `zero_division` parameter to control this behavior.\n",
      "  _warn_prf(average, modifier, msg_start, len(result))\n",
      "/Users/quinngoldstein/opt/anaconda3/lib/python3.8/site-packages/sklearn/metrics/_classification.py:1318: UndefinedMetricWarning: Precision and F-score are ill-defined and being set to 0.0 in labels with no predicted samples. Use `zero_division` parameter to control this behavior.\n",
      "  _warn_prf(average, modifier, msg_start, len(result))\n",
      "/Users/quinngoldstein/opt/anaconda3/lib/python3.8/site-packages/sklearn/metrics/_classification.py:1318: UndefinedMetricWarning: Precision and F-score are ill-defined and being set to 0.0 in labels with no predicted samples. Use `zero_division` parameter to control this behavior.\n",
      "  _warn_prf(average, modifier, msg_start, len(result))\n",
      "/Users/quinngoldstein/opt/anaconda3/lib/python3.8/site-packages/sklearn/metrics/_classification.py:1318: UndefinedMetricWarning: Precision and F-score are ill-defined and being set to 0.0 in labels with no predicted samples. Use `zero_division` parameter to control this behavior.\n",
      "  _warn_prf(average, modifier, msg_start, len(result))\n",
      "/Users/quinngoldstein/opt/anaconda3/lib/python3.8/site-packages/sklearn/metrics/_classification.py:1318: UndefinedMetricWarning: Precision and F-score are ill-defined and being set to 0.0 in labels with no predicted samples. Use `zero_division` parameter to control this behavior.\n",
      "  _warn_prf(average, modifier, msg_start, len(result))\n"
     ]
    },
    {
     "name": "stdout",
     "output_type": "stream",
     "text": [
      "19451/19451 [==============================] - 12s 625us/step - loss: 0.6567 - accuracy: 0.6345\n",
      "Epoch 2/3\n",
      "19451/19451 [==============================] - 12s 627us/step - loss: 0.6571 - accuracy: 0.6345\n",
      "Epoch 3/3\n",
      "19451/19451 [==============================] - 12s 610us/step - loss: 0.6569 - accuracy: 0.6345\n",
      "              precision    recall  f1-score   support\n",
      "\n",
      "       Under       0.63      1.00      0.77      1354\n",
      "        Over       0.00      0.00      0.00       808\n",
      "\n",
      "    accuracy                           0.63      2162\n",
      "   macro avg       0.31      0.50      0.39      2162\n",
      "weighted avg       0.39      0.63      0.48      2162\n",
      "\n",
      "Epoch 1/3\n"
     ]
    },
    {
     "name": "stderr",
     "output_type": "stream",
     "text": [
      "/Users/quinngoldstein/opt/anaconda3/lib/python3.8/site-packages/sklearn/metrics/_classification.py:1318: UndefinedMetricWarning: Precision and F-score are ill-defined and being set to 0.0 in labels with no predicted samples. Use `zero_division` parameter to control this behavior.\n",
      "  _warn_prf(average, modifier, msg_start, len(result))\n",
      "/Users/quinngoldstein/opt/anaconda3/lib/python3.8/site-packages/sklearn/metrics/_classification.py:1318: UndefinedMetricWarning: Precision and F-score are ill-defined and being set to 0.0 in labels with no predicted samples. Use `zero_division` parameter to control this behavior.\n",
      "  _warn_prf(average, modifier, msg_start, len(result))\n",
      "/Users/quinngoldstein/opt/anaconda3/lib/python3.8/site-packages/sklearn/metrics/_classification.py:1318: UndefinedMetricWarning: Precision and F-score are ill-defined and being set to 0.0 in labels with no predicted samples. Use `zero_division` parameter to control this behavior.\n",
      "  _warn_prf(average, modifier, msg_start, len(result))\n",
      "/Users/quinngoldstein/opt/anaconda3/lib/python3.8/site-packages/sklearn/metrics/_classification.py:1318: UndefinedMetricWarning: Precision and F-score are ill-defined and being set to 0.0 in labels with no predicted samples. Use `zero_division` parameter to control this behavior.\n",
      "  _warn_prf(average, modifier, msg_start, len(result))\n",
      "/Users/quinngoldstein/opt/anaconda3/lib/python3.8/site-packages/sklearn/metrics/_classification.py:1318: UndefinedMetricWarning: Precision and F-score are ill-defined and being set to 0.0 in labels with no predicted samples. Use `zero_division` parameter to control this behavior.\n",
      "  _warn_prf(average, modifier, msg_start, len(result))\n",
      "/Users/quinngoldstein/opt/anaconda3/lib/python3.8/site-packages/sklearn/metrics/_classification.py:1318: UndefinedMetricWarning: Precision and F-score are ill-defined and being set to 0.0 in labels with no predicted samples. Use `zero_division` parameter to control this behavior.\n",
      "  _warn_prf(average, modifier, msg_start, len(result))\n"
     ]
    },
    {
     "name": "stdout",
     "output_type": "stream",
     "text": [
      "19452/19452 [==============================] - 12s 607us/step - loss: 0.6554 - accuracy: 0.6335\n",
      "Epoch 2/3\n",
      "19452/19452 [==============================] - 12s 617us/step - loss: 0.6554 - accuracy: 0.6335\n",
      "Epoch 3/3\n",
      "19452/19452 [==============================] - 12s 609us/step - loss: 0.6544 - accuracy: 0.6335\n",
      "              precision    recall  f1-score   support\n",
      "\n",
      "       Under       0.63      1.00      0.78      1372\n",
      "        Over       0.00      0.00      0.00       789\n",
      "\n",
      "    accuracy                           0.63      2161\n",
      "   macro avg       0.32      0.50      0.39      2161\n",
      "weighted avg       0.40      0.63      0.49      2161\n",
      "\n",
      "Epoch 1/3\n"
     ]
    },
    {
     "name": "stderr",
     "output_type": "stream",
     "text": [
      "/Users/quinngoldstein/opt/anaconda3/lib/python3.8/site-packages/sklearn/metrics/_classification.py:1318: UndefinedMetricWarning: Precision and F-score are ill-defined and being set to 0.0 in labels with no predicted samples. Use `zero_division` parameter to control this behavior.\n",
      "  _warn_prf(average, modifier, msg_start, len(result))\n",
      "/Users/quinngoldstein/opt/anaconda3/lib/python3.8/site-packages/sklearn/metrics/_classification.py:1318: UndefinedMetricWarning: Precision and F-score are ill-defined and being set to 0.0 in labels with no predicted samples. Use `zero_division` parameter to control this behavior.\n",
      "  _warn_prf(average, modifier, msg_start, len(result))\n",
      "/Users/quinngoldstein/opt/anaconda3/lib/python3.8/site-packages/sklearn/metrics/_classification.py:1318: UndefinedMetricWarning: Precision and F-score are ill-defined and being set to 0.0 in labels with no predicted samples. Use `zero_division` parameter to control this behavior.\n",
      "  _warn_prf(average, modifier, msg_start, len(result))\n",
      "/Users/quinngoldstein/opt/anaconda3/lib/python3.8/site-packages/sklearn/metrics/_classification.py:1318: UndefinedMetricWarning: Precision and F-score are ill-defined and being set to 0.0 in labels with no predicted samples. Use `zero_division` parameter to control this behavior.\n",
      "  _warn_prf(average, modifier, msg_start, len(result))\n",
      "/Users/quinngoldstein/opt/anaconda3/lib/python3.8/site-packages/sklearn/metrics/_classification.py:1318: UndefinedMetricWarning: Precision and F-score are ill-defined and being set to 0.0 in labels with no predicted samples. Use `zero_division` parameter to control this behavior.\n",
      "  _warn_prf(average, modifier, msg_start, len(result))\n",
      "/Users/quinngoldstein/opt/anaconda3/lib/python3.8/site-packages/sklearn/metrics/_classification.py:1318: UndefinedMetricWarning: Precision and F-score are ill-defined and being set to 0.0 in labels with no predicted samples. Use `zero_division` parameter to control this behavior.\n",
      "  _warn_prf(average, modifier, msg_start, len(result))\n"
     ]
    },
    {
     "name": "stdout",
     "output_type": "stream",
     "text": [
      "19452/19452 [==============================] - 12s 604us/step - loss: 0.6549 - accuracy: 0.6324\n",
      "Epoch 2/3\n",
      "19452/19452 [==============================] - 12s 606us/step - loss: 0.6554 - accuracy: 0.6325\n",
      "Epoch 3/3\n",
      "19452/19452 [==============================] - 12s 624us/step - loss: 0.6551 - accuracy: 0.6325\n",
      "              precision    recall  f1-score   support\n",
      "\n",
      "       Under       0.64      1.00      0.78      1392\n",
      "        Over       0.00      0.00      0.00       769\n",
      "\n",
      "    accuracy                           0.64      2161\n",
      "   macro avg       0.32      0.50      0.39      2161\n",
      "weighted avg       0.41      0.64      0.50      2161\n",
      "\n",
      "Epoch 1/3\n"
     ]
    },
    {
     "name": "stderr",
     "output_type": "stream",
     "text": [
      "/Users/quinngoldstein/opt/anaconda3/lib/python3.8/site-packages/sklearn/metrics/_classification.py:1318: UndefinedMetricWarning: Precision and F-score are ill-defined and being set to 0.0 in labels with no predicted samples. Use `zero_division` parameter to control this behavior.\n",
      "  _warn_prf(average, modifier, msg_start, len(result))\n",
      "/Users/quinngoldstein/opt/anaconda3/lib/python3.8/site-packages/sklearn/metrics/_classification.py:1318: UndefinedMetricWarning: Precision and F-score are ill-defined and being set to 0.0 in labels with no predicted samples. Use `zero_division` parameter to control this behavior.\n",
      "  _warn_prf(average, modifier, msg_start, len(result))\n",
      "/Users/quinngoldstein/opt/anaconda3/lib/python3.8/site-packages/sklearn/metrics/_classification.py:1318: UndefinedMetricWarning: Precision and F-score are ill-defined and being set to 0.0 in labels with no predicted samples. Use `zero_division` parameter to control this behavior.\n",
      "  _warn_prf(average, modifier, msg_start, len(result))\n",
      "/Users/quinngoldstein/opt/anaconda3/lib/python3.8/site-packages/sklearn/metrics/_classification.py:1318: UndefinedMetricWarning: Precision and F-score are ill-defined and being set to 0.0 in labels with no predicted samples. Use `zero_division` parameter to control this behavior.\n",
      "  _warn_prf(average, modifier, msg_start, len(result))\n",
      "/Users/quinngoldstein/opt/anaconda3/lib/python3.8/site-packages/sklearn/metrics/_classification.py:1318: UndefinedMetricWarning: Precision and F-score are ill-defined and being set to 0.0 in labels with no predicted samples. Use `zero_division` parameter to control this behavior.\n",
      "  _warn_prf(average, modifier, msg_start, len(result))\n",
      "/Users/quinngoldstein/opt/anaconda3/lib/python3.8/site-packages/sklearn/metrics/_classification.py:1318: UndefinedMetricWarning: Precision and F-score are ill-defined and being set to 0.0 in labels with no predicted samples. Use `zero_division` parameter to control this behavior.\n",
      "  _warn_prf(average, modifier, msg_start, len(result))\n"
     ]
    },
    {
     "name": "stdout",
     "output_type": "stream",
     "text": [
      "19452/19452 [==============================] - 13s 636us/step - loss: 0.6548 - accuracy: 0.6338\n",
      "Epoch 2/3\n",
      "19452/19452 [==============================] - 12s 621us/step - loss: 0.6550 - accuracy: 0.6338\n",
      "Epoch 3/3\n",
      "19452/19452 [==============================] - 12s 615us/step - loss: 0.6556 - accuracy: 0.6338\n",
      "              precision    recall  f1-score   support\n",
      "\n",
      "       Under       0.63      1.00      0.77      1366\n",
      "        Over       1.00      0.00      0.00       795\n",
      "\n",
      "    accuracy                           0.63      2161\n",
      "   macro avg       0.82      0.50      0.39      2161\n",
      "weighted avg       0.77      0.63      0.49      2161\n",
      "\n",
      "Epoch 1/3\n",
      "19452/19452 [==============================] - 12s 605us/step - loss: 0.6578 - accuracy: 0.6331\n",
      "Epoch 2/3\n",
      "19452/19452 [==============================] - 13s 646us/step - loss: 0.6574 - accuracy: 0.6331\n",
      "Epoch 3/3\n",
      "19452/19452 [==============================] - 12s 630us/step - loss: 0.6580 - accuracy: 0.6331\n",
      "              precision    recall  f1-score   support\n",
      "\n",
      "       Under       0.64      1.00      0.78      1381\n",
      "        Over       0.00      0.00      0.00       780\n",
      "\n",
      "    accuracy                           0.64      2161\n",
      "   macro avg       0.32      0.50      0.39      2161\n",
      "weighted avg       0.41      0.64      0.50      2161\n",
      "\n",
      "Epoch 1/3\n"
     ]
    },
    {
     "name": "stderr",
     "output_type": "stream",
     "text": [
      "/Users/quinngoldstein/opt/anaconda3/lib/python3.8/site-packages/sklearn/metrics/_classification.py:1318: UndefinedMetricWarning: Precision and F-score are ill-defined and being set to 0.0 in labels with no predicted samples. Use `zero_division` parameter to control this behavior.\n",
      "  _warn_prf(average, modifier, msg_start, len(result))\n",
      "/Users/quinngoldstein/opt/anaconda3/lib/python3.8/site-packages/sklearn/metrics/_classification.py:1318: UndefinedMetricWarning: Precision and F-score are ill-defined and being set to 0.0 in labels with no predicted samples. Use `zero_division` parameter to control this behavior.\n",
      "  _warn_prf(average, modifier, msg_start, len(result))\n",
      "/Users/quinngoldstein/opt/anaconda3/lib/python3.8/site-packages/sklearn/metrics/_classification.py:1318: UndefinedMetricWarning: Precision and F-score are ill-defined and being set to 0.0 in labels with no predicted samples. Use `zero_division` parameter to control this behavior.\n",
      "  _warn_prf(average, modifier, msg_start, len(result))\n",
      "/Users/quinngoldstein/opt/anaconda3/lib/python3.8/site-packages/sklearn/metrics/_classification.py:1318: UndefinedMetricWarning: Precision and F-score are ill-defined and being set to 0.0 in labels with no predicted samples. Use `zero_division` parameter to control this behavior.\n",
      "  _warn_prf(average, modifier, msg_start, len(result))\n",
      "/Users/quinngoldstein/opt/anaconda3/lib/python3.8/site-packages/sklearn/metrics/_classification.py:1318: UndefinedMetricWarning: Precision and F-score are ill-defined and being set to 0.0 in labels with no predicted samples. Use `zero_division` parameter to control this behavior.\n",
      "  _warn_prf(average, modifier, msg_start, len(result))\n",
      "/Users/quinngoldstein/opt/anaconda3/lib/python3.8/site-packages/sklearn/metrics/_classification.py:1318: UndefinedMetricWarning: Precision and F-score are ill-defined and being set to 0.0 in labels with no predicted samples. Use `zero_division` parameter to control this behavior.\n",
      "  _warn_prf(average, modifier, msg_start, len(result))\n"
     ]
    },
    {
     "name": "stdout",
     "output_type": "stream",
     "text": [
      "19452/19452 [==============================] - 12s 608us/step - loss: 0.6569 - accuracy: 0.6340\n",
      "Epoch 2/3\n",
      "19452/19452 [==============================] - 12s 608us/step - loss: 0.6561 - accuracy: 0.6340\n",
      "Epoch 3/3\n",
      "19452/19452 [==============================] - 12s 608us/step - loss: 0.6546 - accuracy: 0.6340\n",
      "              precision    recall  f1-score   support\n",
      "\n",
      "       Under       0.63      1.00      0.77      1363\n",
      "        Over       0.00      0.00      0.00       798\n",
      "\n",
      "    accuracy                           0.63      2161\n",
      "   macro avg       0.32      0.50      0.39      2161\n",
      "weighted avg       0.40      0.63      0.49      2161\n",
      "\n",
      "Epoch 1/3\n"
     ]
    },
    {
     "name": "stderr",
     "output_type": "stream",
     "text": [
      "/Users/quinngoldstein/opt/anaconda3/lib/python3.8/site-packages/sklearn/metrics/_classification.py:1318: UndefinedMetricWarning: Precision and F-score are ill-defined and being set to 0.0 in labels with no predicted samples. Use `zero_division` parameter to control this behavior.\n",
      "  _warn_prf(average, modifier, msg_start, len(result))\n",
      "/Users/quinngoldstein/opt/anaconda3/lib/python3.8/site-packages/sklearn/metrics/_classification.py:1318: UndefinedMetricWarning: Precision and F-score are ill-defined and being set to 0.0 in labels with no predicted samples. Use `zero_division` parameter to control this behavior.\n",
      "  _warn_prf(average, modifier, msg_start, len(result))\n",
      "/Users/quinngoldstein/opt/anaconda3/lib/python3.8/site-packages/sklearn/metrics/_classification.py:1318: UndefinedMetricWarning: Precision and F-score are ill-defined and being set to 0.0 in labels with no predicted samples. Use `zero_division` parameter to control this behavior.\n",
      "  _warn_prf(average, modifier, msg_start, len(result))\n",
      "/Users/quinngoldstein/opt/anaconda3/lib/python3.8/site-packages/sklearn/metrics/_classification.py:1318: UndefinedMetricWarning: Precision and F-score are ill-defined and being set to 0.0 in labels with no predicted samples. Use `zero_division` parameter to control this behavior.\n",
      "  _warn_prf(average, modifier, msg_start, len(result))\n",
      "/Users/quinngoldstein/opt/anaconda3/lib/python3.8/site-packages/sklearn/metrics/_classification.py:1318: UndefinedMetricWarning: Precision and F-score are ill-defined and being set to 0.0 in labels with no predicted samples. Use `zero_division` parameter to control this behavior.\n",
      "  _warn_prf(average, modifier, msg_start, len(result))\n",
      "/Users/quinngoldstein/opt/anaconda3/lib/python3.8/site-packages/sklearn/metrics/_classification.py:1318: UndefinedMetricWarning: Precision and F-score are ill-defined and being set to 0.0 in labels with no predicted samples. Use `zero_division` parameter to control this behavior.\n",
      "  _warn_prf(average, modifier, msg_start, len(result))\n"
     ]
    },
    {
     "name": "stdout",
     "output_type": "stream",
     "text": [
      "19452/19452 [==============================] - 12s 608us/step - loss: 0.6549 - accuracy: 0.6342\n",
      "Epoch 2/3\n",
      "19452/19452 [==============================] - 12s 617us/step - loss: 0.6547 - accuracy: 0.6342\n",
      "Epoch 3/3\n",
      "19452/19452 [==============================] - 12s 609us/step - loss: 0.6551 - accuracy: 0.6342\n",
      "              precision    recall  f1-score   support\n",
      "\n",
      "       Under       0.63      1.00      0.77      1360\n",
      "        Over       0.00      0.00      0.00       801\n",
      "\n",
      "    accuracy                           0.63      2161\n",
      "   macro avg       0.31      0.50      0.39      2161\n",
      "weighted avg       0.40      0.63      0.49      2161\n",
      "\n",
      "Epoch 1/3\n"
     ]
    },
    {
     "name": "stderr",
     "output_type": "stream",
     "text": [
      "/Users/quinngoldstein/opt/anaconda3/lib/python3.8/site-packages/sklearn/metrics/_classification.py:1318: UndefinedMetricWarning: Precision and F-score are ill-defined and being set to 0.0 in labels with no predicted samples. Use `zero_division` parameter to control this behavior.\n",
      "  _warn_prf(average, modifier, msg_start, len(result))\n",
      "/Users/quinngoldstein/opt/anaconda3/lib/python3.8/site-packages/sklearn/metrics/_classification.py:1318: UndefinedMetricWarning: Precision and F-score are ill-defined and being set to 0.0 in labels with no predicted samples. Use `zero_division` parameter to control this behavior.\n",
      "  _warn_prf(average, modifier, msg_start, len(result))\n",
      "/Users/quinngoldstein/opt/anaconda3/lib/python3.8/site-packages/sklearn/metrics/_classification.py:1318: UndefinedMetricWarning: Precision and F-score are ill-defined and being set to 0.0 in labels with no predicted samples. Use `zero_division` parameter to control this behavior.\n",
      "  _warn_prf(average, modifier, msg_start, len(result))\n",
      "/Users/quinngoldstein/opt/anaconda3/lib/python3.8/site-packages/sklearn/metrics/_classification.py:1318: UndefinedMetricWarning: Precision and F-score are ill-defined and being set to 0.0 in labels with no predicted samples. Use `zero_division` parameter to control this behavior.\n",
      "  _warn_prf(average, modifier, msg_start, len(result))\n",
      "/Users/quinngoldstein/opt/anaconda3/lib/python3.8/site-packages/sklearn/metrics/_classification.py:1318: UndefinedMetricWarning: Precision and F-score are ill-defined and being set to 0.0 in labels with no predicted samples. Use `zero_division` parameter to control this behavior.\n",
      "  _warn_prf(average, modifier, msg_start, len(result))\n",
      "/Users/quinngoldstein/opt/anaconda3/lib/python3.8/site-packages/sklearn/metrics/_classification.py:1318: UndefinedMetricWarning: Precision and F-score are ill-defined and being set to 0.0 in labels with no predicted samples. Use `zero_division` parameter to control this behavior.\n",
      "  _warn_prf(average, modifier, msg_start, len(result))\n"
     ]
    },
    {
     "name": "stdout",
     "output_type": "stream",
     "text": [
      "19452/19452 [==============================] - 12s 622us/step - loss: 0.6565 - accuracy: 0.6336\n",
      "Epoch 2/3\n",
      "19452/19452 [==============================] - 12s 623us/step - loss: 0.6575 - accuracy: 0.6336\n",
      "Epoch 3/3\n",
      "19452/19452 [==============================] - 12s 616us/step - loss: 0.6576 - accuracy: 0.6336\n",
      "              precision    recall  f1-score   support\n",
      "\n",
      "       Under       0.63      1.00      0.78      1371\n",
      "        Over       0.00      0.00      0.00       790\n",
      "\n",
      "    accuracy                           0.63      2161\n",
      "   macro avg       0.32      0.50      0.39      2161\n",
      "weighted avg       0.40      0.63      0.49      2161\n",
      "\n",
      "Average precision: 0.3668149260309944\n",
      "Average recall: 0.500062893081761\n",
      "Average accuracy: 0.6336468623624327\n"
     ]
    },
    {
     "name": "stderr",
     "output_type": "stream",
     "text": [
      "/Users/quinngoldstein/opt/anaconda3/lib/python3.8/site-packages/sklearn/metrics/_classification.py:1318: UndefinedMetricWarning: Precision and F-score are ill-defined and being set to 0.0 in labels with no predicted samples. Use `zero_division` parameter to control this behavior.\n",
      "  _warn_prf(average, modifier, msg_start, len(result))\n",
      "/Users/quinngoldstein/opt/anaconda3/lib/python3.8/site-packages/sklearn/metrics/_classification.py:1318: UndefinedMetricWarning: Precision and F-score are ill-defined and being set to 0.0 in labels with no predicted samples. Use `zero_division` parameter to control this behavior.\n",
      "  _warn_prf(average, modifier, msg_start, len(result))\n",
      "/Users/quinngoldstein/opt/anaconda3/lib/python3.8/site-packages/sklearn/metrics/_classification.py:1318: UndefinedMetricWarning: Precision and F-score are ill-defined and being set to 0.0 in labels with no predicted samples. Use `zero_division` parameter to control this behavior.\n",
      "  _warn_prf(average, modifier, msg_start, len(result))\n",
      "/Users/quinngoldstein/opt/anaconda3/lib/python3.8/site-packages/sklearn/metrics/_classification.py:1318: UndefinedMetricWarning: Precision and F-score are ill-defined and being set to 0.0 in labels with no predicted samples. Use `zero_division` parameter to control this behavior.\n",
      "  _warn_prf(average, modifier, msg_start, len(result))\n",
      "/Users/quinngoldstein/opt/anaconda3/lib/python3.8/site-packages/sklearn/metrics/_classification.py:1318: UndefinedMetricWarning: Precision and F-score are ill-defined and being set to 0.0 in labels with no predicted samples. Use `zero_division` parameter to control this behavior.\n",
      "  _warn_prf(average, modifier, msg_start, len(result))\n",
      "/Users/quinngoldstein/opt/anaconda3/lib/python3.8/site-packages/sklearn/metrics/_classification.py:1318: UndefinedMetricWarning: Precision and F-score are ill-defined and being set to 0.0 in labels with no predicted samples. Use `zero_division` parameter to control this behavior.\n",
      "  _warn_prf(average, modifier, msg_start, len(result))\n"
     ]
    }
   ],
   "source": [
    "from sklearn.model_selection import KFold # import k-fold validation\n",
    "\n",
    "# We use bedrooms, bathrooms, sqft_living, sqft_lot, and 'most_recent' attributes\n",
    "X = df[['bedrooms', 'bathrooms', 'sqft_living', 'sqft_lot', 'most_recent']]\n",
    "y = df['price_range']\n",
    "\n",
    "# Split the data up in train and test sets\n",
    "X_train, X_test, y_train, y_test = train_test_split(X, y, test_size=0.33, random_state=42)\n",
    "\n",
    "target_names = ['Under', 'Over']\n",
    "\n",
    "# construct a model\n",
    "model = keras.models.Sequential([\n",
    "    keras.layers.Dense(6, activation='tanh', input_shape=(5,)),\n",
    "    keras.layers.Dense(6, activation='tanh'),\n",
    "    keras.layers.Dense(1, activation='sigmoid')\n",
    "])\n",
    "\n",
    "kf = KFold(n_splits=10, random_state=None, shuffle=True) \n",
    "precision_sum = recall_sum = accuracy_sum = 0\n",
    "\n",
    "metrics_df = pd.DataFrame(columns = ['precision', 'recall', 'accuracy'])\n",
    "\n",
    "for train_index, test_index in kf.split(X):\n",
    "    X_train, X_test = X.iloc[train_index], X.iloc[test_index]\n",
    "    y_train, y_test = y.iloc[train_index], y.iloc[test_index]\n",
    "\n",
    "    model.compile(loss='binary_crossentropy',\n",
    "              optimizer='adam',\n",
    "              metrics=['accuracy'])\n",
    "                   \n",
    "    model.fit(X_train, y_train,epochs=3, batch_size=1, verbose=1)\n",
    "    \n",
    "    y_pred = (model.predict(X_test) > 0.5).astype(\"int32\")\n",
    "    \n",
    "    # plot a confusion matrix\n",
    "    confusion_mat = confusion_matrix(y_test, y_pred)\n",
    "    \n",
    "    # classification report\n",
    "    print(classification_report(y_test, y_pred, target_names=target_names))  \n",
    "    result_metrics_dict = classification_report(y_test, y_pred, target_names=target_names, output_dict=True)\n",
    "    \n",
    "    precision_sum += result_metrics_dict[\"macro avg\"][\"precision\"]\n",
    "    recall_sum += result_metrics_dict[\"macro avg\"][\"recall\"]\n",
    "    accuracy_sum += result_metrics_dict[\"accuracy\"]\n",
    "    \n",
    "    metrics_list = []\n",
    "    metrics_list.append(result_metrics_dict[\"macro avg\"][\"precision\"])\n",
    "    metrics_list.append(result_metrics_dict[\"macro avg\"][\"recall\"])\n",
    "    metrics_list.append(result_metrics_dict[\"accuracy\"])\n",
    "    \n",
    "    metrics_series = pd.Series(metrics_list, index=metrics_df.columns)\n",
    "    metrics_df = metrics_df.append(metrics_series, ignore_index=True)\n",
    "\n",
    "print(\"Average precision:\", precision_sum/kf.get_n_splits(X))\n",
    "print(\"Average recall:\", recall_sum/kf.get_n_splits(X))\n",
    "print(\"Average accuracy:\", accuracy_sum/kf.get_n_splits(X))\n",
    "\n",
    "metrics_df.to_csv('./MLP4_data/nn_model6_metrics.csv')"
   ]
  },
  {
   "cell_type": "markdown",
   "metadata": {},
   "source": [
    "#### Model 3\n",
    "\n",
    "Sigmoid Hidden Layer Activation Function with Sigmoid output layer\n",
    "\n",
    "- input layer (5 attributes = 5 units)\n",
    "- 2 hidden layers (6 units)\n",
    "- output layer (1 unit)"
   ]
  },
  {
   "cell_type": "code",
   "execution_count": 16,
   "metadata": {
    "scrolled": true
   },
   "outputs": [
    {
     "name": "stdout",
     "output_type": "stream",
     "text": [
      "Epoch 1/3\n",
      "19451/19451 [==============================] - 12s 606us/step - loss: 0.6612 - accuracy: 0.6268\n",
      "Epoch 2/3\n",
      "19451/19451 [==============================] - 12s 615us/step - loss: 0.6589 - accuracy: 0.6315\n",
      "Epoch 3/3\n",
      "19451/19451 [==============================] - 12s 620us/step - loss: 0.6587 - accuracy: 0.6315\n",
      "              precision    recall  f1-score   support\n",
      "\n",
      "       Under       0.65      1.00      0.79      1410\n",
      "        Over       0.00      0.00      0.00       752\n",
      "\n",
      "    accuracy                           0.65      2162\n",
      "   macro avg       0.33      0.50      0.39      2162\n",
      "weighted avg       0.43      0.65      0.51      2162\n",
      "\n",
      "Epoch 1/3\n"
     ]
    },
    {
     "name": "stderr",
     "output_type": "stream",
     "text": [
      "/Users/quinngoldstein/opt/anaconda3/lib/python3.8/site-packages/sklearn/metrics/_classification.py:1318: UndefinedMetricWarning: Precision and F-score are ill-defined and being set to 0.0 in labels with no predicted samples. Use `zero_division` parameter to control this behavior.\n",
      "  _warn_prf(average, modifier, msg_start, len(result))\n",
      "/Users/quinngoldstein/opt/anaconda3/lib/python3.8/site-packages/sklearn/metrics/_classification.py:1318: UndefinedMetricWarning: Precision and F-score are ill-defined and being set to 0.0 in labels with no predicted samples. Use `zero_division` parameter to control this behavior.\n",
      "  _warn_prf(average, modifier, msg_start, len(result))\n",
      "/Users/quinngoldstein/opt/anaconda3/lib/python3.8/site-packages/sklearn/metrics/_classification.py:1318: UndefinedMetricWarning: Precision and F-score are ill-defined and being set to 0.0 in labels with no predicted samples. Use `zero_division` parameter to control this behavior.\n",
      "  _warn_prf(average, modifier, msg_start, len(result))\n",
      "/Users/quinngoldstein/opt/anaconda3/lib/python3.8/site-packages/sklearn/metrics/_classification.py:1318: UndefinedMetricWarning: Precision and F-score are ill-defined and being set to 0.0 in labels with no predicted samples. Use `zero_division` parameter to control this behavior.\n",
      "  _warn_prf(average, modifier, msg_start, len(result))\n",
      "/Users/quinngoldstein/opt/anaconda3/lib/python3.8/site-packages/sklearn/metrics/_classification.py:1318: UndefinedMetricWarning: Precision and F-score are ill-defined and being set to 0.0 in labels with no predicted samples. Use `zero_division` parameter to control this behavior.\n",
      "  _warn_prf(average, modifier, msg_start, len(result))\n",
      "/Users/quinngoldstein/opt/anaconda3/lib/python3.8/site-packages/sklearn/metrics/_classification.py:1318: UndefinedMetricWarning: Precision and F-score are ill-defined and being set to 0.0 in labels with no predicted samples. Use `zero_division` parameter to control this behavior.\n",
      "  _warn_prf(average, modifier, msg_start, len(result))\n"
     ]
    },
    {
     "name": "stdout",
     "output_type": "stream",
     "text": [
      "19451/19451 [==============================] - 12s 607us/step - loss: 0.6574 - accuracy: 0.6342\n",
      "Epoch 2/3\n",
      "19451/19451 [==============================] - 12s 608us/step - loss: 0.6573 - accuracy: 0.6342\n",
      "Epoch 3/3\n",
      "19451/19451 [==============================] - 12s 611us/step - loss: 0.6572 - accuracy: 0.6342\n",
      "              precision    recall  f1-score   support\n",
      "\n",
      "       Under       0.63      1.00      0.77      1358\n",
      "        Over       0.00      0.00      0.00       804\n",
      "\n",
      "    accuracy                           0.63      2162\n",
      "   macro avg       0.31      0.50      0.39      2162\n",
      "weighted avg       0.39      0.63      0.48      2162\n",
      "\n",
      "Epoch 1/3\n"
     ]
    },
    {
     "name": "stderr",
     "output_type": "stream",
     "text": [
      "/Users/quinngoldstein/opt/anaconda3/lib/python3.8/site-packages/sklearn/metrics/_classification.py:1318: UndefinedMetricWarning: Precision and F-score are ill-defined and being set to 0.0 in labels with no predicted samples. Use `zero_division` parameter to control this behavior.\n",
      "  _warn_prf(average, modifier, msg_start, len(result))\n",
      "/Users/quinngoldstein/opt/anaconda3/lib/python3.8/site-packages/sklearn/metrics/_classification.py:1318: UndefinedMetricWarning: Precision and F-score are ill-defined and being set to 0.0 in labels with no predicted samples. Use `zero_division` parameter to control this behavior.\n",
      "  _warn_prf(average, modifier, msg_start, len(result))\n",
      "/Users/quinngoldstein/opt/anaconda3/lib/python3.8/site-packages/sklearn/metrics/_classification.py:1318: UndefinedMetricWarning: Precision and F-score are ill-defined and being set to 0.0 in labels with no predicted samples. Use `zero_division` parameter to control this behavior.\n",
      "  _warn_prf(average, modifier, msg_start, len(result))\n",
      "/Users/quinngoldstein/opt/anaconda3/lib/python3.8/site-packages/sklearn/metrics/_classification.py:1318: UndefinedMetricWarning: Precision and F-score are ill-defined and being set to 0.0 in labels with no predicted samples. Use `zero_division` parameter to control this behavior.\n",
      "  _warn_prf(average, modifier, msg_start, len(result))\n",
      "/Users/quinngoldstein/opt/anaconda3/lib/python3.8/site-packages/sklearn/metrics/_classification.py:1318: UndefinedMetricWarning: Precision and F-score are ill-defined and being set to 0.0 in labels with no predicted samples. Use `zero_division` parameter to control this behavior.\n",
      "  _warn_prf(average, modifier, msg_start, len(result))\n",
      "/Users/quinngoldstein/opt/anaconda3/lib/python3.8/site-packages/sklearn/metrics/_classification.py:1318: UndefinedMetricWarning: Precision and F-score are ill-defined and being set to 0.0 in labels with no predicted samples. Use `zero_division` parameter to control this behavior.\n",
      "  _warn_prf(average, modifier, msg_start, len(result))\n"
     ]
    },
    {
     "name": "stdout",
     "output_type": "stream",
     "text": [
      "19451/19451 [==============================] - 12s 611us/step - loss: 0.6573 - accuracy: 0.6341\n",
      "Epoch 2/3\n",
      "19451/19451 [==============================] - 12s 602us/step - loss: 0.6571 - accuracy: 0.6341\n",
      "Epoch 3/3\n",
      "19451/19451 [==============================] - 12s 604us/step - loss: 0.6570 - accuracy: 0.6341\n",
      "              precision    recall  f1-score   support\n",
      "\n",
      "       Under       0.63      1.00      0.77      1360\n",
      "        Over       0.00      0.00      0.00       802\n",
      "\n",
      "    accuracy                           0.63      2162\n",
      "   macro avg       0.31      0.50      0.39      2162\n",
      "weighted avg       0.40      0.63      0.49      2162\n",
      "\n",
      "Epoch 1/3\n"
     ]
    },
    {
     "name": "stderr",
     "output_type": "stream",
     "text": [
      "/Users/quinngoldstein/opt/anaconda3/lib/python3.8/site-packages/sklearn/metrics/_classification.py:1318: UndefinedMetricWarning: Precision and F-score are ill-defined and being set to 0.0 in labels with no predicted samples. Use `zero_division` parameter to control this behavior.\n",
      "  _warn_prf(average, modifier, msg_start, len(result))\n",
      "/Users/quinngoldstein/opt/anaconda3/lib/python3.8/site-packages/sklearn/metrics/_classification.py:1318: UndefinedMetricWarning: Precision and F-score are ill-defined and being set to 0.0 in labels with no predicted samples. Use `zero_division` parameter to control this behavior.\n",
      "  _warn_prf(average, modifier, msg_start, len(result))\n",
      "/Users/quinngoldstein/opt/anaconda3/lib/python3.8/site-packages/sklearn/metrics/_classification.py:1318: UndefinedMetricWarning: Precision and F-score are ill-defined and being set to 0.0 in labels with no predicted samples. Use `zero_division` parameter to control this behavior.\n",
      "  _warn_prf(average, modifier, msg_start, len(result))\n",
      "/Users/quinngoldstein/opt/anaconda3/lib/python3.8/site-packages/sklearn/metrics/_classification.py:1318: UndefinedMetricWarning: Precision and F-score are ill-defined and being set to 0.0 in labels with no predicted samples. Use `zero_division` parameter to control this behavior.\n",
      "  _warn_prf(average, modifier, msg_start, len(result))\n",
      "/Users/quinngoldstein/opt/anaconda3/lib/python3.8/site-packages/sklearn/metrics/_classification.py:1318: UndefinedMetricWarning: Precision and F-score are ill-defined and being set to 0.0 in labels with no predicted samples. Use `zero_division` parameter to control this behavior.\n",
      "  _warn_prf(average, modifier, msg_start, len(result))\n",
      "/Users/quinngoldstein/opt/anaconda3/lib/python3.8/site-packages/sklearn/metrics/_classification.py:1318: UndefinedMetricWarning: Precision and F-score are ill-defined and being set to 0.0 in labels with no predicted samples. Use `zero_division` parameter to control this behavior.\n",
      "  _warn_prf(average, modifier, msg_start, len(result))\n"
     ]
    },
    {
     "name": "stdout",
     "output_type": "stream",
     "text": [
      "19452/19452 [==============================] - 12s 603us/step - loss: 0.6572 - accuracy: 0.6344\n",
      "Epoch 2/3\n",
      "19452/19452 [==============================] - 12s 603us/step - loss: 0.6570 - accuracy: 0.6344\n",
      "Epoch 3/3\n",
      "19452/19452 [==============================] - 12s 604us/step - loss: 0.6568 - accuracy: 0.6344\n",
      "              precision    recall  f1-score   support\n",
      "\n",
      "       Under       0.63      1.00      0.77      1353\n",
      "        Over       0.00      0.00      0.00       808\n",
      "\n",
      "    accuracy                           0.63      2161\n",
      "   macro avg       0.31      0.50      0.39      2161\n",
      "weighted avg       0.39      0.63      0.48      2161\n",
      "\n",
      "Epoch 1/3\n"
     ]
    },
    {
     "name": "stderr",
     "output_type": "stream",
     "text": [
      "/Users/quinngoldstein/opt/anaconda3/lib/python3.8/site-packages/sklearn/metrics/_classification.py:1318: UndefinedMetricWarning: Precision and F-score are ill-defined and being set to 0.0 in labels with no predicted samples. Use `zero_division` parameter to control this behavior.\n",
      "  _warn_prf(average, modifier, msg_start, len(result))\n",
      "/Users/quinngoldstein/opt/anaconda3/lib/python3.8/site-packages/sklearn/metrics/_classification.py:1318: UndefinedMetricWarning: Precision and F-score are ill-defined and being set to 0.0 in labels with no predicted samples. Use `zero_division` parameter to control this behavior.\n",
      "  _warn_prf(average, modifier, msg_start, len(result))\n",
      "/Users/quinngoldstein/opt/anaconda3/lib/python3.8/site-packages/sklearn/metrics/_classification.py:1318: UndefinedMetricWarning: Precision and F-score are ill-defined and being set to 0.0 in labels with no predicted samples. Use `zero_division` parameter to control this behavior.\n",
      "  _warn_prf(average, modifier, msg_start, len(result))\n",
      "/Users/quinngoldstein/opt/anaconda3/lib/python3.8/site-packages/sklearn/metrics/_classification.py:1318: UndefinedMetricWarning: Precision and F-score are ill-defined and being set to 0.0 in labels with no predicted samples. Use `zero_division` parameter to control this behavior.\n",
      "  _warn_prf(average, modifier, msg_start, len(result))\n",
      "/Users/quinngoldstein/opt/anaconda3/lib/python3.8/site-packages/sklearn/metrics/_classification.py:1318: UndefinedMetricWarning: Precision and F-score are ill-defined and being set to 0.0 in labels with no predicted samples. Use `zero_division` parameter to control this behavior.\n",
      "  _warn_prf(average, modifier, msg_start, len(result))\n",
      "/Users/quinngoldstein/opt/anaconda3/lib/python3.8/site-packages/sklearn/metrics/_classification.py:1318: UndefinedMetricWarning: Precision and F-score are ill-defined and being set to 0.0 in labels with no predicted samples. Use `zero_division` parameter to control this behavior.\n",
      "  _warn_prf(average, modifier, msg_start, len(result))\n"
     ]
    },
    {
     "name": "stdout",
     "output_type": "stream",
     "text": [
      "19452/19452 [==============================] - 12s 615us/step - loss: 0.6569 - accuracy: 0.6346\n",
      "Epoch 2/3\n",
      "19452/19452 [==============================] - 12s 608us/step - loss: 0.6569 - accuracy: 0.6346\n",
      "Epoch 3/3\n",
      "19452/19452 [==============================] - 12s 608us/step - loss: 0.6569 - accuracy: 0.6346\n",
      "              precision    recall  f1-score   support\n",
      "\n",
      "       Under       0.62      1.00      0.77      1349\n",
      "        Over       0.00      0.00      0.00       812\n",
      "\n",
      "    accuracy                           0.62      2161\n",
      "   macro avg       0.31      0.50      0.38      2161\n",
      "weighted avg       0.39      0.62      0.48      2161\n",
      "\n",
      "Epoch 1/3\n"
     ]
    },
    {
     "name": "stderr",
     "output_type": "stream",
     "text": [
      "/Users/quinngoldstein/opt/anaconda3/lib/python3.8/site-packages/sklearn/metrics/_classification.py:1318: UndefinedMetricWarning: Precision and F-score are ill-defined and being set to 0.0 in labels with no predicted samples. Use `zero_division` parameter to control this behavior.\n",
      "  _warn_prf(average, modifier, msg_start, len(result))\n",
      "/Users/quinngoldstein/opt/anaconda3/lib/python3.8/site-packages/sklearn/metrics/_classification.py:1318: UndefinedMetricWarning: Precision and F-score are ill-defined and being set to 0.0 in labels with no predicted samples. Use `zero_division` parameter to control this behavior.\n",
      "  _warn_prf(average, modifier, msg_start, len(result))\n",
      "/Users/quinngoldstein/opt/anaconda3/lib/python3.8/site-packages/sklearn/metrics/_classification.py:1318: UndefinedMetricWarning: Precision and F-score are ill-defined and being set to 0.0 in labels with no predicted samples. Use `zero_division` parameter to control this behavior.\n",
      "  _warn_prf(average, modifier, msg_start, len(result))\n",
      "/Users/quinngoldstein/opt/anaconda3/lib/python3.8/site-packages/sklearn/metrics/_classification.py:1318: UndefinedMetricWarning: Precision and F-score are ill-defined and being set to 0.0 in labels with no predicted samples. Use `zero_division` parameter to control this behavior.\n",
      "  _warn_prf(average, modifier, msg_start, len(result))\n",
      "/Users/quinngoldstein/opt/anaconda3/lib/python3.8/site-packages/sklearn/metrics/_classification.py:1318: UndefinedMetricWarning: Precision and F-score are ill-defined and being set to 0.0 in labels with no predicted samples. Use `zero_division` parameter to control this behavior.\n",
      "  _warn_prf(average, modifier, msg_start, len(result))\n",
      "/Users/quinngoldstein/opt/anaconda3/lib/python3.8/site-packages/sklearn/metrics/_classification.py:1318: UndefinedMetricWarning: Precision and F-score are ill-defined and being set to 0.0 in labels with no predicted samples. Use `zero_division` parameter to control this behavior.\n",
      "  _warn_prf(average, modifier, msg_start, len(result))\n"
     ]
    },
    {
     "name": "stdout",
     "output_type": "stream",
     "text": [
      "19452/19452 [==============================] - 12s 608us/step - loss: 0.6574 - accuracy: 0.6337\n",
      "Epoch 2/3\n",
      "19452/19452 [==============================] - 12s 608us/step - loss: 0.6575 - accuracy: 0.6337\n",
      "Epoch 3/3\n",
      "19452/19452 [==============================] - 12s 607us/step - loss: 0.6573 - accuracy: 0.6337\n",
      "              precision    recall  f1-score   support\n",
      "\n",
      "       Under       0.63      1.00      0.77      1367\n",
      "        Over       0.00      0.00      0.00       794\n",
      "\n",
      "    accuracy                           0.63      2161\n",
      "   macro avg       0.32      0.50      0.39      2161\n",
      "weighted avg       0.40      0.63      0.49      2161\n",
      "\n",
      "Epoch 1/3\n"
     ]
    },
    {
     "name": "stderr",
     "output_type": "stream",
     "text": [
      "/Users/quinngoldstein/opt/anaconda3/lib/python3.8/site-packages/sklearn/metrics/_classification.py:1318: UndefinedMetricWarning: Precision and F-score are ill-defined and being set to 0.0 in labels with no predicted samples. Use `zero_division` parameter to control this behavior.\n",
      "  _warn_prf(average, modifier, msg_start, len(result))\n",
      "/Users/quinngoldstein/opt/anaconda3/lib/python3.8/site-packages/sklearn/metrics/_classification.py:1318: UndefinedMetricWarning: Precision and F-score are ill-defined and being set to 0.0 in labels with no predicted samples. Use `zero_division` parameter to control this behavior.\n",
      "  _warn_prf(average, modifier, msg_start, len(result))\n",
      "/Users/quinngoldstein/opt/anaconda3/lib/python3.8/site-packages/sklearn/metrics/_classification.py:1318: UndefinedMetricWarning: Precision and F-score are ill-defined and being set to 0.0 in labels with no predicted samples. Use `zero_division` parameter to control this behavior.\n",
      "  _warn_prf(average, modifier, msg_start, len(result))\n",
      "/Users/quinngoldstein/opt/anaconda3/lib/python3.8/site-packages/sklearn/metrics/_classification.py:1318: UndefinedMetricWarning: Precision and F-score are ill-defined and being set to 0.0 in labels with no predicted samples. Use `zero_division` parameter to control this behavior.\n",
      "  _warn_prf(average, modifier, msg_start, len(result))\n",
      "/Users/quinngoldstein/opt/anaconda3/lib/python3.8/site-packages/sklearn/metrics/_classification.py:1318: UndefinedMetricWarning: Precision and F-score are ill-defined and being set to 0.0 in labels with no predicted samples. Use `zero_division` parameter to control this behavior.\n",
      "  _warn_prf(average, modifier, msg_start, len(result))\n",
      "/Users/quinngoldstein/opt/anaconda3/lib/python3.8/site-packages/sklearn/metrics/_classification.py:1318: UndefinedMetricWarning: Precision and F-score are ill-defined and being set to 0.0 in labels with no predicted samples. Use `zero_division` parameter to control this behavior.\n",
      "  _warn_prf(average, modifier, msg_start, len(result))\n"
     ]
    },
    {
     "name": "stdout",
     "output_type": "stream",
     "text": [
      "19452/19452 [==============================] - 12s 608us/step - loss: 0.6570 - accuracy: 0.6342\n",
      "Epoch 2/3\n",
      "19452/19452 [==============================] - 13s 664us/step - loss: 0.6571 - accuracy: 0.6342\n",
      "Epoch 3/3\n",
      "19452/19452 [==============================] - 12s 610us/step - loss: 0.6571 - accuracy: 0.6342\n",
      "              precision    recall  f1-score   support\n",
      "\n",
      "       Under       0.63      1.00      0.77      1358\n",
      "        Over       0.00      0.00      0.00       803\n",
      "\n",
      "    accuracy                           0.63      2161\n",
      "   macro avg       0.31      0.50      0.39      2161\n",
      "weighted avg       0.39      0.63      0.49      2161\n",
      "\n",
      "Epoch 1/3\n"
     ]
    },
    {
     "name": "stderr",
     "output_type": "stream",
     "text": [
      "/Users/quinngoldstein/opt/anaconda3/lib/python3.8/site-packages/sklearn/metrics/_classification.py:1318: UndefinedMetricWarning: Precision and F-score are ill-defined and being set to 0.0 in labels with no predicted samples. Use `zero_division` parameter to control this behavior.\n",
      "  _warn_prf(average, modifier, msg_start, len(result))\n",
      "/Users/quinngoldstein/opt/anaconda3/lib/python3.8/site-packages/sklearn/metrics/_classification.py:1318: UndefinedMetricWarning: Precision and F-score are ill-defined and being set to 0.0 in labels with no predicted samples. Use `zero_division` parameter to control this behavior.\n",
      "  _warn_prf(average, modifier, msg_start, len(result))\n",
      "/Users/quinngoldstein/opt/anaconda3/lib/python3.8/site-packages/sklearn/metrics/_classification.py:1318: UndefinedMetricWarning: Precision and F-score are ill-defined and being set to 0.0 in labels with no predicted samples. Use `zero_division` parameter to control this behavior.\n",
      "  _warn_prf(average, modifier, msg_start, len(result))\n",
      "/Users/quinngoldstein/opt/anaconda3/lib/python3.8/site-packages/sklearn/metrics/_classification.py:1318: UndefinedMetricWarning: Precision and F-score are ill-defined and being set to 0.0 in labels with no predicted samples. Use `zero_division` parameter to control this behavior.\n",
      "  _warn_prf(average, modifier, msg_start, len(result))\n",
      "/Users/quinngoldstein/opt/anaconda3/lib/python3.8/site-packages/sklearn/metrics/_classification.py:1318: UndefinedMetricWarning: Precision and F-score are ill-defined and being set to 0.0 in labels with no predicted samples. Use `zero_division` parameter to control this behavior.\n",
      "  _warn_prf(average, modifier, msg_start, len(result))\n",
      "/Users/quinngoldstein/opt/anaconda3/lib/python3.8/site-packages/sklearn/metrics/_classification.py:1318: UndefinedMetricWarning: Precision and F-score are ill-defined and being set to 0.0 in labels with no predicted samples. Use `zero_division` parameter to control this behavior.\n",
      "  _warn_prf(average, modifier, msg_start, len(result))\n"
     ]
    },
    {
     "name": "stdout",
     "output_type": "stream",
     "text": [
      "19452/19452 [==============================] - 12s 611us/step - loss: 0.6578 - accuracy: 0.6328\n",
      "Epoch 2/3\n",
      "19452/19452 [==============================] - 12s 621us/step - loss: 0.6578 - accuracy: 0.6328\n",
      "Epoch 3/3\n",
      "19452/19452 [==============================] - 12s 622us/step - loss: 0.6579 - accuracy: 0.6328\n",
      "              precision    recall  f1-score   support\n",
      "\n",
      "       Under       0.64      1.00      0.78      1385\n",
      "        Over       0.00      0.00      0.00       776\n",
      "\n",
      "    accuracy                           0.64      2161\n",
      "   macro avg       0.32      0.50      0.39      2161\n",
      "weighted avg       0.41      0.64      0.50      2161\n",
      "\n",
      "Epoch 1/3\n"
     ]
    },
    {
     "name": "stderr",
     "output_type": "stream",
     "text": [
      "/Users/quinngoldstein/opt/anaconda3/lib/python3.8/site-packages/sklearn/metrics/_classification.py:1318: UndefinedMetricWarning: Precision and F-score are ill-defined and being set to 0.0 in labels with no predicted samples. Use `zero_division` parameter to control this behavior.\n",
      "  _warn_prf(average, modifier, msg_start, len(result))\n",
      "/Users/quinngoldstein/opt/anaconda3/lib/python3.8/site-packages/sklearn/metrics/_classification.py:1318: UndefinedMetricWarning: Precision and F-score are ill-defined and being set to 0.0 in labels with no predicted samples. Use `zero_division` parameter to control this behavior.\n",
      "  _warn_prf(average, modifier, msg_start, len(result))\n",
      "/Users/quinngoldstein/opt/anaconda3/lib/python3.8/site-packages/sklearn/metrics/_classification.py:1318: UndefinedMetricWarning: Precision and F-score are ill-defined and being set to 0.0 in labels with no predicted samples. Use `zero_division` parameter to control this behavior.\n",
      "  _warn_prf(average, modifier, msg_start, len(result))\n",
      "/Users/quinngoldstein/opt/anaconda3/lib/python3.8/site-packages/sklearn/metrics/_classification.py:1318: UndefinedMetricWarning: Precision and F-score are ill-defined and being set to 0.0 in labels with no predicted samples. Use `zero_division` parameter to control this behavior.\n",
      "  _warn_prf(average, modifier, msg_start, len(result))\n",
      "/Users/quinngoldstein/opt/anaconda3/lib/python3.8/site-packages/sklearn/metrics/_classification.py:1318: UndefinedMetricWarning: Precision and F-score are ill-defined and being set to 0.0 in labels with no predicted samples. Use `zero_division` parameter to control this behavior.\n",
      "  _warn_prf(average, modifier, msg_start, len(result))\n",
      "/Users/quinngoldstein/opt/anaconda3/lib/python3.8/site-packages/sklearn/metrics/_classification.py:1318: UndefinedMetricWarning: Precision and F-score are ill-defined and being set to 0.0 in labels with no predicted samples. Use `zero_division` parameter to control this behavior.\n",
      "  _warn_prf(average, modifier, msg_start, len(result))\n"
     ]
    },
    {
     "name": "stdout",
     "output_type": "stream",
     "text": [
      "19452/19452 [==============================] - 12s 622us/step - loss: 0.6579 - accuracy: 0.6327\n",
      "Epoch 2/3\n",
      "19452/19452 [==============================] - 12s 614us/step - loss: 0.6578 - accuracy: 0.6327\n",
      "Epoch 3/3\n",
      "19452/19452 [==============================] - 12s 613us/step - loss: 0.6577 - accuracy: 0.6327\n",
      "              precision    recall  f1-score   support\n",
      "\n",
      "       Under       0.64      1.00      0.78      1386\n",
      "        Over       0.00      0.00      0.00       775\n",
      "\n",
      "    accuracy                           0.64      2161\n",
      "   macro avg       0.32      0.50      0.39      2161\n",
      "weighted avg       0.41      0.64      0.50      2161\n",
      "\n",
      "Epoch 1/3\n"
     ]
    },
    {
     "name": "stderr",
     "output_type": "stream",
     "text": [
      "/Users/quinngoldstein/opt/anaconda3/lib/python3.8/site-packages/sklearn/metrics/_classification.py:1318: UndefinedMetricWarning: Precision and F-score are ill-defined and being set to 0.0 in labels with no predicted samples. Use `zero_division` parameter to control this behavior.\n",
      "  _warn_prf(average, modifier, msg_start, len(result))\n",
      "/Users/quinngoldstein/opt/anaconda3/lib/python3.8/site-packages/sklearn/metrics/_classification.py:1318: UndefinedMetricWarning: Precision and F-score are ill-defined and being set to 0.0 in labels with no predicted samples. Use `zero_division` parameter to control this behavior.\n",
      "  _warn_prf(average, modifier, msg_start, len(result))\n",
      "/Users/quinngoldstein/opt/anaconda3/lib/python3.8/site-packages/sklearn/metrics/_classification.py:1318: UndefinedMetricWarning: Precision and F-score are ill-defined and being set to 0.0 in labels with no predicted samples. Use `zero_division` parameter to control this behavior.\n",
      "  _warn_prf(average, modifier, msg_start, len(result))\n",
      "/Users/quinngoldstein/opt/anaconda3/lib/python3.8/site-packages/sklearn/metrics/_classification.py:1318: UndefinedMetricWarning: Precision and F-score are ill-defined and being set to 0.0 in labels with no predicted samples. Use `zero_division` parameter to control this behavior.\n",
      "  _warn_prf(average, modifier, msg_start, len(result))\n",
      "/Users/quinngoldstein/opt/anaconda3/lib/python3.8/site-packages/sklearn/metrics/_classification.py:1318: UndefinedMetricWarning: Precision and F-score are ill-defined and being set to 0.0 in labels with no predicted samples. Use `zero_division` parameter to control this behavior.\n",
      "  _warn_prf(average, modifier, msg_start, len(result))\n",
      "/Users/quinngoldstein/opt/anaconda3/lib/python3.8/site-packages/sklearn/metrics/_classification.py:1318: UndefinedMetricWarning: Precision and F-score are ill-defined and being set to 0.0 in labels with no predicted samples. Use `zero_division` parameter to control this behavior.\n",
      "  _warn_prf(average, modifier, msg_start, len(result))\n"
     ]
    },
    {
     "name": "stdout",
     "output_type": "stream",
     "text": [
      "19452/19452 [==============================] - 12s 610us/step - loss: 0.6574 - accuracy: 0.6337\n",
      "Epoch 2/3\n",
      "19452/19452 [==============================] - 12s 609us/step - loss: 0.6574 - accuracy: 0.6337\n",
      "Epoch 3/3\n",
      "19452/19452 [==============================] - 12s 611us/step - loss: 0.6573 - accuracy: 0.6337\n",
      "              precision    recall  f1-score   support\n",
      "\n",
      "       Under       0.63      1.00      0.78      1368\n",
      "        Over       0.00      0.00      0.00       793\n",
      "\n",
      "    accuracy                           0.63      2161\n",
      "   macro avg       0.32      0.50      0.39      2161\n",
      "weighted avg       0.40      0.63      0.49      2161\n",
      "\n",
      "Average precision: 0.3167998763720329\n",
      "Average recall: 0.5\n",
      "Average accuracy: 0.6335997527440658\n"
     ]
    },
    {
     "name": "stderr",
     "output_type": "stream",
     "text": [
      "/Users/quinngoldstein/opt/anaconda3/lib/python3.8/site-packages/sklearn/metrics/_classification.py:1318: UndefinedMetricWarning: Precision and F-score are ill-defined and being set to 0.0 in labels with no predicted samples. Use `zero_division` parameter to control this behavior.\n",
      "  _warn_prf(average, modifier, msg_start, len(result))\n",
      "/Users/quinngoldstein/opt/anaconda3/lib/python3.8/site-packages/sklearn/metrics/_classification.py:1318: UndefinedMetricWarning: Precision and F-score are ill-defined and being set to 0.0 in labels with no predicted samples. Use `zero_division` parameter to control this behavior.\n",
      "  _warn_prf(average, modifier, msg_start, len(result))\n",
      "/Users/quinngoldstein/opt/anaconda3/lib/python3.8/site-packages/sklearn/metrics/_classification.py:1318: UndefinedMetricWarning: Precision and F-score are ill-defined and being set to 0.0 in labels with no predicted samples. Use `zero_division` parameter to control this behavior.\n",
      "  _warn_prf(average, modifier, msg_start, len(result))\n",
      "/Users/quinngoldstein/opt/anaconda3/lib/python3.8/site-packages/sklearn/metrics/_classification.py:1318: UndefinedMetricWarning: Precision and F-score are ill-defined and being set to 0.0 in labels with no predicted samples. Use `zero_division` parameter to control this behavior.\n",
      "  _warn_prf(average, modifier, msg_start, len(result))\n",
      "/Users/quinngoldstein/opt/anaconda3/lib/python3.8/site-packages/sklearn/metrics/_classification.py:1318: UndefinedMetricWarning: Precision and F-score are ill-defined and being set to 0.0 in labels with no predicted samples. Use `zero_division` parameter to control this behavior.\n",
      "  _warn_prf(average, modifier, msg_start, len(result))\n",
      "/Users/quinngoldstein/opt/anaconda3/lib/python3.8/site-packages/sklearn/metrics/_classification.py:1318: UndefinedMetricWarning: Precision and F-score are ill-defined and being set to 0.0 in labels with no predicted samples. Use `zero_division` parameter to control this behavior.\n",
      "  _warn_prf(average, modifier, msg_start, len(result))\n"
     ]
    }
   ],
   "source": [
    "from sklearn.model_selection import KFold # import k-fold validation\n",
    "\n",
    "# We use bedrooms, bathrooms, sqft_living, sqft_lot, and 'most_recent' attributes\n",
    "X = df[['bedrooms', 'bathrooms', 'sqft_living', 'sqft_lot', 'most_recent']]\n",
    "y = df['price_range']\n",
    "\n",
    "# Split the data up in train and test sets\n",
    "X_train, X_test, y_train, y_test = train_test_split(X, y, test_size=0.33, random_state=42)\n",
    "\n",
    "target_names = ['Under', 'Over']\n",
    "\n",
    "# construct a model\n",
    "model = keras.models.Sequential([\n",
    "    keras.layers.Dense(6, activation='sigmoid', input_shape=(5,)),\n",
    "    keras.layers.Dense(6, activation='sigmoid'),\n",
    "    keras.layers.Dense(1, activation='sigmoid')\n",
    "])\n",
    "\n",
    "kf = KFold(n_splits=10, random_state=None, shuffle=True) \n",
    "precision_sum = recall_sum = accuracy_sum = 0\n",
    "\n",
    "metrics_df = pd.DataFrame(columns = ['precision', 'recall', 'accuracy'])\n",
    "\n",
    "for train_index, test_index in kf.split(X):\n",
    "    X_train, X_test = X.iloc[train_index], X.iloc[test_index]\n",
    "    y_train, y_test = y.iloc[train_index], y.iloc[test_index]\n",
    "\n",
    "    model.compile(loss='binary_crossentropy',\n",
    "              optimizer='adam',\n",
    "              metrics=['accuracy'])\n",
    "                   \n",
    "    model.fit(X_train, y_train,epochs=3, batch_size=1, verbose=1)\n",
    "    \n",
    "    y_pred = (model.predict(X_test) > 0.5).astype(\"int32\")\n",
    "    \n",
    "    # plot a confusion matrix\n",
    "    confusion_mat = confusion_matrix(y_test, y_pred)\n",
    "    \n",
    "    # classification report\n",
    "    print(classification_report(y_test, y_pred, target_names=target_names))  \n",
    "    result_metrics_dict = classification_report(y_test, y_pred, target_names=target_names, output_dict=True)\n",
    "    \n",
    "    precision_sum += result_metrics_dict[\"macro avg\"][\"precision\"]\n",
    "    recall_sum += result_metrics_dict[\"macro avg\"][\"recall\"]\n",
    "    accuracy_sum += result_metrics_dict[\"accuracy\"]\n",
    "    \n",
    "    metrics_list = []\n",
    "    metrics_list.append(result_metrics_dict[\"macro avg\"][\"precision\"])\n",
    "    metrics_list.append(result_metrics_dict[\"macro avg\"][\"recall\"])\n",
    "    metrics_list.append(result_metrics_dict[\"accuracy\"])\n",
    "    \n",
    "    metrics_series = pd.Series(metrics_list, index=metrics_df.columns)\n",
    "    metrics_df = metrics_df.append(metrics_series, ignore_index=True)\n",
    "\n",
    "print(\"Average precision:\", precision_sum/kf.get_n_splits(X))\n",
    "print(\"Average recall:\", recall_sum/kf.get_n_splits(X))\n",
    "print(\"Average accuracy:\", accuracy_sum/kf.get_n_splits(X))\n",
    "\n",
    "metrics_df.to_csv('./MLP4_data/nn_model7_metrics.csv')"
   ]
  },
  {
   "cell_type": "markdown",
   "metadata": {},
   "source": [
    "## Best Model\n",
    "\n",
    "Relu Hidden Layer Activation Function with Sigmoid Output layer\n",
    "\n",
    "- input layer (5 attributes = 5 units)\n",
    "- 3 hidden layers (15 units)\n",
    "- output layer (1 unit)"
   ]
  },
  {
   "cell_type": "code",
   "execution_count": 14,
   "metadata": {},
   "outputs": [
    {
     "name": "stdout",
     "output_type": "stream",
     "text": [
      "Epoch 1/3\n",
      "19451/19451 [==============================] - 15s 739us/step - loss: 20.5774 - accuracy: 0.6544\n",
      "Epoch 2/3\n",
      "19451/19451 [==============================] - 14s 729us/step - loss: 0.6774 - accuracy: 0.6923\n",
      "Epoch 3/3\n",
      "19451/19451 [==============================] - 14s 712us/step - loss: 0.6282 - accuracy: 0.6920\n",
      "              precision    recall  f1-score   support\n",
      "\n",
      "       Under       0.68      0.96      0.79      1337\n",
      "        Over       0.80      0.26      0.39       825\n",
      "\n",
      "    accuracy                           0.69      2162\n",
      "   macro avg       0.74      0.61      0.59      2162\n",
      "weighted avg       0.72      0.69      0.64      2162\n",
      "\n",
      "Epoch 1/3\n",
      "19451/19451 [==============================] - 14s 706us/step - loss: 0.6666 - accuracy: 0.6453\n",
      "Epoch 2/3\n",
      "19451/19451 [==============================] - 14s 719us/step - loss: 0.6645 - accuracy: 0.6636\n",
      "Epoch 3/3\n",
      "19451/19451 [==============================] - 16s 819us/step - loss: 0.6609 - accuracy: 0.6337\n",
      "              precision    recall  f1-score   support\n",
      "\n",
      "       Under       0.63      1.00      0.78      1368\n",
      "        Over       0.00      0.00      0.00       794\n",
      "\n",
      "    accuracy                           0.63      2162\n",
      "   macro avg       0.32      0.50      0.39      2162\n",
      "weighted avg       0.40      0.63      0.49      2162\n",
      "\n",
      "Epoch 1/3\n"
     ]
    },
    {
     "name": "stderr",
     "output_type": "stream",
     "text": [
      "/Users/quinngoldstein/opt/anaconda3/lib/python3.8/site-packages/sklearn/metrics/_classification.py:1318: UndefinedMetricWarning: Precision and F-score are ill-defined and being set to 0.0 in labels with no predicted samples. Use `zero_division` parameter to control this behavior.\n",
      "  _warn_prf(average, modifier, msg_start, len(result))\n",
      "/Users/quinngoldstein/opt/anaconda3/lib/python3.8/site-packages/sklearn/metrics/_classification.py:1318: UndefinedMetricWarning: Precision and F-score are ill-defined and being set to 0.0 in labels with no predicted samples. Use `zero_division` parameter to control this behavior.\n",
      "  _warn_prf(average, modifier, msg_start, len(result))\n",
      "/Users/quinngoldstein/opt/anaconda3/lib/python3.8/site-packages/sklearn/metrics/_classification.py:1318: UndefinedMetricWarning: Precision and F-score are ill-defined and being set to 0.0 in labels with no predicted samples. Use `zero_division` parameter to control this behavior.\n",
      "  _warn_prf(average, modifier, msg_start, len(result))\n",
      "/Users/quinngoldstein/opt/anaconda3/lib/python3.8/site-packages/sklearn/metrics/_classification.py:1318: UndefinedMetricWarning: Precision and F-score are ill-defined and being set to 0.0 in labels with no predicted samples. Use `zero_division` parameter to control this behavior.\n",
      "  _warn_prf(average, modifier, msg_start, len(result))\n",
      "/Users/quinngoldstein/opt/anaconda3/lib/python3.8/site-packages/sklearn/metrics/_classification.py:1318: UndefinedMetricWarning: Precision and F-score are ill-defined and being set to 0.0 in labels with no predicted samples. Use `zero_division` parameter to control this behavior.\n",
      "  _warn_prf(average, modifier, msg_start, len(result))\n",
      "/Users/quinngoldstein/opt/anaconda3/lib/python3.8/site-packages/sklearn/metrics/_classification.py:1318: UndefinedMetricWarning: Precision and F-score are ill-defined and being set to 0.0 in labels with no predicted samples. Use `zero_division` parameter to control this behavior.\n",
      "  _warn_prf(average, modifier, msg_start, len(result))\n"
     ]
    },
    {
     "name": "stdout",
     "output_type": "stream",
     "text": [
      "19451/19451 [==============================] - 14s 708us/step - loss: 0.6576 - accuracy: 0.6336\n",
      "Epoch 2/3\n",
      "19451/19451 [==============================] - 14s 727us/step - loss: 0.6576 - accuracy: 0.6336\n",
      "Epoch 3/3\n",
      "19451/19451 [==============================] - 15s 761us/step - loss: 0.6574 - accuracy: 0.6336\n",
      "              precision    recall  f1-score   support\n",
      "\n",
      "       Under       0.63      1.00      0.78      1370\n",
      "        Over       0.00      0.00      0.00       792\n",
      "\n",
      "    accuracy                           0.63      2162\n",
      "   macro avg       0.32      0.50      0.39      2162\n",
      "weighted avg       0.40      0.63      0.49      2162\n",
      "\n",
      "Epoch 1/3\n"
     ]
    },
    {
     "name": "stderr",
     "output_type": "stream",
     "text": [
      "/Users/quinngoldstein/opt/anaconda3/lib/python3.8/site-packages/sklearn/metrics/_classification.py:1318: UndefinedMetricWarning: Precision and F-score are ill-defined and being set to 0.0 in labels with no predicted samples. Use `zero_division` parameter to control this behavior.\n",
      "  _warn_prf(average, modifier, msg_start, len(result))\n",
      "/Users/quinngoldstein/opt/anaconda3/lib/python3.8/site-packages/sklearn/metrics/_classification.py:1318: UndefinedMetricWarning: Precision and F-score are ill-defined and being set to 0.0 in labels with no predicted samples. Use `zero_division` parameter to control this behavior.\n",
      "  _warn_prf(average, modifier, msg_start, len(result))\n",
      "/Users/quinngoldstein/opt/anaconda3/lib/python3.8/site-packages/sklearn/metrics/_classification.py:1318: UndefinedMetricWarning: Precision and F-score are ill-defined and being set to 0.0 in labels with no predicted samples. Use `zero_division` parameter to control this behavior.\n",
      "  _warn_prf(average, modifier, msg_start, len(result))\n",
      "/Users/quinngoldstein/opt/anaconda3/lib/python3.8/site-packages/sklearn/metrics/_classification.py:1318: UndefinedMetricWarning: Precision and F-score are ill-defined and being set to 0.0 in labels with no predicted samples. Use `zero_division` parameter to control this behavior.\n",
      "  _warn_prf(average, modifier, msg_start, len(result))\n",
      "/Users/quinngoldstein/opt/anaconda3/lib/python3.8/site-packages/sklearn/metrics/_classification.py:1318: UndefinedMetricWarning: Precision and F-score are ill-defined and being set to 0.0 in labels with no predicted samples. Use `zero_division` parameter to control this behavior.\n",
      "  _warn_prf(average, modifier, msg_start, len(result))\n",
      "/Users/quinngoldstein/opt/anaconda3/lib/python3.8/site-packages/sklearn/metrics/_classification.py:1318: UndefinedMetricWarning: Precision and F-score are ill-defined and being set to 0.0 in labels with no predicted samples. Use `zero_division` parameter to control this behavior.\n",
      "  _warn_prf(average, modifier, msg_start, len(result))\n"
     ]
    },
    {
     "name": "stdout",
     "output_type": "stream",
     "text": [
      "19452/19452 [==============================] - 15s 750us/step - loss: 0.6578 - accuracy: 0.6329\n",
      "Epoch 2/3\n",
      "19452/19452 [==============================] - 14s 708us/step - loss: 0.6578 - accuracy: 0.6329\n",
      "Epoch 3/3\n",
      "19452/19452 [==============================] - 20s 1ms/step - loss: 0.6578 - accuracy: 0.6329\n",
      "              precision    recall  f1-score   support\n",
      "\n",
      "       Under       0.64      1.00      0.78      1382\n",
      "        Over       0.00      0.00      0.00       779\n",
      "\n",
      "    accuracy                           0.64      2161\n",
      "   macro avg       0.32      0.50      0.39      2161\n",
      "weighted avg       0.41      0.64      0.50      2161\n",
      "\n",
      "Epoch 1/3\n"
     ]
    },
    {
     "name": "stderr",
     "output_type": "stream",
     "text": [
      "/Users/quinngoldstein/opt/anaconda3/lib/python3.8/site-packages/sklearn/metrics/_classification.py:1318: UndefinedMetricWarning: Precision and F-score are ill-defined and being set to 0.0 in labels with no predicted samples. Use `zero_division` parameter to control this behavior.\n",
      "  _warn_prf(average, modifier, msg_start, len(result))\n",
      "/Users/quinngoldstein/opt/anaconda3/lib/python3.8/site-packages/sklearn/metrics/_classification.py:1318: UndefinedMetricWarning: Precision and F-score are ill-defined and being set to 0.0 in labels with no predicted samples. Use `zero_division` parameter to control this behavior.\n",
      "  _warn_prf(average, modifier, msg_start, len(result))\n",
      "/Users/quinngoldstein/opt/anaconda3/lib/python3.8/site-packages/sklearn/metrics/_classification.py:1318: UndefinedMetricWarning: Precision and F-score are ill-defined and being set to 0.0 in labels with no predicted samples. Use `zero_division` parameter to control this behavior.\n",
      "  _warn_prf(average, modifier, msg_start, len(result))\n",
      "/Users/quinngoldstein/opt/anaconda3/lib/python3.8/site-packages/sklearn/metrics/_classification.py:1318: UndefinedMetricWarning: Precision and F-score are ill-defined and being set to 0.0 in labels with no predicted samples. Use `zero_division` parameter to control this behavior.\n",
      "  _warn_prf(average, modifier, msg_start, len(result))\n",
      "/Users/quinngoldstein/opt/anaconda3/lib/python3.8/site-packages/sklearn/metrics/_classification.py:1318: UndefinedMetricWarning: Precision and F-score are ill-defined and being set to 0.0 in labels with no predicted samples. Use `zero_division` parameter to control this behavior.\n",
      "  _warn_prf(average, modifier, msg_start, len(result))\n",
      "/Users/quinngoldstein/opt/anaconda3/lib/python3.8/site-packages/sklearn/metrics/_classification.py:1318: UndefinedMetricWarning: Precision and F-score are ill-defined and being set to 0.0 in labels with no predicted samples. Use `zero_division` parameter to control this behavior.\n",
      "  _warn_prf(average, modifier, msg_start, len(result))\n"
     ]
    },
    {
     "name": "stdout",
     "output_type": "stream",
     "text": [
      "19452/19452 [==============================] - 25s 1ms/step - loss: 0.6576 - accuracy: 0.6333\n",
      "Epoch 2/3\n",
      "19452/19452 [==============================] - 14s 730us/step - loss: 0.6576 - accuracy: 0.6333\n",
      "Epoch 3/3\n",
      "19452/19452 [==============================] - 14s 715us/step - loss: 0.6576 - accuracy: 0.6333\n",
      "              precision    recall  f1-score   support\n",
      "\n",
      "       Under       0.64      1.00      0.78      1376\n",
      "        Over       0.00      0.00      0.00       785\n",
      "\n",
      "    accuracy                           0.64      2161\n",
      "   macro avg       0.32      0.50      0.39      2161\n",
      "weighted avg       0.41      0.64      0.50      2161\n",
      "\n",
      "Epoch 1/3\n"
     ]
    },
    {
     "name": "stderr",
     "output_type": "stream",
     "text": [
      "/Users/quinngoldstein/opt/anaconda3/lib/python3.8/site-packages/sklearn/metrics/_classification.py:1318: UndefinedMetricWarning: Precision and F-score are ill-defined and being set to 0.0 in labels with no predicted samples. Use `zero_division` parameter to control this behavior.\n",
      "  _warn_prf(average, modifier, msg_start, len(result))\n",
      "/Users/quinngoldstein/opt/anaconda3/lib/python3.8/site-packages/sklearn/metrics/_classification.py:1318: UndefinedMetricWarning: Precision and F-score are ill-defined and being set to 0.0 in labels with no predicted samples. Use `zero_division` parameter to control this behavior.\n",
      "  _warn_prf(average, modifier, msg_start, len(result))\n",
      "/Users/quinngoldstein/opt/anaconda3/lib/python3.8/site-packages/sklearn/metrics/_classification.py:1318: UndefinedMetricWarning: Precision and F-score are ill-defined and being set to 0.0 in labels with no predicted samples. Use `zero_division` parameter to control this behavior.\n",
      "  _warn_prf(average, modifier, msg_start, len(result))\n",
      "/Users/quinngoldstein/opt/anaconda3/lib/python3.8/site-packages/sklearn/metrics/_classification.py:1318: UndefinedMetricWarning: Precision and F-score are ill-defined and being set to 0.0 in labels with no predicted samples. Use `zero_division` parameter to control this behavior.\n",
      "  _warn_prf(average, modifier, msg_start, len(result))\n",
      "/Users/quinngoldstein/opt/anaconda3/lib/python3.8/site-packages/sklearn/metrics/_classification.py:1318: UndefinedMetricWarning: Precision and F-score are ill-defined and being set to 0.0 in labels with no predicted samples. Use `zero_division` parameter to control this behavior.\n",
      "  _warn_prf(average, modifier, msg_start, len(result))\n",
      "/Users/quinngoldstein/opt/anaconda3/lib/python3.8/site-packages/sklearn/metrics/_classification.py:1318: UndefinedMetricWarning: Precision and F-score are ill-defined and being set to 0.0 in labels with no predicted samples. Use `zero_division` parameter to control this behavior.\n",
      "  _warn_prf(average, modifier, msg_start, len(result))\n"
     ]
    },
    {
     "name": "stdout",
     "output_type": "stream",
     "text": [
      "19452/19452 [==============================] - 15s 732us/step - loss: 0.6570 - accuracy: 0.6342\n",
      "Epoch 2/3\n",
      "19452/19452 [==============================] - 14s 718us/step - loss: 0.6571 - accuracy: 0.6342\n",
      "Epoch 3/3\n",
      "19452/19452 [==============================] - 14s 705us/step - loss: 0.6569 - accuracy: 0.6342\n",
      "              precision    recall  f1-score   support\n",
      "\n",
      "       Under       0.63      1.00      0.77      1357\n",
      "        Over       0.00      0.00      0.00       804\n",
      "\n",
      "    accuracy                           0.63      2161\n",
      "   macro avg       0.31      0.50      0.39      2161\n",
      "weighted avg       0.39      0.63      0.48      2161\n",
      "\n",
      "Epoch 1/3\n"
     ]
    },
    {
     "name": "stderr",
     "output_type": "stream",
     "text": [
      "/Users/quinngoldstein/opt/anaconda3/lib/python3.8/site-packages/sklearn/metrics/_classification.py:1318: UndefinedMetricWarning: Precision and F-score are ill-defined and being set to 0.0 in labels with no predicted samples. Use `zero_division` parameter to control this behavior.\n",
      "  _warn_prf(average, modifier, msg_start, len(result))\n",
      "/Users/quinngoldstein/opt/anaconda3/lib/python3.8/site-packages/sklearn/metrics/_classification.py:1318: UndefinedMetricWarning: Precision and F-score are ill-defined and being set to 0.0 in labels with no predicted samples. Use `zero_division` parameter to control this behavior.\n",
      "  _warn_prf(average, modifier, msg_start, len(result))\n",
      "/Users/quinngoldstein/opt/anaconda3/lib/python3.8/site-packages/sklearn/metrics/_classification.py:1318: UndefinedMetricWarning: Precision and F-score are ill-defined and being set to 0.0 in labels with no predicted samples. Use `zero_division` parameter to control this behavior.\n",
      "  _warn_prf(average, modifier, msg_start, len(result))\n",
      "/Users/quinngoldstein/opt/anaconda3/lib/python3.8/site-packages/sklearn/metrics/_classification.py:1318: UndefinedMetricWarning: Precision and F-score are ill-defined and being set to 0.0 in labels with no predicted samples. Use `zero_division` parameter to control this behavior.\n",
      "  _warn_prf(average, modifier, msg_start, len(result))\n",
      "/Users/quinngoldstein/opt/anaconda3/lib/python3.8/site-packages/sklearn/metrics/_classification.py:1318: UndefinedMetricWarning: Precision and F-score are ill-defined and being set to 0.0 in labels with no predicted samples. Use `zero_division` parameter to control this behavior.\n",
      "  _warn_prf(average, modifier, msg_start, len(result))\n",
      "/Users/quinngoldstein/opt/anaconda3/lib/python3.8/site-packages/sklearn/metrics/_classification.py:1318: UndefinedMetricWarning: Precision and F-score are ill-defined and being set to 0.0 in labels with no predicted samples. Use `zero_division` parameter to control this behavior.\n",
      "  _warn_prf(average, modifier, msg_start, len(result))\n"
     ]
    },
    {
     "name": "stdout",
     "output_type": "stream",
     "text": [
      "19452/19452 [==============================] - 14s 710us/step - loss: 0.6575 - accuracy: 0.6333\n",
      "Epoch 2/3\n",
      "19452/19452 [==============================] - 14s 714us/step - loss: 0.6573 - accuracy: 0.6333\n",
      "Epoch 3/3\n",
      "19452/19452 [==============================] - 14s 709us/step - loss: 0.6575 - accuracy: 0.6333\n",
      "              precision    recall  f1-score   support\n",
      "\n",
      "       Under       0.64      1.00      0.78      1376\n",
      "        Over       0.00      0.00      0.00       785\n",
      "\n",
      "    accuracy                           0.64      2161\n",
      "   macro avg       0.32      0.50      0.39      2161\n",
      "weighted avg       0.41      0.64      0.50      2161\n",
      "\n",
      "Epoch 1/3\n"
     ]
    },
    {
     "name": "stderr",
     "output_type": "stream",
     "text": [
      "/Users/quinngoldstein/opt/anaconda3/lib/python3.8/site-packages/sklearn/metrics/_classification.py:1318: UndefinedMetricWarning: Precision and F-score are ill-defined and being set to 0.0 in labels with no predicted samples. Use `zero_division` parameter to control this behavior.\n",
      "  _warn_prf(average, modifier, msg_start, len(result))\n",
      "/Users/quinngoldstein/opt/anaconda3/lib/python3.8/site-packages/sklearn/metrics/_classification.py:1318: UndefinedMetricWarning: Precision and F-score are ill-defined and being set to 0.0 in labels with no predicted samples. Use `zero_division` parameter to control this behavior.\n",
      "  _warn_prf(average, modifier, msg_start, len(result))\n",
      "/Users/quinngoldstein/opt/anaconda3/lib/python3.8/site-packages/sklearn/metrics/_classification.py:1318: UndefinedMetricWarning: Precision and F-score are ill-defined and being set to 0.0 in labels with no predicted samples. Use `zero_division` parameter to control this behavior.\n",
      "  _warn_prf(average, modifier, msg_start, len(result))\n",
      "/Users/quinngoldstein/opt/anaconda3/lib/python3.8/site-packages/sklearn/metrics/_classification.py:1318: UndefinedMetricWarning: Precision and F-score are ill-defined and being set to 0.0 in labels with no predicted samples. Use `zero_division` parameter to control this behavior.\n",
      "  _warn_prf(average, modifier, msg_start, len(result))\n",
      "/Users/quinngoldstein/opt/anaconda3/lib/python3.8/site-packages/sklearn/metrics/_classification.py:1318: UndefinedMetricWarning: Precision and F-score are ill-defined and being set to 0.0 in labels with no predicted samples. Use `zero_division` parameter to control this behavior.\n",
      "  _warn_prf(average, modifier, msg_start, len(result))\n",
      "/Users/quinngoldstein/opt/anaconda3/lib/python3.8/site-packages/sklearn/metrics/_classification.py:1318: UndefinedMetricWarning: Precision and F-score are ill-defined and being set to 0.0 in labels with no predicted samples. Use `zero_division` parameter to control this behavior.\n",
      "  _warn_prf(average, modifier, msg_start, len(result))\n"
     ]
    },
    {
     "name": "stdout",
     "output_type": "stream",
     "text": [
      "19452/19452 [==============================] - 15s 736us/step - loss: 0.6575 - accuracy: 0.6331\n",
      "Epoch 2/3\n",
      "19452/19452 [==============================] - 14s 707us/step - loss: 0.6576 - accuracy: 0.6331\n",
      "Epoch 3/3\n",
      "19452/19452 [==============================] - 14s 708us/step - loss: 0.6575 - accuracy: 0.6331\n",
      "              precision    recall  f1-score   support\n",
      "\n",
      "       Under       0.64      1.00      0.78      1379\n",
      "        Over       0.00      0.00      0.00       782\n",
      "\n",
      "    accuracy                           0.64      2161\n",
      "   macro avg       0.32      0.50      0.39      2161\n",
      "weighted avg       0.41      0.64      0.50      2161\n",
      "\n",
      "Epoch 1/3\n"
     ]
    },
    {
     "name": "stderr",
     "output_type": "stream",
     "text": [
      "/Users/quinngoldstein/opt/anaconda3/lib/python3.8/site-packages/sklearn/metrics/_classification.py:1318: UndefinedMetricWarning: Precision and F-score are ill-defined and being set to 0.0 in labels with no predicted samples. Use `zero_division` parameter to control this behavior.\n",
      "  _warn_prf(average, modifier, msg_start, len(result))\n",
      "/Users/quinngoldstein/opt/anaconda3/lib/python3.8/site-packages/sklearn/metrics/_classification.py:1318: UndefinedMetricWarning: Precision and F-score are ill-defined and being set to 0.0 in labels with no predicted samples. Use `zero_division` parameter to control this behavior.\n",
      "  _warn_prf(average, modifier, msg_start, len(result))\n",
      "/Users/quinngoldstein/opt/anaconda3/lib/python3.8/site-packages/sklearn/metrics/_classification.py:1318: UndefinedMetricWarning: Precision and F-score are ill-defined and being set to 0.0 in labels with no predicted samples. Use `zero_division` parameter to control this behavior.\n",
      "  _warn_prf(average, modifier, msg_start, len(result))\n",
      "/Users/quinngoldstein/opt/anaconda3/lib/python3.8/site-packages/sklearn/metrics/_classification.py:1318: UndefinedMetricWarning: Precision and F-score are ill-defined and being set to 0.0 in labels with no predicted samples. Use `zero_division` parameter to control this behavior.\n",
      "  _warn_prf(average, modifier, msg_start, len(result))\n",
      "/Users/quinngoldstein/opt/anaconda3/lib/python3.8/site-packages/sklearn/metrics/_classification.py:1318: UndefinedMetricWarning: Precision and F-score are ill-defined and being set to 0.0 in labels with no predicted samples. Use `zero_division` parameter to control this behavior.\n",
      "  _warn_prf(average, modifier, msg_start, len(result))\n",
      "/Users/quinngoldstein/opt/anaconda3/lib/python3.8/site-packages/sklearn/metrics/_classification.py:1318: UndefinedMetricWarning: Precision and F-score are ill-defined and being set to 0.0 in labels with no predicted samples. Use `zero_division` parameter to control this behavior.\n",
      "  _warn_prf(average, modifier, msg_start, len(result))\n"
     ]
    },
    {
     "name": "stdout",
     "output_type": "stream",
     "text": [
      "19452/19452 [==============================] - 14s 720us/step - loss: 0.6576 - accuracy: 0.6328\n",
      "Epoch 2/3\n",
      "19452/19452 [==============================] - 14s 712us/step - loss: 0.6577 - accuracy: 0.6328\n",
      "Epoch 3/3\n",
      "19452/19452 [==============================] - 14s 711us/step - loss: 0.6577 - accuracy: 0.6328\n",
      "              precision    recall  f1-score   support\n",
      "\n",
      "       Under       0.64      1.00      0.78      1385\n",
      "        Over       0.00      0.00      0.00       776\n",
      "\n",
      "    accuracy                           0.64      2161\n",
      "   macro avg       0.32      0.50      0.39      2161\n",
      "weighted avg       0.41      0.64      0.50      2161\n",
      "\n",
      "Epoch 1/3\n"
     ]
    },
    {
     "name": "stderr",
     "output_type": "stream",
     "text": [
      "/Users/quinngoldstein/opt/anaconda3/lib/python3.8/site-packages/sklearn/metrics/_classification.py:1318: UndefinedMetricWarning: Precision and F-score are ill-defined and being set to 0.0 in labels with no predicted samples. Use `zero_division` parameter to control this behavior.\n",
      "  _warn_prf(average, modifier, msg_start, len(result))\n",
      "/Users/quinngoldstein/opt/anaconda3/lib/python3.8/site-packages/sklearn/metrics/_classification.py:1318: UndefinedMetricWarning: Precision and F-score are ill-defined and being set to 0.0 in labels with no predicted samples. Use `zero_division` parameter to control this behavior.\n",
      "  _warn_prf(average, modifier, msg_start, len(result))\n",
      "/Users/quinngoldstein/opt/anaconda3/lib/python3.8/site-packages/sklearn/metrics/_classification.py:1318: UndefinedMetricWarning: Precision and F-score are ill-defined and being set to 0.0 in labels with no predicted samples. Use `zero_division` parameter to control this behavior.\n",
      "  _warn_prf(average, modifier, msg_start, len(result))\n",
      "/Users/quinngoldstein/opt/anaconda3/lib/python3.8/site-packages/sklearn/metrics/_classification.py:1318: UndefinedMetricWarning: Precision and F-score are ill-defined and being set to 0.0 in labels with no predicted samples. Use `zero_division` parameter to control this behavior.\n",
      "  _warn_prf(average, modifier, msg_start, len(result))\n",
      "/Users/quinngoldstein/opt/anaconda3/lib/python3.8/site-packages/sklearn/metrics/_classification.py:1318: UndefinedMetricWarning: Precision and F-score are ill-defined and being set to 0.0 in labels with no predicted samples. Use `zero_division` parameter to control this behavior.\n",
      "  _warn_prf(average, modifier, msg_start, len(result))\n",
      "/Users/quinngoldstein/opt/anaconda3/lib/python3.8/site-packages/sklearn/metrics/_classification.py:1318: UndefinedMetricWarning: Precision and F-score are ill-defined and being set to 0.0 in labels with no predicted samples. Use `zero_division` parameter to control this behavior.\n",
      "  _warn_prf(average, modifier, msg_start, len(result))\n"
     ]
    },
    {
     "name": "stdout",
     "output_type": "stream",
     "text": [
      "19452/19452 [==============================] - 14s 717us/step - loss: 0.6570 - accuracy: 0.6339\n",
      "Epoch 2/3\n",
      "19452/19452 [==============================] - 14s 716us/step - loss: 0.6570 - accuracy: 0.6339\n",
      "Epoch 3/3\n",
      "19452/19452 [==============================] - 14s 710us/step - loss: 0.6571 - accuracy: 0.6339\n",
      "              precision    recall  f1-score   support\n",
      "\n",
      "       Under       0.63      1.00      0.77      1364\n",
      "        Over       0.00      0.00      0.00       797\n",
      "\n",
      "    accuracy                           0.63      2161\n",
      "   macro avg       0.32      0.50      0.39      2161\n",
      "weighted avg       0.40      0.63      0.49      2161\n",
      "\n",
      "Average precision: 0.3598335338730582\n",
      "Average recall: 0.5109876476054487\n",
      "Average accuracy: 0.6410476956526019\n"
     ]
    },
    {
     "name": "stderr",
     "output_type": "stream",
     "text": [
      "/Users/quinngoldstein/opt/anaconda3/lib/python3.8/site-packages/sklearn/metrics/_classification.py:1318: UndefinedMetricWarning: Precision and F-score are ill-defined and being set to 0.0 in labels with no predicted samples. Use `zero_division` parameter to control this behavior.\n",
      "  _warn_prf(average, modifier, msg_start, len(result))\n",
      "/Users/quinngoldstein/opt/anaconda3/lib/python3.8/site-packages/sklearn/metrics/_classification.py:1318: UndefinedMetricWarning: Precision and F-score are ill-defined and being set to 0.0 in labels with no predicted samples. Use `zero_division` parameter to control this behavior.\n",
      "  _warn_prf(average, modifier, msg_start, len(result))\n",
      "/Users/quinngoldstein/opt/anaconda3/lib/python3.8/site-packages/sklearn/metrics/_classification.py:1318: UndefinedMetricWarning: Precision and F-score are ill-defined and being set to 0.0 in labels with no predicted samples. Use `zero_division` parameter to control this behavior.\n",
      "  _warn_prf(average, modifier, msg_start, len(result))\n",
      "/Users/quinngoldstein/opt/anaconda3/lib/python3.8/site-packages/sklearn/metrics/_classification.py:1318: UndefinedMetricWarning: Precision and F-score are ill-defined and being set to 0.0 in labels with no predicted samples. Use `zero_division` parameter to control this behavior.\n",
      "  _warn_prf(average, modifier, msg_start, len(result))\n",
      "/Users/quinngoldstein/opt/anaconda3/lib/python3.8/site-packages/sklearn/metrics/_classification.py:1318: UndefinedMetricWarning: Precision and F-score are ill-defined and being set to 0.0 in labels with no predicted samples. Use `zero_division` parameter to control this behavior.\n",
      "  _warn_prf(average, modifier, msg_start, len(result))\n",
      "/Users/quinngoldstein/opt/anaconda3/lib/python3.8/site-packages/sklearn/metrics/_classification.py:1318: UndefinedMetricWarning: Precision and F-score are ill-defined and being set to 0.0 in labels with no predicted samples. Use `zero_division` parameter to control this behavior.\n",
      "  _warn_prf(average, modifier, msg_start, len(result))\n"
     ]
    }
   ],
   "source": [
    "from sklearn.model_selection import KFold # import k-fold validation\n",
    "\n",
    "# We use bedrooms, bathrooms, sqft_living, sqft_lot, and 'most_recent' attributes\n",
    "X = df[['bedrooms', 'bathrooms', 'sqft_living', 'sqft_lot', 'most_recent']]\n",
    "y = df['price_range']\n",
    "\n",
    "# Split the data up in train and test sets\n",
    "X_train, X_test, y_train, y_test = train_test_split(X, y, test_size=0.33, random_state=42)\n",
    "\n",
    "target_names = ['Under', 'Over']\n",
    "\n",
    "# construct a model\n",
    "model = keras.models.Sequential([\n",
    "    keras.layers.Dense(15, activation='relu', input_shape=(5,)),\n",
    "    keras.layers.Dense(15, activation='relu'),\n",
    "    keras.layers.Dense(15, activation='relu'),\n",
    "    keras.layers.Dense(1, activation='sigmoid')\n",
    "])\n",
    "\n",
    "kf = KFold(n_splits=10, random_state=None, shuffle=True) \n",
    "precision_sum = recall_sum = accuracy_sum = 0\n",
    "\n",
    "# DataFrame for storing validation metrics\n",
    "metrics_df = pd.DataFrame(columns = ['precision', 'recall', 'accuracy'])\n",
    "\n",
    "for train_index, test_index in kf.split(X):\n",
    "    X_train, X_test = X.iloc[train_index], X.iloc[test_index]\n",
    "    y_train, y_test = y.iloc[train_index], y.iloc[test_index]\n",
    "\n",
    "    model.compile(loss='binary_crossentropy',\n",
    "              optimizer='adam',\n",
    "              metrics=['accuracy'])\n",
    "                   \n",
    "    model.fit(X_train, y_train,epochs=3, batch_size=1, verbose=1)\n",
    "    \n",
    "    y_pred = (model.predict(X_test) > 0.5).astype(\"int32\")\n",
    "    \n",
    "    # plot a confusion matrix\n",
    "    confusion_mat = confusion_matrix(y_test, y_pred)\n",
    "    \n",
    "    # classification report\n",
    "    print(classification_report(y_test, y_pred, target_names=target_names))  \n",
    "    result_metrics_dict = classification_report(y_test, y_pred, target_names=target_names, output_dict=True)\n",
    "    \n",
    "    precision_sum += result_metrics_dict[\"macro avg\"][\"precision\"]\n",
    "    recall_sum += result_metrics_dict[\"macro avg\"][\"recall\"]\n",
    "    accuracy_sum += result_metrics_dict[\"accuracy\"]\n",
    "    \n",
    "    metrics_list = []\n",
    "    metrics_list.append(result_metrics_dict[\"macro avg\"][\"precision\"])\n",
    "    metrics_list.append(result_metrics_dict[\"macro avg\"][\"recall\"])\n",
    "    metrics_list.append(result_metrics_dict[\"accuracy\"])\n",
    "    \n",
    "    metrics_series = pd.Series(metrics_list, index=metrics_df.columns)\n",
    "    metrics_df = metrics_df.append(metrics_series, ignore_index=True)\n",
    "\n",
    "print(\"Average precision:\", precision_sum/kf.get_n_splits(X))\n",
    "print(\"Average recall:\", recall_sum/kf.get_n_splits(X))\n",
    "print(\"Average accuracy:\", accuracy_sum/kf.get_n_splits(X))\n",
    "\n",
    "#os.makedirs('./MLP4_data', exist_ok=True)  \n",
    "metrics_df.to_csv('./MLP4_data/nn_bestmodel_metrics.csv')"
   ]
  },
  {
   "cell_type": "markdown",
   "metadata": {},
   "source": [
    "### Learning curve"
   ]
  },
  {
   "cell_type": "code",
   "execution_count": 41,
   "metadata": {
    "scrolled": true
   },
   "outputs": [
    {
     "name": "stdout",
     "output_type": "stream",
     "text": [
      "Epoch 1/3\n",
      "14480/14480 [==============================] - 16s 1ms/step - loss: 0.6569 - accuracy: 0.6341 - val_loss: 0.6580 - val_accuracy: 0.6326\n",
      "Epoch 2/3\n",
      "14480/14480 [==============================] - 14s 950us/step - loss: 0.6570 - accuracy: 0.6341 - val_loss: 0.6576 - val_accuracy: 0.6326\n",
      "Epoch 3/3\n",
      "14480/14480 [==============================] - 13s 930us/step - loss: 0.6569 - accuracy: 0.6341 - val_loss: 0.6576 - val_accuracy: 0.6326\n"
     ]
    },
    {
     "data": {
      "text/plain": [
       "<matplotlib.legend.Legend at 0x7f9aa0970fd0>"
      ]
     },
     "execution_count": 41,
     "metadata": {},
     "output_type": "execute_result"
    },
    {
     "data": {
      "image/png": "[encoded data removed]",
      "text/plain": [
       "<Figure size 1008x432 with 2 Axes>"
      ]
     },
     "metadata": {
      "needs_background": "light"
     },
     "output_type": "display_data"
    }
   ],
   "source": [
    "# This code sourced from the website below\n",
    "# https://vitalflux.com/python-keras-learning-validation-curve-classification-model/\n",
    "\n",
    "X_train, X_test, y_train, y_test = train_test_split(X, y, test_size=0.33, random_state=42)\n",
    "\n",
    "model.compile(loss='binary_crossentropy',\n",
    "              optimizer='adam',\n",
    "              metrics=['accuracy'])\n",
    "    \n",
    "fit_data = model.fit(X_train, y_train,\n",
    "                    validation_data=(X_test, y_test),\n",
    "                    epochs=3,\n",
    "                    batch_size=1,\n",
    "                    verbose=1)\n",
    "\n",
    "model_dict = fit_data.history\n",
    "loss_values = model_dict['loss']\n",
    "val_loss_values = model_dict['val_loss']\n",
    "accuracy = model_dict['accuracy']\n",
    "val_accuracy = model_dict['val_accuracy']\n",
    " \n",
    "epochs = range(1, len(loss_values) + 1)\n",
    "fig, ax = plt.subplots(1, 2, figsize=(14, 6))\n",
    "#\n",
    "# Plot the model accuracy vs Epochs\n",
    "#\n",
    "ax[0].plot(epochs, accuracy, 'bo', label='Training accuracy')\n",
    "ax[0].plot(epochs, val_accuracy, 'b', label='Validation accuracy')\n",
    "ax[0].set_title('Training & Validation Accuracy', fontsize=16)\n",
    "ax[0].set_xlabel('Epochs', fontsize=16)\n",
    "ax[0].set_ylabel('Accuracy', fontsize=16)\n",
    "ax[0].legend()\n",
    "#\n",
    "# Plot the loss vs Epochs\n",
    "#\n",
    "ax[1].plot(epochs, loss_values, 'bo', label='Training loss')\n",
    "ax[1].plot(epochs, val_loss_values, 'b', label='Validation loss')\n",
    "ax[1].set_title('Training & Validation Loss', fontsize=16)\n",
    "ax[1].set_xlabel('Epochs', fontsize=16)\n",
    "ax[1].set_ylabel('Loss', fontsize=16)\n",
    "ax[1].legend()"
   ]
  },
  {
   "cell_type": "code",
   "execution_count": 40,
   "metadata": {},
   "outputs": [
    {
     "name": "stdout",
     "output_type": "stream",
     "text": [
      "{'loss': [0.6567673087120056, 0.6567881107330322, 0.6567769050598145, 0.656779944896698], 'accuracy': [0.634115993976593, 0.634115993976593, 0.634115993976593, 0.634115993976593], 'val_loss': [0.6576083898544312, 0.6575921773910522, 0.6575875282287598, 0.6575829386711121], 'val_accuracy': [0.6325529217720032, 0.6325529217720032, 0.6325529217720032, 0.6325529217720032]}\n"
     ]
    }
   ],
   "source": [
    "print(model_dict)"
   ]
  },
  {
   "cell_type": "code",
   "execution_count": 45,
   "metadata": {},
   "outputs": [
    {
     "data": {
      "text/plain": [
       "<matplotlib.legend.Legend at 0x7f9aa1f485e0>"
      ]
     },
     "execution_count": 45,
     "metadata": {},
     "output_type": "execute_result"
    },
    {
     "data": {
      "image/png": "[encoded data removed]",
      "text/plain": [
       "<Figure size 1008x432 with 2 Axes>"
      ]
     },
     "metadata": {
      "needs_background": "light"
     },
     "output_type": "display_data"
    }
   ],
   "source": [
    "# This code sourced from site below\n",
    "# https://vitalflux.com/python-keras-learning-validation-curve-classification-model/\n",
    "\n",
    "model_dict = fit_data.history\n",
    "loss_values = model_dict['loss']\n",
    "val_loss_values = model_dict['val_loss']\n",
    "accuracy = model_dict['accuracy']\n",
    "val_accuracy = model_dict['val_accuracy']\n",
    " \n",
    "epochs = range(1, len(loss_values) + 1)\n",
    "fig, ax = plt.subplots(1, 2, figsize=(14, 6))\n",
    "#\n",
    "# Plot the model accuracy vs Epochs\n",
    "#\n",
    "ax[0].plot(epochs, accuracy, 'o-', color='r', label='Training accuracy')\n",
    "ax[0].plot(epochs, val_accuracy, 'o-', color='g', label='Validation accuracy')\n",
    "ax[0].set_title('Training & Validation Accuracy', fontsize=16)\n",
    "ax[0].set_xlabel('Epochs', fontsize=16)\n",
    "ax[0].set_ylabel('Accuracy', fontsize=16)\n",
    "ax[0].legend()\n",
    "#\n",
    "# Plot the loss vs Epochs\n",
    "#\n",
    "ax[1].plot(epochs, loss_values, 'o-', color='r', label='Training loss')\n",
    "ax[1].plot(epochs, val_loss_values, 'o-', color='g', label='Validation loss')\n",
    "ax[1].set_title('Training & Validation Loss', fontsize=16)\n",
    "ax[1].set_xlabel('Epochs', fontsize=16)\n",
    "ax[1].set_ylabel('Loss', fontsize=16)\n",
    "ax[1].legend()"
   ]
  },
  {
   "cell_type": "markdown",
   "metadata": {},
   "source": [
    "### Model improvement: Random Forest Classifier"
   ]
  },
  {
   "cell_type": "code",
   "execution_count": 47,
   "metadata": {},
   "outputs": [],
   "source": [
    "from sklearn.ensemble import RandomForestClassifier\n",
    "from sklearn.model_selection import train_test_split"
   ]
  },
  {
   "cell_type": "code",
   "execution_count": 48,
   "metadata": {},
   "outputs": [
    {
     "name": "stdout",
     "output_type": "stream",
     "text": [
      "Random Forest, Housing dataset, entropy tree with 10 trees\n",
      "Accuracy of RF classifier on training set: 0.98\n",
      "Accuracy of RF classifier on test set: 0.79\n",
      "\n",
      "Random Forest, Housing dataset, gini tree with 10 trees\n",
      "Accuracy of RF classifier on training set: 0.98\n",
      "Accuracy of RF classifier on test set: 0.79\n",
      "\n",
      "Random Forest, Housing dataset, entropy tree with 100 trees\n",
      "Accuracy of RF classifier on training set: 1.00\n",
      "Accuracy of RF classifier on test set: 0.81\n",
      "\n",
      "Random Forest, Housing dataset, gini tree with 100 trees\n",
      "Accuracy of RF classifier on training set: 1.00\n",
      "Accuracy of RF classifier on test set: 0.81\n"
     ]
    }
   ],
   "source": [
    "X_train, X_test, y_train, y_test = train_test_split(X, y,\n",
    "                                                   random_state = 0)\n",
    "\n",
    "# Random forest classifier using 10 entropy trees\n",
    "clf = RandomForestClassifier(n_estimators = 10,\n",
    "                            random_state=0, criterion=\"entropy\").fit(X_train, y_train)\n",
    "\n",
    "print('Random Forest, Housing dataset, entropy tree with 10 trees')\n",
    "print('Accuracy of RF classifier on training set: {:.2f}'\n",
    "     .format(clf.score(X_train, y_train)))\n",
    "print('Accuracy of RF classifier on test set: {:.2f}'\n",
    "     .format(clf.score(X_test, y_test)))\n",
    "print()\n",
    "\n",
    "# Random forest classifier using 10 gini trees\n",
    "clf = RandomForestClassifier(n_estimators = 10,\n",
    "                            random_state=0, criterion=\"gini\").fit(X_train, y_train)\n",
    "\n",
    "print('Random Forest, Housing dataset, gini tree with 10 trees')\n",
    "print('Accuracy of RF classifier on training set: {:.2f}'\n",
    "     .format(clf.score(X_train, y_train)))\n",
    "print('Accuracy of RF classifier on test set: {:.2f}'\n",
    "     .format(clf.score(X_test, y_test)))\n",
    "print()\n",
    "\n",
    "# Random forest classifier using 100 entropy trees\n",
    "clf = RandomForestClassifier(n_estimators = 100,\n",
    "                            random_state=0, criterion=\"entropy\").fit(X_train, y_train)\n",
    "\n",
    "print('Random Forest, Housing dataset, entropy tree with 100 trees')\n",
    "print('Accuracy of RF classifier on training set: {:.2f}'\n",
    "     .format(clf.score(X_train, y_train)))\n",
    "print('Accuracy of RF classifier on test set: {:.2f}'\n",
    "     .format(clf.score(X_test, y_test)))\n",
    "print()\n",
    "\n",
    "# Random forest classifier using 100 gini trees\n",
    "clf = RandomForestClassifier(n_estimators = 100,\n",
    "                            random_state=0, criterion=\"gini\").fit(X_train, y_train)\n",
    "\n",
    "print('Random Forest, Housing dataset, gini tree with 100 trees')\n",
    "print('Accuracy of RF classifier on training set: {:.2f}'\n",
    "     .format(clf.score(X_train, y_train)))\n",
    "print('Accuracy of RF classifier on test set: {:.2f}'\n",
    "     .format(clf.score(X_test, y_test)))"
   ]
  },
  {
   "cell_type": "code",
   "execution_count": 51,
   "metadata": {
    "scrolled": true
   },
   "outputs": [
    {
     "name": "stdout",
     "output_type": "stream",
     "text": [
      "              precision    recall  f1-score   support\n",
      "\n",
      "       Under       0.84      0.85      0.84      1415\n",
      "        Over       0.71      0.69      0.70       747\n",
      "\n",
      "    accuracy                           0.79      2162\n",
      "   macro avg       0.77      0.77      0.77      2162\n",
      "weighted avg       0.79      0.79      0.79      2162\n",
      "\n",
      "              precision    recall  f1-score   support\n",
      "\n",
      "       Under       0.82      0.86      0.84      1376\n",
      "        Over       0.73      0.68      0.70       786\n",
      "\n",
      "    accuracy                           0.79      2162\n",
      "   macro avg       0.78      0.77      0.77      2162\n",
      "weighted avg       0.79      0.79      0.79      2162\n",
      "\n",
      "              precision    recall  f1-score   support\n",
      "\n",
      "       Under       0.83      0.86      0.84      1382\n",
      "        Over       0.73      0.69      0.71       780\n",
      "\n",
      "    accuracy                           0.80      2162\n",
      "   macro avg       0.78      0.77      0.78      2162\n",
      "weighted avg       0.80      0.80      0.80      2162\n",
      "\n",
      "              precision    recall  f1-score   support\n",
      "\n",
      "       Under       0.83      0.87      0.85      1375\n",
      "        Over       0.75      0.68      0.72       786\n",
      "\n",
      "    accuracy                           0.80      2161\n",
      "   macro avg       0.79      0.78      0.78      2161\n",
      "weighted avg       0.80      0.80      0.80      2161\n",
      "\n",
      "              precision    recall  f1-score   support\n",
      "\n",
      "       Under       0.82      0.86      0.84      1372\n",
      "        Over       0.74      0.68      0.71       789\n",
      "\n",
      "    accuracy                           0.80      2161\n",
      "   macro avg       0.78      0.77      0.78      2161\n",
      "weighted avg       0.79      0.80      0.79      2161\n",
      "\n",
      "              precision    recall  f1-score   support\n",
      "\n",
      "       Under       0.82      0.87      0.84      1361\n",
      "        Over       0.75      0.68      0.71       800\n",
      "\n",
      "    accuracy                           0.80      2161\n",
      "   macro avg       0.79      0.77      0.78      2161\n",
      "weighted avg       0.80      0.80      0.80      2161\n",
      "\n",
      "              precision    recall  f1-score   support\n",
      "\n",
      "       Under       0.82      0.87      0.84      1326\n",
      "        Over       0.77      0.70      0.73       835\n",
      "\n",
      "    accuracy                           0.80      2161\n",
      "   macro avg       0.79      0.78      0.79      2161\n",
      "weighted avg       0.80      0.80      0.80      2161\n",
      "\n",
      "              precision    recall  f1-score   support\n",
      "\n",
      "       Under       0.83      0.87      0.85      1326\n",
      "        Over       0.78      0.71      0.74       835\n",
      "\n",
      "    accuracy                           0.81      2161\n",
      "   macro avg       0.80      0.79      0.80      2161\n",
      "weighted avg       0.81      0.81      0.81      2161\n",
      "\n",
      "              precision    recall  f1-score   support\n",
      "\n",
      "       Under       0.82      0.87      0.84      1356\n",
      "        Over       0.76      0.67      0.71       805\n",
      "\n",
      "    accuracy                           0.80      2161\n",
      "   macro avg       0.79      0.77      0.78      2161\n",
      "weighted avg       0.79      0.80      0.79      2161\n",
      "\n",
      "              precision    recall  f1-score   support\n",
      "\n",
      "       Under       0.83      0.88      0.85      1405\n",
      "        Over       0.75      0.67      0.71       756\n",
      "\n",
      "    accuracy                           0.81      2161\n",
      "   macro avg       0.79      0.78      0.78      2161\n",
      "weighted avg       0.80      0.81      0.80      2161\n",
      "\n",
      "Average precision (ENTROPYx100): 0.7860974268235438\n",
      "Average recall (ENTROPYx100): 0.7752705205016354\n",
      "Average accuracy (ENTROPYx100): 0.7992881546171493\n"
     ]
    }
   ],
   "source": [
    "from sklearn.tree import DecisionTreeClassifier\n",
    "from sklearn.model_selection import KFold # import k-fold validation\n",
    "\n",
    "# Using random forest classifier with 100 entropy trees\n",
    "clf = RandomForestClassifier(n_estimators = 100,\n",
    "                            random_state=0, criterion=\"entropy\").fit(X_train, y_train)\n",
    "\n",
    "# k-fold cross validation (k=10)\n",
    "kf = KFold(n_splits=10, random_state=None, shuffle=True) # Define the split - into 2 folds\n",
    "precision_sum = recall_sum = accuracy_sum = 0\n",
    "\n",
    "# DataFrame for storing validation metrics\n",
    "metrics_df = pd.DataFrame(columns = ['precision', 'recall', 'accuracy'])\n",
    "\n",
    "# each fold\n",
    "for train_index, test_index in kf.split(X):\n",
    "    #print(\"TRAIN:\", train_index, \"TEST:\", test_index)\n",
    "    X_train, X_test = X.iloc[train_index], X.iloc[test_index]\n",
    "    y_train, y_test = y.iloc[train_index], y.iloc[test_index]\n",
    "\n",
    "    clf.fit(X_train, y_train)\n",
    "    \n",
    "    y_pred = clf.predict(X_test)\n",
    "    \n",
    "    # Print classification report\n",
    "    print(classification_report(y_test, y_pred, target_names=target_names))\n",
    "    \n",
    "    result_metrics_dict = classification_report(y_test, y_pred, target_names=target_names, output_dict=True)\n",
    "    \n",
    "    precision_sum += result_metrics_dict[\"macro avg\"][\"precision\"]\n",
    "    recall_sum += result_metrics_dict[\"macro avg\"][\"recall\"]\n",
    "    accuracy_sum += result_metrics_dict[\"accuracy\"]\n",
    "    \n",
    "    # Store metrics data for later analysis\n",
    "    metrics_list = []\n",
    "    metrics_list.append(result_metrics_dict[\"macro avg\"][\"precision\"])\n",
    "    metrics_list.append(result_metrics_dict[\"macro avg\"][\"recall\"])\n",
    "    metrics_list.append(result_metrics_dict[\"accuracy\"])\n",
    "    \n",
    "    metrics_series = pd.Series(metrics_list, index=metrics_df.columns)\n",
    "    metrics_df = metrics_df.append(metrics_series, ignore_index=True)\n",
    "\n",
    "print(\"Average precision (ENTROPYx100):\", precision_sum/kf.get_n_splits(X))\n",
    "print(\"Average recall (ENTROPYx100):\", recall_sum/kf.get_n_splits(X))\n",
    "print(\"Average accuracy (ENTROPYx100):\", accuracy_sum/kf.get_n_splits(X))\n",
    "\n",
    "# os.makedirs('./MLP3_data', exist_ok=True)\n",
    "metrics_df.to_csv('./MLP3_data/randomforest_metrics.csv')"
   ]
  }
 ],
 "metadata": {
  "kernelspec": {
   "display_name": "Python 3",
   "language": "python",
   "name": "python3"
  },
  "language_info": {
   "codemirror_mode": {
    "name": "ipython",
    "version": 3
   },
   "file_extension": ".py",
   "mimetype": "text/x-python",
   "name": "python",
   "nbconvert_exporter": "python",
   "pygments_lexer": "ipython3",
   "version": "3.8.5"
  }
 },
 "nbformat": 4,
 "nbformat_minor": 4
}
